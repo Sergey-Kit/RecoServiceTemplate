{
  "cells": [
    {
      "cell_type": "markdown",
      "metadata": {
        "id": "S10QSboi6Ivr"
      },
      "source": [
        "# Обучение и валидация на датасете KION"
      ]
    },
    {
      "cell_type": "code",
      "source": [
        "!pip install -r https://raw.githubusercontent.com/Sergey-Kit/RecoServiceTemplate/hw_3/notebooks/requirements.txt"
      ],
      "metadata": {
        "id": "ujIdIoRdOgiR",
        "colab": {
          "base_uri": "https://localhost:8080/"
        },
        "outputId": "346a34c9-64ab-4993-a939-d2f4ec48e825"
      },
      "execution_count": 8,
      "outputs": [
        {
            "Successfully installed implicit-0.7.2 rectools-0.4.1 typeguard-2.13.3\n"
          ]
        }
      ]
    },
    {
      "cell_type": "code",
      "execution_count": 10,
      "metadata": {
        "tags": [],
        "id": "fyb9NwhM6Ivu",
        "colab": {
          "base_uri": "https://localhost:8080/"
        },
        "outputId": "a6205b49-fe0e-430e-fd17-bfc1c245f094"
      },
      "outputs": [
        {
          "output_type": "stream",
          "name": "stderr",
          "text": [
            "/usr/local/lib/python3.10/dist-packages/implicit/gpu/__init__.py:13: UserWarning: CUDA extension is built, but disabling GPU support because of 'Cuda Error: CUDA driver version is insufficient for CUDA runtime version (/project/./implicit/gpu/utils.h:71)'\n",
            "  warnings.warn(\n"
          ]
        }
      ],
      "source": [
        "from pprint import pprint\n",
        "\n",
        "import numpy as np\n",
        "import pandas as pd\n",
        "\n",
        "from tqdm.auto import tqdm\n",
        "\n",
        "from rectools import Columns\n",
        "from rectools.dataset import Interactions, Dataset\n",
        "from rectools.metrics import Precision, Recall, calc_metrics\n",
        "from rectools.metrics import NDCG, MAP, MeanInvUserFreq, Serendipity\n",
        "from rectools.models import PopularModel\n",
        "from rectools.model_selection import TimeRangeSplitter\n",
        "\n",
        "from implicit.nearest_neighbours import CosineRecommender\n",
        "import dill\n",
        "\n",
        "RANDOM_STATE = 32"
      ]
    },
    {
      "cell_type": "code",
      "source": [
        "from userknn import UserKnn"
      ],
      "metadata": {
        "id": "OmSKLwSknsiZ"
      },
      "execution_count": 12,
      "outputs": []
    },
    {
      "cell_type": "markdown",
      "metadata": {
        "id": "NB8p8yAE6Ivw"
      },
      "source": [
        "## Load data"
      ]
    },
    {
      "cell_type": "code",
      "source": [
        "!wget -q https://github.com/irsafilo/KION_DATASET/raw/f69775be31fa5779907cf0a92ddedb70037fb5ae/data_original.zip -O data_KION.zip\n",
        "!unzip -o data_KION.zip\n",
        "!rm data_KION.zip"
      ],
      "metadata": {
        "colab": {
          "base_uri": "https://localhost:8080/"
        },
        "id": "LSu2sLFIAcWF",
        "outputId": "04b7efe4-f52e-4d78-8628-2d26a73b3388"
      },
      "execution_count": 13,
      "outputs": [
        {
          "output_type": "stream",
          "name": "stdout",
          "text": [
            "Archive:  data_KION.zip\n",
            "  inflating: data_original/interactions.csv  \n",
            "  inflating: __MACOSX/data_original/._interactions.csv  \n",
            "  inflating: data_original/users.csv  \n",
            "  inflating: __MACOSX/data_original/._users.csv  \n",
            "  inflating: data_original/items.csv  \n",
            "  inflating: __MACOSX/data_original/._items.csv  \n"
          ]
        }
      ]
    },
    {
      "cell_type": "code",
      "source": [
        "items = pd.read_csv(\n",
        "    \"data_original/items.csv\",\n",
        "    header=None,\n",
        "    skiprows=[0],\n",
        "    names=[\n",
        "           Columns.Item,\n",
        "           'content_type',\n",
        "           'title',\n",
        "           'title_orig',\n",
        "           'release_year',\n",
        "           'genres',\n",
        "           'countries',\n",
        "           'for_kids',\n",
        "           'age_rating',\n",
        "           'studios',\n",
        "           'directors',\n",
        "           'actors',\n",
        "           'description',\n",
        "           'keywords',\n",
        "          ],\n",
        "    )\n",
        "selected_columns = [\n",
        "                    Columns.Item,\n",
        "                    'title',\n",
        "                    'genres',\n",
        "                    'countries',\n",
        "                    'age_rating'\n",
        "                   ]\n",
        "items = items.loc[:, selected_columns]\n",
        "\n",
        "interactions_raw = pd.read_csv(\n",
        "    \"data_original/interactions.csv\",\n",
        "    header=None,\n",
        "    skiprows=[0],\n",
        "    names=[\n",
        "           Columns.User,\n",
        "           Columns.Item,\n",
        "           Columns.Datetime,\n",
        "           Columns.Weight,\n",
        "           'pcnt'\n",
        "          ],\n",
        ")\n",
        "interactions_raw[\"datetime\"] = pd.to_datetime(interactions_raw[\"datetime\"])\n",
        "interactions = Interactions(interactions_raw)"
      ],
      "metadata": {
        "id": "_L4MQxsZtt8a"
      },
      "execution_count": 17,
      "outputs": []
    },
    {
      "cell_type": "code",
      "source": [
        "users = pd.read_csv(\n",
        "    \"data_original/users.csv\",\n",
        "    header=None,\n",
        "    skiprows=[0],\n",
        "    names=[Columns.User, 'age', 'income', 'sex', 'kids_flg'],\n",
        "    )"
      ],
      "metadata": {
        "id": "maHh-E1RhuhH"
      },
      "execution_count": 18,
      "outputs": []
    },
    {
      "cell_type": "markdown",
      "metadata": {
        "id": "Eu_nAjV46Iv1"
      },
      "source": [
        "## Train models"
      ]
    },
    {
      "cell_type": "markdown",
      "source": [
        "### Preparing"
      ],
      "metadata": {
        "id": "P06Dqd7MkFvk"
      }
    },
    {
      "cell_type": "code",
      "execution_count": 19,
      "metadata": {
        "execution": {
          "iopub.execute_input": "2022-12-05T13:55:10.240459Z",
          "iopub.status.busy": "2022-12-05T13:55:10.240459Z",
          "iopub.status.idle": "2022-12-05T13:55:10.255462Z",
          "shell.execute_reply": "2022-12-05T13:55:10.254459Z",
          "shell.execute_reply.started": "2022-12-05T13:55:10.240459Z"
        },
        "id": "AE1xtTsz6Iv1"
      },
      "outputs": [],
      "source": [
        "metrics = {\n",
        "    \"prec@1\": Precision(k=1),\n",
        "    \"prec@5\": Precision(k=5),\n",
        "    \"prec@10\": Precision(k=10),\n",
        "    \"recall@1\": Recall(k=1),\n",
        "    \"recall@5\": Recall(k=5),\n",
        "    \"recall@10\": Recall(k=10),\n",
        "    \"MAP@1\": MAP(k=1),\n",
        "    \"MAP@5\": MAP(k=5),\n",
        "    \"MAP@10\": MAP(k=10),\n",
        "    \"NDCG@1\": NDCG(k=1),\n",
        "    \"NDCG@5\": NDCG(k=5),\n",
        "    \"NDCG@10\": NDCG(k=10),\n",
        "    \"novelty@1\": MeanInvUserFreq(k=1),\n",
        "    \"novelty@5\": MeanInvUserFreq(k=5),\n",
        "    \"novelty@10\": MeanInvUserFreq(k=10),\n",
        "    \"serendipity@1\": Serendipity(k=1),\n",
        "    \"serendipity@5\": Serendipity(k=5),\n",
        "    \"serendipity@10\": Serendipity(k=10),\n",
        "}\n",
        "\n",
        "K_RECOS = 10"
      ]
    },
    {
      "cell_type": "code",
      "source": [
        "max_date = interactions_raw['datetime'].max()\n",
        "\n",
        "train = interactions_raw[(interactions_raw['datetime'] < max_date - pd.Timedelta(days=7))]\n",
        "test = interactions_raw[(interactions_raw['datetime'] >= max_date - pd.Timedelta(days=7))]\n",
        "\n",
        "catalog = train[Columns.Item].unique()\n",
        "\n",
        "# оставляем только теплых пользователей в тесте\n",
        "test_hot = test[test['user_id'].isin(train['user_id'].unique())]\n",
        "\n",
        "print(f\"train: {train.shape}\")\n",
        "print(f\"test: {test.shape}\")\n",
        "print(f\"test: {test_hot.shape}\")"
      ],
      "metadata": {
        "colab": {
          "base_uri": "https://localhost:8080/"
        },
        "id": "74UlqTk1i6XN",
        "outputId": "0ba23ebf-9953-4a33-876e-0edf432a7872"
      },
      "execution_count": 20,
      "outputs": [
        {
          "output_type": "stream",
          "name": "stdout",
          "text": [
            "train: (4985269, 5)\n",
            "test: (490982, 5)\n",
            "test: (349088, 5)\n"
          ]
        }
      ]
    },
    {
      "cell_type": "code",
      "source": [
        "dataset = Dataset.construct(\n",
        "    interactions_df=train,\n",
        "    user_features_df=None,\n",
        "    item_features_df=None\n",
        ")"
      ],
      "metadata": {
        "id": "mTai-_vqi9fx"
      },
      "execution_count": 21,
      "outputs": []
    },
    {
      "cell_type": "markdown",
      "source": [
        "### UserKNN"
      ],
      "metadata": {
        "id": "CIXvjOFUkJQd"
      }
    },
    {
      "cell_type": "code",
      "source": [
        "recommender = CosineRecommender(K=30)"
      ],
      "metadata": {
        "id": "snlG4EsukRQe"
      },
      "execution_count": 22,
      "outputs": []
    },
    {
      "cell_type": "code",
      "source": [
        "userknn_model = UserKnn(recommender)"
      ],
      "metadata": {
        "id": "44TOr5O9kVwf"
      },
      "execution_count": 23,
      "outputs": []
    },
    {
      "cell_type": "code",
      "source": [
        "%%time\n",
        "userknn_model.fit(train)"
      ],
      "metadata": {
        "colab": {
          "base_uri": "https://localhost:8080/",
          "height": 138,
          "referenced_widgets": [
            "e268ab6301cd4ba59d1fdce0a7bf4a31",
            "7d1de3ed4d6048798f736b98d7dcabb5",
            "b3b10c827dd842269019412513603cda",
            "2c06abee824a41709c0a6d2d586f56b3",
            "c780877895d54c88b1337b4aac493266",
            "9df894c0761048acaff27ab623513536",
            "bb0eaae7cf1f4207b7ebc1485b10d0ca",
            "3abfba920d0349ec8ad33c87d50121e3",
            "2573fd451d344d26a99f394aa4b0a403",
            "5d8957c823e7485ea80ca1b3ed6cf2ed",
            "23e3d368e37d46a88eec045dd7a86c32"
          ]
        },
        "id": "BUil4OOjkRLN",
        "outputId": "93cc4abd-e39c-438b-f291-f35d1bc01d6e"
      },
      "execution_count": 18,
      "outputs": [
        {
          "output_type": "stream",
          "name": "stderr",
          "text": [
            "/usr/local/lib/python3.10/dist-packages/implicit/utils.py:164: ParameterWarning: Method expects CSR input, and was passed coo_matrix instead. Converting to CSR took 0.27003955841064453 seconds\n",
            "  warnings.warn(\n"
          ]
        },
        {
          "output_type": "display_data",
          "data": {
            "text/plain": [
              "  0%|          | 0/896791 [00:00<?, ?it/s]"
            ],
            "application/vnd.jupyter.widget-view+json": {
              "version_major": 2,
              "version_minor": 0,
              "model_id": "e268ab6301cd4ba59d1fdce0a7bf4a31"
            }
          },
          "metadata": {}
        },
        {
          "output_type": "stream",
          "name": "stdout",
          "text": [
            "CPU times: user 23min 10s, sys: 5.66 s, total: 23min 15s\n",
            "Wall time: 13min 56s\n"
          ]
        }
      ]
    },
    {
      "cell_type": "code",
      "source": [
        "# with open('userknn.dill', 'wb') as f:\n",
        "#     dill.dump(userknn_model, f)"
      ],
      "metadata": {
        "id": "CIcE-swtkQcM"
      },
      "execution_count": 20,
      "outputs": []
    },
    {
      "cell_type": "code",
      "source": [
        "with open(\"userknn.dill\", \"rb\") as f:\n",
        "    userknn_model = dill.load(f)"
      ],
      "metadata": {
        "id": "ynWytFb6jYP3"
      },
      "execution_count": 27,
      "outputs": []
    },
    {
      "cell_type": "code",
      "source": [
        "%%time\n",
        "recos = userknn_model.predict(test_hot, N_recs=10)"
      ],
      "metadata": {
        "colab": {
          "base_uri": "https://localhost:8080/"
        },
        "id": "Sv6l3E8bp8wD",
        "outputId": "38dfa8da-bd7c-4b33-d1eb-a45daeedb152"
      },
      "execution_count": 28,
      "outputs": [
        {
          "output_type": "stream",
          "name": "stdout",
          "text": [
            "CPU times: user 1min 22s, sys: 5.92 s, total: 1min 28s\n",
            "Wall time: 1min 29s\n"
          ]
        }
      ]
    },
    {
      "cell_type": "markdown",
      "source": [
        "### Calc metrics"
      ],
      "metadata": {
        "id": "DPb-rc37tACX"
      }
    },
    {
      "cell_type": "code",
      "source": [
        "hot_metric_values = calc_metrics(\n",
        "                                 metrics,\n",
        "                                 reco=recos,\n",
        "                                 interactions=test_hot,\n",
        "                                 prev_interactions=train,\n",
        "                                 catalog=catalog,\n",
        "                                )"
      ],
      "metadata": {
        "id": "P6uwRedbp8tU"
      },
      "execution_count": 29,
      "outputs": []
    },
    {
      "cell_type": "code",
      "source": [
        "pd.DataFrame(hot_metric_values, index=['userKNN'])"
      ],
      "metadata": {
        "colab": {
          "base_uri": "https://localhost:8080/",
          "height": 101
        },
        "id": "79w3biQWp8qr",
        "outputId": "f51c0960-ef4c-46f1-afd5-ccdd8783e5e6"
      },
      "execution_count": 30,
      "outputs": [
        {
          "output_type": "execute_result",
          "data": {
            "text/plain": [
              "           prec@1  recall@1    prec@5  recall@5   prec@10  recall@10  \\\n",
              "userKNN  0.000755  0.000305  0.002413  0.005438  0.003897   0.017671   \n",
              "\n",
              "           NDCG@1    NDCG@5   NDCG@10     MAP@1     MAP@5    MAP@10  \\\n",
              "userKNN  0.000755  0.001995  0.003176  0.000305  0.001736  0.003353   \n",
              "\n",
              "         novelty@1  novelty@5  novelty@10  serendipity@1  serendipity@5  \\\n",
              "userKNN  10.008312   8.646891    7.947655       0.000047       0.000066   \n",
              "\n",
              "         serendipity@10  \n",
              "userKNN        0.000068  "
            ],
            "text/html": [
              "\n",
              "  <div id=\"df-8859701d-fcd6-4e60-9201-7da6c77c60d1\" class=\"colab-df-container\">\n",
              "    <div>\n",
              "<style scoped>\n",
              "    .dataframe tbody tr th:only-of-type {\n",
              "        vertical-align: middle;\n",
              "    }\n",
              "\n",
              "    .dataframe tbody tr th {\n",
              "        vertical-align: top;\n",
              "    }\n",
              "\n",
              "    .dataframe thead th {\n",
              "        text-align: right;\n",
              "    }\n",
              "</style>\n",
              "<table border=\"1\" class=\"dataframe\">\n",
              "  <thead>\n",
              "    <tr style=\"text-align: right;\">\n",
              "      <th></th>\n",
              "      <th>prec@1</th>\n",
              "      <th>recall@1</th>\n",
              "      <th>prec@5</th>\n",
              "      <th>recall@5</th>\n",
              "      <th>prec@10</th>\n",
              "      <th>recall@10</th>\n",
              "      <th>NDCG@1</th>\n",
              "      <th>NDCG@5</th>\n",
              "      <th>NDCG@10</th>\n",
              "      <th>MAP@1</th>\n",
              "      <th>MAP@5</th>\n",
              "      <th>MAP@10</th>\n",
              "      <th>novelty@1</th>\n",
              "      <th>novelty@5</th>\n",
              "      <th>novelty@10</th>\n",
              "      <th>serendipity@1</th>\n",
              "      <th>serendipity@5</th>\n",
              "      <th>serendipity@10</th>\n",
              "    </tr>\n",
              "  </thead>\n",
              "  <tbody>\n",
              "    <tr>\n",
              "      <th>userKNN</th>\n",
              "      <td>0.000755</td>\n",
              "      <td>0.000305</td>\n",
              "      <td>0.002413</td>\n",
              "      <td>0.005438</td>\n",
              "      <td>0.003897</td>\n",
              "      <td>0.017671</td>\n",
              "      <td>0.000755</td>\n",
              "      <td>0.001995</td>\n",
              "      <td>0.003176</td>\n",
              "      <td>0.000305</td>\n",
              "      <td>0.001736</td>\n",
              "      <td>0.003353</td>\n",
              "      <td>10.008312</td>\n",
              "      <td>8.646891</td>\n",
              "      <td>7.947655</td>\n",
              "      <td>0.000047</td>\n",
              "      <td>0.000066</td>\n",
              "      <td>0.000068</td>\n",
              "    </tr>\n",
              "  </tbody>\n",
              "</table>\n",
              "</div>\n",
              "    <div class=\"colab-df-buttons\">\n",
              "\n",
              "  <div class=\"colab-df-container\">\n",
              "    <button class=\"colab-df-convert\" onclick=\"convertToInteractive('df-8859701d-fcd6-4e60-9201-7da6c77c60d1')\"\n",
              "            title=\"Convert this dataframe to an interactive table.\"\n",
              "            style=\"display:none;\">\n",
              "\n",
              "  <svg xmlns=\"http://www.w3.org/2000/svg\" height=\"24px\" viewBox=\"0 -960 960 960\">\n",
              "    <path d=\"M120-120v-720h720v720H120Zm60-500h600v-160H180v160Zm220 220h160v-160H400v160Zm0 220h160v-160H400v160ZM180-400h160v-160H180v160Zm440 0h160v-160H620v160ZM180-180h160v-160H180v160Zm440 0h160v-160H620v160Z\"/>\n",
              "  </svg>\n",
              "    </button>\n",
              "\n",
              "  <style>\n",
              "    .colab-df-container {\n",
              "      display:flex;\n",
              "      gap: 12px;\n",
              "    }\n",
              "\n",
              "    .colab-df-convert {\n",
              "      background-color: #E8F0FE;\n",
              "      border: none;\n",
              "      border-radius: 50%;\n",
              "      cursor: pointer;\n",
              "      display: none;\n",
              "      fill: #1967D2;\n",
              "      height: 32px;\n",
              "      padding: 0 0 0 0;\n",
              "      width: 32px;\n",
              "    }\n",
              "\n",
              "    .colab-df-convert:hover {\n",
              "      background-color: #E2EBFA;\n",
              "      box-shadow: 0px 1px 2px rgba(60, 64, 67, 0.3), 0px 1px 3px 1px rgba(60, 64, 67, 0.15);\n",
              "      fill: #174EA6;\n",
              "    }\n",
              "\n",
              "    .colab-df-buttons div {\n",
              "      margin-bottom: 4px;\n",
              "    }\n",
              "\n",
              "    [theme=dark] .colab-df-convert {\n",
              "      background-color: #3B4455;\n",
              "      fill: #D2E3FC;\n",
              "    }\n",
              "\n",
              "    [theme=dark] .colab-df-convert:hover {\n",
              "      background-color: #434B5C;\n",
              "      box-shadow: 0px 1px 3px 1px rgba(0, 0, 0, 0.15);\n",
              "      filter: drop-shadow(0px 1px 2px rgba(0, 0, 0, 0.3));\n",
              "      fill: #FFFFFF;\n",
              "    }\n",
              "  </style>\n",
              "\n",
              "    <script>\n",
              "      const buttonEl =\n",
              "        document.querySelector('#df-8859701d-fcd6-4e60-9201-7da6c77c60d1 button.colab-df-convert');\n",
              "      buttonEl.style.display =\n",
              "        google.colab.kernel.accessAllowed ? 'block' : 'none';\n",
              "\n",
              "      async function convertToInteractive(key) {\n",
              "        const element = document.querySelector('#df-8859701d-fcd6-4e60-9201-7da6c77c60d1');\n",
              "        const dataTable =\n",
              "          await google.colab.kernel.invokeFunction('convertToInteractive',\n",
              "                                                    [key], {});\n",
              "        if (!dataTable) return;\n",
              "\n",
              "        const docLinkHtml = 'Like what you see? Visit the ' +\n",
              "          '<a target=\"_blank\" href=https://colab.research.google.com/notebooks/data_table.ipynb>data table notebook</a>'\n",
              "          + ' to learn more about interactive tables.';\n",
              "        element.innerHTML = '';\n",
              "        dataTable['output_type'] = 'display_data';\n",
              "        await google.colab.output.renderOutput(dataTable, element);\n",
              "        const docLink = document.createElement('div');\n",
              "        docLink.innerHTML = docLinkHtml;\n",
              "        element.appendChild(docLink);\n",
              "      }\n",
              "    </script>\n",
              "  </div>\n",
              "\n",
              "    </div>\n",
              "  </div>\n"
            ]
          },
          "metadata": {},
          "execution_count": 30
        }
      ]
    },
    {
      "cell_type": "markdown",
      "source": [
        "## Cold user recomendations (3 балла)"
      ],
      "metadata": {
        "id": "eqEJLlqM4XMh"
      }
    },
    {
      "cell_type": "code",
      "source": [
        "popular = PopularModel()\n",
        "popular.fit(dataset)"
      ],
      "metadata": {
        "colab": {
          "base_uri": "https://localhost:8080/"
        },
        "id": "v9Sk9A3nx9X3",
        "outputId": "86d0c4f2-0280-4f96-9ec2-0b1077d4cbac"
      },
      "execution_count": 34,
      "outputs": [
        {
          "output_type": "execute_result",
          "data": {
            "text/plain": [
              "<rectools.models.popular.PopularModel at 0x7e86a1ddd270>"
            ]
          },
          "metadata": {},
          "execution_count": 34
        }
      ]
    },
    {
      "cell_type": "code",
      "source": [
        "popular_recs = popular.recommend(\n",
        "    users=dataset.user_id_map.external_ids,\n",
        "    dataset=dataset,\n",
        "    k=10,\n",
        "    filter_viewed=False  # True - удаляет просмотренные айтемы из рекомендаций\n",
        ")"
      ],
      "metadata": {
        "id": "cF73s9znp8k0"
      },
      "execution_count": 35,
      "outputs": []
    },
    {
      "cell_type": "code",
      "source": [
        "popular_recs = popular_recs.head(10)['item_id'].to_list()"
      ],
      "metadata": {
        "id": "oj_hoTZO7jac"
      },
      "execution_count": 36,
      "outputs": []
    },
    {
      "cell_type": "code",
      "source": [
        "# with open(\"popular_answer.dill\", \"wb\") as f:\n",
        "#     dill.dump(popular_recs, f)"
      ],
      "metadata": {
        "id": "RVROZbDP7jYR"
      },
      "execution_count": 37,
      "outputs": []
    },
    {
      "cell_type": "code",
      "source": [
        "with open(\"popular_answer.dill\", \"rb\") as f:\n",
        "    popular_recs = dill.load(f)"
      ],
      "metadata": {
        "id": "m0r7mPU97jVG"
      },
      "execution_count": 59,
      "outputs": []
    },
    {
      "cell_type": "code",
      "source": [
        "def predict_rec(user_id):\n",
        "    if user_id in userknn_model.users_mapping:\n",
        "        print('userKNN')\n",
        "        answer = userknn_model.eval(user_id).item_id.to_list()\n",
        "    else:\n",
        "        print('popular')\n",
        "        answer = popular_recs\n",
        "    return answer"
      ],
      "metadata": {
        "id": "SWjPIm947jSr"
      },
      "execution_count": 60,
      "outputs": []
    },
    {
      "cell_type": "code",
      "source": [
        "users"
      ],
      "metadata": {
        "colab": {
          "base_uri": "https://localhost:8080/",
          "height": 423
        },
        "id": "dI9lgQ5KFI07",
        "outputId": "a0b1e466-4296-43fc-f9f7-4863aeaa4835"
      },
      "execution_count": 61,
      "outputs": [
        {
          "output_type": "execute_result",
          "data": {
            "text/plain": [
              "        user_id         age        income  sex  kids_flg\n",
              "0        973171   age_25_34  income_60_90    М         1\n",
              "1        962099   age_18_24  income_20_40    М         0\n",
              "2       1047345   age_45_54  income_40_60    Ж         0\n",
              "3        721985   age_45_54  income_20_40    Ж         0\n",
              "4        704055   age_35_44  income_60_90    Ж         0\n",
              "...         ...         ...           ...  ...       ...\n",
              "840192   339025  age_65_inf   income_0_20    Ж         0\n",
              "840193   983617   age_18_24  income_20_40    Ж         1\n",
              "840194   251008         NaN           NaN  NaN         0\n",
              "840195   590706         NaN           NaN    Ж         0\n",
              "840196   166555  age_65_inf  income_20_40    Ж         0\n",
              "\n",
              "[840197 rows x 5 columns]"
            ],
            "text/html": [
              "\n",
              "  <div id=\"df-de84c6ce-c9fc-4bc5-95bb-bb7ad46ff290\" class=\"colab-df-container\">\n",
              "    <div>\n",
              "<style scoped>\n",
              "    .dataframe tbody tr th:only-of-type {\n",
              "        vertical-align: middle;\n",
              "    }\n",
              "\n",
              "    .dataframe tbody tr th {\n",
              "        vertical-align: top;\n",
              "    }\n",
              "\n",
              "    .dataframe thead th {\n",
              "        text-align: right;\n",
              "    }\n",
              "</style>\n",
              "<table border=\"1\" class=\"dataframe\">\n",
              "  <thead>\n",
              "    <tr style=\"text-align: right;\">\n",
              "      <th></th>\n",
              "      <th>user_id</th>\n",
              "      <th>age</th>\n",
              "      <th>income</th>\n",
              "      <th>sex</th>\n",
              "      <th>kids_flg</th>\n",
              "    </tr>\n",
              "  </thead>\n",
              "  <tbody>\n",
              "    <tr>\n",
              "      <th>0</th>\n",
              "      <td>973171</td>\n",
              "      <td>age_25_34</td>\n",
              "      <td>income_60_90</td>\n",
              "      <td>М</td>\n",
              "      <td>1</td>\n",
              "    </tr>\n",
              "    <tr>\n",
              "      <th>1</th>\n",
              "      <td>962099</td>\n",
              "      <td>age_18_24</td>\n",
              "      <td>income_20_40</td>\n",
              "      <td>М</td>\n",
              "      <td>0</td>\n",
              "    </tr>\n",
              "    <tr>\n",
              "      <th>2</th>\n",
              "      <td>1047345</td>\n",
              "      <td>age_45_54</td>\n",
              "      <td>income_40_60</td>\n",
              "      <td>Ж</td>\n",
              "      <td>0</td>\n",
              "    </tr>\n",
              "    <tr>\n",
              "      <th>3</th>\n",
              "      <td>721985</td>\n",
              "      <td>age_45_54</td>\n",
              "      <td>income_20_40</td>\n",
              "      <td>Ж</td>\n",
              "      <td>0</td>\n",
              "    </tr>\n",
              "    <tr>\n",
              "      <th>4</th>\n",
              "      <td>704055</td>\n",
              "      <td>age_35_44</td>\n",
              "      <td>income_60_90</td>\n",
              "      <td>Ж</td>\n",
              "      <td>0</td>\n",
              "    </tr>\n",
              "    <tr>\n",
              "      <th>...</th>\n",
              "      <td>...</td>\n",
              "      <td>...</td>\n",
              "      <td>...</td>\n",
              "      <td>...</td>\n",
              "      <td>...</td>\n",
              "    </tr>\n",
              "    <tr>\n",
              "      <th>840192</th>\n",
              "      <td>339025</td>\n",
              "      <td>age_65_inf</td>\n",
              "      <td>income_0_20</td>\n",
              "      <td>Ж</td>\n",
              "      <td>0</td>\n",
              "    </tr>\n",
              "    <tr>\n",
              "      <th>840193</th>\n",
              "      <td>983617</td>\n",
              "      <td>age_18_24</td>\n",
              "      <td>income_20_40</td>\n",
              "      <td>Ж</td>\n",
              "      <td>1</td>\n",
              "    </tr>\n",
              "    <tr>\n",
              "      <th>840194</th>\n",
              "      <td>251008</td>\n",
              "      <td>NaN</td>\n",
              "      <td>NaN</td>\n",
              "      <td>NaN</td>\n",
              "      <td>0</td>\n",
              "    </tr>\n",
              "    <tr>\n",
              "      <th>840195</th>\n",
              "      <td>590706</td>\n",
              "      <td>NaN</td>\n",
              "      <td>NaN</td>\n",
              "      <td>Ж</td>\n",
              "      <td>0</td>\n",
              "    </tr>\n",
              "    <tr>\n",
              "      <th>840196</th>\n",
              "      <td>166555</td>\n",
              "      <td>age_65_inf</td>\n",
              "      <td>income_20_40</td>\n",
              "      <td>Ж</td>\n",
              "      <td>0</td>\n",
              "    </tr>\n",
              "  </tbody>\n",
              "</table>\n",
              "<p>840197 rows × 5 columns</p>\n",
              "</div>\n",
              "    <div class=\"colab-df-buttons\">\n",
              "\n",
              "  <div class=\"colab-df-container\">\n",
              "    <button class=\"colab-df-convert\" onclick=\"convertToInteractive('df-de84c6ce-c9fc-4bc5-95bb-bb7ad46ff290')\"\n",
              "            title=\"Convert this dataframe to an interactive table.\"\n",
              "            style=\"display:none;\">\n",
              "\n",
              "  <svg xmlns=\"http://www.w3.org/2000/svg\" height=\"24px\" viewBox=\"0 -960 960 960\">\n",
              "    <path d=\"M120-120v-720h720v720H120Zm60-500h600v-160H180v160Zm220 220h160v-160H400v160Zm0 220h160v-160H400v160ZM180-400h160v-160H180v160Zm440 0h160v-160H620v160ZM180-180h160v-160H180v160Zm440 0h160v-160H620v160Z\"/>\n",
              "  </svg>\n",
              "    </button>\n",
              "\n",
              "  <style>\n",
              "    .colab-df-container {\n",
              "      display:flex;\n",
              "      gap: 12px;\n",
              "    }\n",
              "\n",
              "    .colab-df-convert {\n",
              "      background-color: #E8F0FE;\n",
              "      border: none;\n",
              "      border-radius: 50%;\n",
              "      cursor: pointer;\n",
              "      display: none;\n",
              "      fill: #1967D2;\n",
              "      height: 32px;\n",
              "      padding: 0 0 0 0;\n",
              "      width: 32px;\n",
              "    }\n",
              "\n",
              "    .colab-df-convert:hover {\n",
              "      background-color: #E2EBFA;\n",
              "      box-shadow: 0px 1px 2px rgba(60, 64, 67, 0.3), 0px 1px 3px 1px rgba(60, 64, 67, 0.15);\n",
              "      fill: #174EA6;\n",
              "    }\n",
              "\n",
              "    .colab-df-buttons div {\n",
              "      margin-bottom: 4px;\n",
              "    }\n",
              "\n",
              "    [theme=dark] .colab-df-convert {\n",
              "      background-color: #3B4455;\n",
              "      fill: #D2E3FC;\n",
              "    }\n",
              "\n",
              "    [theme=dark] .colab-df-convert:hover {\n",
              "      background-color: #434B5C;\n",
              "      box-shadow: 0px 1px 3px 1px rgba(0, 0, 0, 0.15);\n",
              "      filter: drop-shadow(0px 1px 2px rgba(0, 0, 0, 0.3));\n",
              "      fill: #FFFFFF;\n",
              "    }\n",
              "  </style>\n",
              "\n",
              "    <script>\n",
              "      const buttonEl =\n",
              "        document.querySelector('#df-de84c6ce-c9fc-4bc5-95bb-bb7ad46ff290 button.colab-df-convert');\n",
              "      buttonEl.style.display =\n",
              "        google.colab.kernel.accessAllowed ? 'block' : 'none';\n",
              "\n",
              "      async function convertToInteractive(key) {\n",
              "        const element = document.querySelector('#df-de84c6ce-c9fc-4bc5-95bb-bb7ad46ff290');\n",
              "        const dataTable =\n",
              "          await google.colab.kernel.invokeFunction('convertToInteractive',\n",
              "                                                    [key], {});\n",
              "        if (!dataTable) return;\n",
              "\n",
              "        const docLinkHtml = 'Like what you see? Visit the ' +\n",
              "          '<a target=\"_blank\" href=https://colab.research.google.com/notebooks/data_table.ipynb>data table notebook</a>'\n",
              "          + ' to learn more about interactive tables.';\n",
              "        element.innerHTML = '';\n",
              "        dataTable['output_type'] = 'display_data';\n",
              "        await google.colab.output.renderOutput(dataTable, element);\n",
              "        const docLink = document.createElement('div');\n",
              "        docLink.innerHTML = docLinkHtml;\n",
              "        element.appendChild(docLink);\n",
              "      }\n",
              "    </script>\n",
              "  </div>\n",
              "\n",
              "\n",
              "<div id=\"df-a5b162c2-a4d7-4fca-bf55-9b9b2a7bdde0\">\n",
              "  <button class=\"colab-df-quickchart\" onclick=\"quickchart('df-a5b162c2-a4d7-4fca-bf55-9b9b2a7bdde0')\"\n",
              "            title=\"Suggest charts\"\n",
              "            style=\"display:none;\">\n",
              "\n",
              "<svg xmlns=\"http://www.w3.org/2000/svg\" height=\"24px\"viewBox=\"0 0 24 24\"\n",
              "     width=\"24px\">\n",
              "    <g>\n",
              "        <path d=\"M19 3H5c-1.1 0-2 .9-2 2v14c0 1.1.9 2 2 2h14c1.1 0 2-.9 2-2V5c0-1.1-.9-2-2-2zM9 17H7v-7h2v7zm4 0h-2V7h2v10zm4 0h-2v-4h2v4z\"/>\n",
              "    </g>\n",
              "</svg>\n",
              "  </button>\n",
              "\n",
              "<style>\n",
              "  .colab-df-quickchart {\n",
              "      --bg-color: #E8F0FE;\n",
              "      --fill-color: #1967D2;\n",
              "      --hover-bg-color: #E2EBFA;\n",
              "      --hover-fill-color: #174EA6;\n",
              "      --disabled-fill-color: #AAA;\n",
              "      --disabled-bg-color: #DDD;\n",
              "  }\n",
              "\n",
              "  [theme=dark] .colab-df-quickchart {\n",
              "      --bg-color: #3B4455;\n",
              "      --fill-color: #D2E3FC;\n",
              "      --hover-bg-color: #434B5C;\n",
              "      --hover-fill-color: #FFFFFF;\n",
              "      --disabled-bg-color: #3B4455;\n",
              "      --disabled-fill-color: #666;\n",
              "  }\n",
              "\n",
              "  .colab-df-quickchart {\n",
              "    background-color: var(--bg-color);\n",
              "    border: none;\n",
              "    border-radius: 50%;\n",
              "    cursor: pointer;\n",
              "    display: none;\n",
              "    fill: var(--fill-color);\n",
              "    height: 32px;\n",
              "    padding: 0;\n",
              "    width: 32px;\n",
              "  }\n",
              "\n",
              "  .colab-df-quickchart:hover {\n",
              "    background-color: var(--hover-bg-color);\n",
              "    box-shadow: 0 1px 2px rgba(60, 64, 67, 0.3), 0 1px 3px 1px rgba(60, 64, 67, 0.15);\n",
              "    fill: var(--button-hover-fill-color);\n",
              "  }\n",
              "\n",
              "  .colab-df-quickchart-complete:disabled,\n",
              "  .colab-df-quickchart-complete:disabled:hover {\n",
              "    background-color: var(--disabled-bg-color);\n",
              "    fill: var(--disabled-fill-color);\n",
              "    box-shadow: none;\n",
              "  }\n",
              "\n",
              "  .colab-df-spinner {\n",
              "    border: 2px solid var(--fill-color);\n",
              "    border-color: transparent;\n",
              "    border-bottom-color: var(--fill-color);\n",
              "    animation:\n",
              "      spin 1s steps(1) infinite;\n",
              "  }\n",
              "\n",
              "  @keyframes spin {\n",
              "    0% {\n",
              "      border-color: transparent;\n",
              "      border-bottom-color: var(--fill-color);\n",
              "      border-left-color: var(--fill-color);\n",
              "    }\n",
              "    20% {\n",
              "      border-color: transparent;\n",
              "      border-left-color: var(--fill-color);\n",
              "      border-top-color: var(--fill-color);\n",
              "    }\n",
              "    30% {\n",
              "      border-color: transparent;\n",
              "      border-left-color: var(--fill-color);\n",
              "      border-top-color: var(--fill-color);\n",
              "      border-right-color: var(--fill-color);\n",
              "    }\n",
              "    40% {\n",
              "      border-color: transparent;\n",
              "      border-right-color: var(--fill-color);\n",
              "      border-top-color: var(--fill-color);\n",
              "    }\n",
              "    60% {\n",
              "      border-color: transparent;\n",
              "      border-right-color: var(--fill-color);\n",
              "    }\n",
              "    80% {\n",
              "      border-color: transparent;\n",
              "      border-right-color: var(--fill-color);\n",
              "      border-bottom-color: var(--fill-color);\n",
              "    }\n",
              "    90% {\n",
              "      border-color: transparent;\n",
              "      border-bottom-color: var(--fill-color);\n",
              "    }\n",
              "  }\n",
              "</style>\n",
              "\n",
              "  <script>\n",
              "    async function quickchart(key) {\n",
              "      const quickchartButtonEl =\n",
              "        document.querySelector('#' + key + ' button');\n",
              "      quickchartButtonEl.disabled = true;  // To prevent multiple clicks.\n",
              "      quickchartButtonEl.classList.add('colab-df-spinner');\n",
              "      try {\n",
              "        const charts = await google.colab.kernel.invokeFunction(\n",
              "            'suggestCharts', [key], {});\n",
              "      } catch (error) {\n",
              "        console.error('Error during call to suggestCharts:', error);\n",
              "      }\n",
              "      quickchartButtonEl.classList.remove('colab-df-spinner');\n",
              "      quickchartButtonEl.classList.add('colab-df-quickchart-complete');\n",
              "    }\n",
              "    (() => {\n",
              "      let quickchartButtonEl =\n",
              "        document.querySelector('#df-a5b162c2-a4d7-4fca-bf55-9b9b2a7bdde0 button');\n",
              "      quickchartButtonEl.style.display =\n",
              "        google.colab.kernel.accessAllowed ? 'block' : 'none';\n",
              "    })();\n",
              "  </script>\n",
              "</div>\n",
              "    </div>\n",
              "  </div>\n"
            ]
          },
          "metadata": {},
          "execution_count": 61
        }
      ]
    },
    {
      "cell_type": "code",
      "source": [
        "cold_user_id = 983617\n",
        "hot_user_id = 962099"
      ],
      "metadata": {
        "id": "NVF2xJ1x8K3f"
      },
      "execution_count": 62,
      "outputs": []
    },
    {
      "cell_type": "code",
      "source": [
        "predict_rec(cold_user_id)"
      ],
      "metadata": {
        "colab": {
          "base_uri": "https://localhost:8080/"
        },
        "id": "mgX4Osrp7jP7",
        "outputId": "4957a110-bfd3-47fc-96cb-df8130ba1b0e"
      },
      "execution_count": 63,
      "outputs": [
        {
          "output_type": "stream",
          "name": "stdout",
          "text": [
            "popular\n"
          ]
        },
        {
          "output_type": "execute_result",
          "data": {
            "text/plain": [
              "[10440, 15297, 9728, 13865, 4151, 3734, 2657, 4880, 142, 6809]"
            ]
          },
          "metadata": {},
          "execution_count": 63
        }
      ]
    },
    {
      "cell_type": "code",
      "source": [
        "predict_rec(hot_user_id)"
      ],
      "metadata": {
        "colab": {
          "base_uri": "https://localhost:8080/"
        },
        "id": "eHVVD2Ws7jNC",
        "outputId": "e3381bc8-e0cf-4d9a-a50b-304e90d3aab3"
      },
      "execution_count": 64,
      "outputs": [
        {
          "output_type": "stream",
          "name": "stdout",
          "text": [
            "userKNN\n"
          ]
        },
        {
          "output_type": "execute_result",
          "data": {
            "text/plain": [
              "[3282, 3787, 2074, 3568, 2998, 1215, 2420, 3657, 6590, 6404]"
            ]
          },
          "metadata": {},
          "execution_count": 64
        }
      ]
    },
    {
      "cell_type": "markdown",
      "source": [
        "### Required num recomendations (3 балла)\n",
        "\n",
        "Задача: Сделать кол-во рекомендаций равным N, а не меньше N\n",
        "\n",
        "Решение: Добавим рекомендаций от модели Popular"
      ],
      "metadata": {
        "id": "n9dC536l8aRR"
      }
    },
    {
      "cell_type": "code",
      "source": [
        "recos.groupby('user_id').count().query('item_id < 10').shape[0]"
      ],
      "metadata": {
        "colab": {
          "base_uri": "https://localhost:8080/"
        },
        "id": "NMljqzd-8aoX",
        "outputId": "e8232623-3731-4826-af67-f0d34dd66458"
      },
      "execution_count": 65,
      "outputs": [
        {
          "output_type": "execute_result",
          "data": {
            "text/plain": [
              "50092"
            ]
          },
          "metadata": {},
          "execution_count": 65
        }
      ]
    },
    {
      "cell_type": "code",
      "source": [
        "bad_user_id = 704055\n",
        "k_recs = 10"
      ],
      "metadata": {
        "id": "s7clYVPA9dCG"
      },
      "execution_count": 75,
      "outputs": []
    },
    {
      "cell_type": "code",
      "source": [
        "answer = userknn_model.eval(bad_user_id).item_id.to_list()"
      ],
      "metadata": {
        "id": "GT0IG2Es9c_Z"
      },
      "execution_count": 76,
      "outputs": []
    },
    {
      "cell_type": "code",
      "source": [
        "answer, len(answer)"
      ],
      "metadata": {
        "colab": {
          "base_uri": "https://localhost:8080/"
        },
        "id": "5BcM7j3n9c8z",
        "outputId": "c5094a9e-e13f-401d-e94e-6d6392316218"
      },
      "execution_count": 77,
      "outputs": [
        {
          "output_type": "execute_result",
          "data": {
            "text/plain": [
              "([7043, 2276, 2061, 10533, 9855, 15037, 4179, 2583], 8)"
            ]
          },
          "metadata": {},
          "execution_count": 77
        }
      ]
    },
    {
      "cell_type": "code",
      "source": [
        "new_answer = answer + [\n",
        "    item for item in popular_recs if item not in answer\n",
        "][:k_recs - len(answer)]"
      ],
      "metadata": {
        "id": "AQVCdpS99c6L"
      },
      "execution_count": 78,
      "outputs": []
    },
    {
      "cell_type": "code",
      "source": [
        "new_answer, len(new_answer)"
      ],
      "metadata": {
        "colab": {
          "base_uri": "https://localhost:8080/"
        },
        "id": "OIdu8gol9c3e",
        "outputId": "7f2915a7-406f-43b3-ad3d-16f976c937e3"
      },
      "execution_count": 79,
      "outputs": [
        {
          "output_type": "execute_result",
          "data": {
            "text/plain": [
              "([7043, 2276, 2061, 10533, 9855, 15037, 4179, 2583, 10440, 15297], 10)"
            ]
          },
          "metadata": {},
          "execution_count": 79
        }
      ]
    },
    {
      "cell_type": "code",
      "source": [],
      "metadata": {
        "id": "P7fPIsHU9c0r"
      },
      "execution_count": null,
      "outputs": []
    }
  ],
  "metadata": {
    "kernelspec": {
      "display_name": "rect",
      "language": "python",
      "name": "rect"
    },
    "language_info": {
      "codemirror_mode": {
        "name": "ipython",
        "version": 3
      },
      "file_extension": ".py",
      "mimetype": "text/x-python",
      "name": "python",
      "nbconvert_exporter": "python",
      "pygments_lexer": "ipython3",
      "version": "3.7.10"
    },
    "toc": {
      "base_numbering": 1,
      "nav_menu": {},
      "number_sections": true,
      "sideBar": true,
      "skip_h1_title": false,
      "title_cell": "Table of Contents",
      "title_sidebar": "Contents",
      "toc_cell": false,
      "toc_position": {},
      "toc_section_display": true,
      "toc_window_display": false
    },
    "widgets": {
      "application/vnd.jupyter.widget-state+json": {
        "e268ab6301cd4ba59d1fdce0a7bf4a31": {
          "model_module": "@jupyter-widgets/controls",
          "model_name": "HBoxModel",
          "model_module_version": "1.5.0",
          "state": {
            "_dom_classes": [],
            "_model_module": "@jupyter-widgets/controls",
            "_model_module_version": "1.5.0",
            "_model_name": "HBoxModel",
            "_view_count": null,
            "_view_module": "@jupyter-widgets/controls",
            "_view_module_version": "1.5.0",
            "_view_name": "HBoxView",
            "box_style": "",
            "children": [
              "IPY_MODEL_7d1de3ed4d6048798f736b98d7dcabb5",
              "IPY_MODEL_b3b10c827dd842269019412513603cda",
              "IPY_MODEL_2c06abee824a41709c0a6d2d586f56b3"
            ],
            "layout": "IPY_MODEL_c780877895d54c88b1337b4aac493266"
          }
        },
        "7d1de3ed4d6048798f736b98d7dcabb5": {
          "model_module": "@jupyter-widgets/controls",
          "model_name": "HTMLModel",
          "model_module_version": "1.5.0",
          "state": {
            "_dom_classes": [],
            "_model_module": "@jupyter-widgets/controls",
            "_model_module_version": "1.5.0",
            "_model_name": "HTMLModel",
            "_view_count": null,
            "_view_module": "@jupyter-widgets/controls",
            "_view_module_version": "1.5.0",
            "_view_name": "HTMLView",
            "description": "",
            "description_tooltip": null,
            "layout": "IPY_MODEL_9df894c0761048acaff27ab623513536",
            "placeholder": "​",
            "style": "IPY_MODEL_bb0eaae7cf1f4207b7ebc1485b10d0ca",
            "value": "100%"
          }
        },
        "b3b10c827dd842269019412513603cda": {
          "model_module": "@jupyter-widgets/controls",
          "model_name": "FloatProgressModel",
          "model_module_version": "1.5.0",
          "state": {
            "_dom_classes": [],
            "_model_module": "@jupyter-widgets/controls",
            "_model_module_version": "1.5.0",
            "_model_name": "FloatProgressModel",
            "_view_count": null,
            "_view_module": "@jupyter-widgets/controls",
            "_view_module_version": "1.5.0",
            "_view_name": "ProgressView",
            "bar_style": "success",
            "description": "",
            "description_tooltip": null,
            "layout": "IPY_MODEL_3abfba920d0349ec8ad33c87d50121e3",
            "max": 896791,
            "min": 0,
            "orientation": "horizontal",
            "style": "IPY_MODEL_2573fd451d344d26a99f394aa4b0a403",
            "value": 896791
          }
        },
        "2c06abee824a41709c0a6d2d586f56b3": {
          "model_module": "@jupyter-widgets/controls",
          "model_name": "HTMLModel",
          "model_module_version": "1.5.0",
          "state": {
            "_dom_classes": [],
            "_model_module": "@jupyter-widgets/controls",
            "_model_module_version": "1.5.0",
            "_model_name": "HTMLModel",
            "_view_count": null,
            "_view_module": "@jupyter-widgets/controls",
            "_view_module_version": "1.5.0",
            "_view_name": "HTMLView",
            "description": "",
            "description_tooltip": null,
            "layout": "IPY_MODEL_5d8957c823e7485ea80ca1b3ed6cf2ed",
            "placeholder": "​",
            "style": "IPY_MODEL_23e3d368e37d46a88eec045dd7a86c32",
            "value": " 896791/896791 [13:36&lt;00:00, 3457.87it/s]"
          }
        },
        "c780877895d54c88b1337b4aac493266": {
          "model_module": "@jupyter-widgets/base",
          "model_name": "LayoutModel",
          "model_module_version": "1.2.0",
          "state": {
            "_model_module": "@jupyter-widgets/base",
            "_model_module_version": "1.2.0",
            "_model_name": "LayoutModel",
            "_view_count": null,
            "_view_module": "@jupyter-widgets/base",
            "_view_module_version": "1.2.0",
            "_view_name": "LayoutView",
            "align_content": null,
            "align_items": null,
            "align_self": null,
            "border": null,
            "bottom": null,
            "display": null,
            "flex": null,
            "flex_flow": null,
            "grid_area": null,
            "grid_auto_columns": null,
            "grid_auto_flow": null,
            "grid_auto_rows": null,
            "grid_column": null,
            "grid_gap": null,
            "grid_row": null,
            "grid_template_areas": null,
            "grid_template_columns": null,
            "grid_template_rows": null,
            "height": null,
            "justify_content": null,
            "justify_items": null,
            "left": null,
            "margin": null,
            "max_height": null,
            "max_width": null,
            "min_height": null,
            "min_width": null,
            "object_fit": null,
            "object_position": null,
            "order": null,
            "overflow": null,
            "overflow_x": null,
            "overflow_y": null,
            "padding": null,
            "right": null,
            "top": null,
            "visibility": null,
            "width": null
          }
        },
        "9df894c0761048acaff27ab623513536": {
          "model_module": "@jupyter-widgets/base",
          "model_name": "LayoutModel",
          "model_module_version": "1.2.0",
          "state": {
            "_model_module": "@jupyter-widgets/base",
            "_model_module_version": "1.2.0",
            "_model_name": "LayoutModel",
            "_view_count": null,
            "_view_module": "@jupyter-widgets/base",
            "_view_module_version": "1.2.0",
            "_view_name": "LayoutView",
            "align_content": null,
            "align_items": null,
            "align_self": null,
            "border": null,
            "bottom": null,
            "display": null,
            "flex": null,
            "flex_flow": null,
            "grid_area": null,
            "grid_auto_columns": null,
            "grid_auto_flow": null,
            "grid_auto_rows": null,
            "grid_column": null,
            "grid_gap": null,
            "grid_row": null,
            "grid_template_areas": null,
            "grid_template_columns": null,
            "grid_template_rows": null,
            "height": null,
            "justify_content": null,
            "justify_items": null,
            "left": null,
            "margin": null,
            "max_height": null,
            "max_width": null,
            "min_height": null,
            "min_width": null,
            "object_fit": null,
            "object_position": null,
            "order": null,
            "overflow": null,
            "overflow_x": null,
            "overflow_y": null,
            "padding": null,
            "right": null,
            "top": null,
            "visibility": null,
            "width": null
          }
        },
        "bb0eaae7cf1f4207b7ebc1485b10d0ca": {
          "model_module": "@jupyter-widgets/controls",
          "model_name": "DescriptionStyleModel",
          "model_module_version": "1.5.0",
          "state": {
            "_model_module": "@jupyter-widgets/controls",
            "_model_module_version": "1.5.0",
            "_model_name": "DescriptionStyleModel",
            "_view_count": null,
            "_view_module": "@jupyter-widgets/base",
            "_view_module_version": "1.2.0",
            "_view_name": "StyleView",
            "description_width": ""
          }
        },
        "3abfba920d0349ec8ad33c87d50121e3": {
          "model_module": "@jupyter-widgets/base",
          "model_name": "LayoutModel",
          "model_module_version": "1.2.0",
          "state": {
            "_model_module": "@jupyter-widgets/base",
            "_model_module_version": "1.2.0",
            "_model_name": "LayoutModel",
            "_view_count": null,
            "_view_module": "@jupyter-widgets/base",
            "_view_module_version": "1.2.0",
            "_view_name": "LayoutView",
            "align_content": null,
            "align_items": null,
            "align_self": null,
            "border": null,
            "bottom": null,
            "display": null,
            "flex": null,
            "flex_flow": null,
            "grid_area": null,
            "grid_auto_columns": null,
            "grid_auto_flow": null,
            "grid_auto_rows": null,
            "grid_column": null,
            "grid_gap": null,
            "grid_row": null,
            "grid_template_areas": null,
            "grid_template_columns": null,
            "grid_template_rows": null,
            "height": null,
            "justify_content": null,
            "justify_items": null,
            "left": null,
            "margin": null,
            "max_height": null,
            "max_width": null,
            "min_height": null,
            "min_width": null,
            "object_fit": null,
            "object_position": null,
            "order": null,
            "overflow": null,
            "overflow_x": null,
            "overflow_y": null,
            "padding": null,
            "right": null,
            "top": null,
            "visibility": null,
            "width": null
          }
        },
        "2573fd451d344d26a99f394aa4b0a403": {
          "model_module": "@jupyter-widgets/controls",
          "model_name": "ProgressStyleModel",
          "model_module_version": "1.5.0",
          "state": {
            "_model_module": "@jupyter-widgets/controls",
            "_model_module_version": "1.5.0",
            "_model_name": "ProgressStyleModel",
            "_view_count": null,
            "_view_module": "@jupyter-widgets/base",
            "_view_module_version": "1.2.0",
            "_view_name": "StyleView",
            "bar_color": null,
            "description_width": ""
          }
        },
        "5d8957c823e7485ea80ca1b3ed6cf2ed": {
          "model_module": "@jupyter-widgets/base",
          "model_name": "LayoutModel",
          "model_module_version": "1.2.0",
          "state": {
            "_model_module": "@jupyter-widgets/base",
            "_model_module_version": "1.2.0",
            "_model_name": "LayoutModel",
            "_view_count": null,
            "_view_module": "@jupyter-widgets/base",
            "_view_module_version": "1.2.0",
            "_view_name": "LayoutView",
            "align_content": null,
            "align_items": null,
            "align_self": null,
            "border": null,
            "bottom": null,
            "display": null,
            "flex": null,
            "flex_flow": null,
            "grid_area": null,
            "grid_auto_columns": null,
            "grid_auto_flow": null,
            "grid_auto_rows": null,
            "grid_column": null,
            "grid_gap": null,
            "grid_row": null,
            "grid_template_areas": null,
            "grid_template_columns": null,
            "grid_template_rows": null,
            "height": null,
            "justify_content": null,
            "justify_items": null,
            "left": null,
            "margin": null,
            "max_height": null,
            "max_width": null,
            "min_height": null,
            "min_width": null,
            "object_fit": null,
            "object_position": null,
            "order": null,
            "overflow": null,
            "overflow_x": null,
            "overflow_y": null,
            "padding": null,
            "right": null,
            "top": null,
            "visibility": null,
            "width": null
          }
        },
        "23e3d368e37d46a88eec045dd7a86c32": {
          "model_module": "@jupyter-widgets/controls",
          "model_name": "DescriptionStyleModel",
          "model_module_version": "1.5.0",
          "state": {
            "_model_module": "@jupyter-widgets/controls",
            "_model_module_version": "1.5.0",
            "_model_name": "DescriptionStyleModel",
            "_view_count": null,
            "_view_module": "@jupyter-widgets/base",
            "_view_module_version": "1.2.0",
            "_view_name": "StyleView",
            "description_width": ""
          }
        }
      }
    },
    "colab": {
      "provenance": []
    }
  },
  "nbformat": 4,
  "nbformat_minor": 0
}
