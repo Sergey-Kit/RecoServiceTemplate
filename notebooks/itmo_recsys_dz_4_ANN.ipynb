{
  "cells": [
    {
      "cell_type": "markdown",
      "metadata": {
        "id": "S10QSboi6Ivr"
      },
      "source": [
        "# Обучение и валидация на датасете KION"
      ]
    },
    {
      "cell_type": "code",
      "execution_count": null,
      "metadata": {
        "colab": {
          "base_uri": "https://localhost:8080/"
        },
        "id": "ujIdIoRdOgiR",
        "outputId": "7640dddd-5c56-479b-8ebe-d1da849426cc"
      },
      "outputs": [],
      "source": [
        "!pip install -r https://raw.githubusercontent.com/Sergey-Kit/RecoServiceTemplate/hw_4/notebooks/requirements.txt"
      ]
    },
    {
      "cell_type": "code",
      "execution_count": 4,
      "metadata": {
        "id": "9ftdrS-c40CH"
      },
      "outputs": [],
      "source": [
        "import os"
      ]
    },
    {
      "cell_type": "code",
      "execution_count": 5,
      "metadata": {
        "id": "4GMDKTLl4y3F"
      },
      "outputs": [],
      "source": [
        "os.environ[\"OPENBLAS_NUM_THREADS\"] = \"1\""
      ]
    },
    {
      "cell_type": "code",
      "execution_count": 6,
      "metadata": {
        "colab": {
          "base_uri": "https://localhost:8080/"
        },
        "id": "fyb9NwhM6Ivu",
        "outputId": "ba3c377b-7908-4979-b075-af8e99cbb085",
        "tags": []
      },
      "outputs": [
        {
          "name": "stderr",
          "output_type": "stream",
          "text": [
            "/usr/local/lib/python3.10/dist-packages/implicit/gpu/__init__.py:13: UserWarning: CUDA extension is built, but disabling GPU support because of 'Cuda Error: CUDA driver version is insufficient for CUDA runtime version (/project/./implicit/gpu/utils.h:71)'\n",
            "  warnings.warn(\n"
          ]
        }
      ],
      "source": [
        "from pprint import pprint\n",
        "\n",
        "import numpy as np\n",
        "import pandas as pd\n",
        "import dill\n",
        "from scipy import sparse\n",
        "\n",
        "from tqdm.auto import tqdm\n",
        "\n",
        "from implicit.cpu.als import AlternatingLeastSquares\n",
        "from rectools.models.implicit_als import ImplicitALSWrapperModel\n",
        "\n",
        "import nmslib\n",
        "\n",
        "import rectools\n",
        "from rectools import Columns\n",
        "from rectools.dataset import Interactions, Dataset\n",
        "from rectools.metrics import Precision, Recall, calc_metrics\n",
        "from rectools.metrics import NDCG, MAP, MeanInvUserFreq, Serendipity\n",
        "from rectools.model_selection import TimeRangeSplitter\n",
        "from rectools.tools.ann import UserToItemAnnRecommender\n",
        "\n",
        "RANDOM_STATE = 32"
      ]
    },
    {
      "cell_type": "markdown",
      "metadata": {
        "id": "NB8p8yAE6Ivw"
      },
      "source": [
        "### Load data"
      ]
    },
    {
      "cell_type": "code",
      "execution_count": 7,
      "metadata": {
        "colab": {
          "base_uri": "https://localhost:8080/"
        },
        "id": "LSu2sLFIAcWF",
        "outputId": "64901c9a-bcfe-463b-d00b-9c66bf06ea6d"
      },
      "outputs": [
        {
          "name": "stdout",
          "output_type": "stream",
          "text": [
            "Archive:  data_KION.zip\n",
            "  inflating: data_original/interactions.csv  \n",
            "  inflating: __MACOSX/data_original/._interactions.csv  \n",
            "  inflating: data_original/users.csv  \n",
            "  inflating: __MACOSX/data_original/._users.csv  \n",
            "  inflating: data_original/items.csv  \n",
            "  inflating: __MACOSX/data_original/._items.csv  \n"
          ]
        }
      ],
      "source": [
        "!wget -q https://github.com/irsafilo/KION_DATASET/raw/f69775be31fa5779907cf0a92ddedb70037fb5ae/data_original.zip -O data_KION.zip\n",
        "!unzip -o data_KION.zip\n",
        "!rm data_KION.zip"
      ]
    },
    {
      "cell_type": "code",
      "execution_count": 8,
      "metadata": {
        "id": "_L4MQxsZtt8a"
      },
      "outputs": [],
      "source": [
        "items = pd.read_csv('data_original/items.csv')\n",
        "\n",
        "interactions = pd.read_csv(\"data_original/interactions.csv\",\n",
        "                           parse_dates=['last_watch_dt'])\n",
        "interactions.rename(\n",
        "    columns={\n",
        "        'last_watch_dt': Columns.Datetime,\n",
        "    },\n",
        "    inplace=True)\n",
        "interactions[Columns.Weight] = np.where(interactions['watched_pct'] > 10, 3, 1)\n",
        "interactions = Interactions(interactions)\n",
        "\n",
        "users = pd.read_csv('data_original/users.csv')"
      ]
    },
    {
      "cell_type": "markdown",
      "metadata": {
        "id": "P06Dqd7MkFvk"
      },
      "source": [
        "### Preparing"
      ]
    },
    {
      "cell_type": "code",
      "execution_count": 9,
      "metadata": {
        "id": "0qwyml4fYuy6"
      },
      "outputs": [],
      "source": [
        "users.fillna('Unknown', inplace=True)"
      ]
    },
    {
      "cell_type": "code",
      "execution_count": 10,
      "metadata": {
        "colab": {
          "base_uri": "https://localhost:8080/"
        },
        "id": "dIsD8rr9Yv9D",
        "outputId": "6e3ed53d-b8c5-4a5b-adb6-91ae17e2324a"
      },
      "outputs": [
        {
          "name": "stderr",
          "output_type": "stream",
          "text": [
            "<ipython-input-10-04ac5ca2d71d>:6: SettingWithCopyWarning: \n",
            "A value is trying to be set on a copy of a slice from a DataFrame\n",
            "\n",
            "See the caveats in the documentation: https://pandas.pydata.org/pandas-docs/stable/user_guide/indexing.html#returning-a-view-versus-a-copy\n",
            "  train.drop(train.query(\"total_dur < 300\").index,\n"
          ]
        },
        {
          "name": "stdout",
          "output_type": "stream",
          "text": [
            "train: (3832711, 6)\n",
            "hot test: (333026, 6)\n",
            "cold test: (157956, 6)\n"
          ]
        }
      ],
      "source": [
        "# Производится Leave-time-out разбиение\n",
        "max_date = interactions.df['datetime'].max()\n",
        "\n",
        "train = interactions.df[\n",
        "    (interactions.df['datetime'] < max_date - pd.Timedelta(days=7))]\n",
        "train.drop(train.query(\"total_dur < 300\").index,\n",
        "           inplace=True) # удаляем короткие айтемы\n",
        "train_users = train[Columns.User].unique()\n",
        "\n",
        "test = interactions.df[\n",
        "    interactions.df['datetime'] >= max_date - pd.Timedelta(days=7)]\n",
        "test_users = test[Columns.User].unique()\n",
        "\n",
        "hot_test = test[test['user_id'].isin(train['user_id'].unique())]\n",
        "hot_test_users = hot_test[Columns.User].unique()\n",
        "\n",
        "cold_test = test[~test['user_id'].isin(train['user_id'].unique())]\n",
        "cold_test_users = cold_test[Columns.User].unique()\n",
        "\n",
        "catalog = train[Columns.Item].unique()\n",
        "\n",
        "print(f\"train: {train.shape}\")\n",
        "print(f\"hot test: {hot_test.shape}\")\n",
        "print(f\"cold test: {cold_test.shape}\")"
      ]
    },
    {
      "cell_type": "code",
      "execution_count": 11,
      "metadata": {
        "id": "kxERFXECb9JQ"
      },
      "outputs": [],
      "source": [
        "users = users.loc[users[Columns.User].isin(train[Columns.User])].copy()"
      ]
    },
    {
      "cell_type": "markdown",
      "metadata": {
        "id": "lGBBIY13ezFR"
      },
      "source": [
        "#### User features"
      ]
    },
    {
      "cell_type": "code",
      "execution_count": 12,
      "metadata": {
        "id": "omtBOCWncuUt"
      },
      "outputs": [],
      "source": [
        "# Выбрали фичи юзеров : Возраст, Доход, Пол\n",
        "user_features_names = [\"age\", \"income\", \"sex\"]\n",
        "cat_user_features_names = [feature for feature in user_features_names if users[feature].dtype == object]\n",
        "user_features_frames = []\n",
        "for feature in user_features_names:\n",
        "    feature_frame = users.reindex(columns=[\"user_id\", feature])\n",
        "    feature_frame.columns = [\"id\", \"value\"]\n",
        "    feature_frame[\"feature\"] = feature\n",
        "    user_features_frames.append(feature_frame)\n",
        "user_features = pd.concat(user_features_frames)"
      ]
    },
    {
      "cell_type": "code",
      "execution_count": 13,
      "metadata": {
        "colab": {
          "base_uri": "https://localhost:8080/",
          "height": 206
        },
        "id": "SZmSpbzfcuR4",
        "outputId": "cd45ca65-6d2c-4a2b-ff13-5f0d6bf4826c"
      },
      "outputs": [
        {
          "data": {
            "text/html": [
              "\n",
              "  <div id=\"df-1ed25aa0-7a23-4cc0-ae8c-19d44169db63\" class=\"colab-df-container\">\n",
              "    <div>\n",
              "<style scoped>\n",
              "    .dataframe tbody tr th:only-of-type {\n",
              "        vertical-align: middle;\n",
              "    }\n",
              "\n",
              "    .dataframe tbody tr th {\n",
              "        vertical-align: top;\n",
              "    }\n",
              "\n",
              "    .dataframe thead th {\n",
              "        text-align: right;\n",
              "    }\n",
              "</style>\n",
              "<table border=\"1\" class=\"dataframe\">\n",
              "  <thead>\n",
              "    <tr style=\"text-align: right;\">\n",
              "      <th></th>\n",
              "      <th>id</th>\n",
              "      <th>value</th>\n",
              "      <th>feature</th>\n",
              "    </tr>\n",
              "  </thead>\n",
              "  <tbody>\n",
              "    <tr>\n",
              "      <th>0</th>\n",
              "      <td>973171</td>\n",
              "      <td>age_25_34</td>\n",
              "      <td>age</td>\n",
              "    </tr>\n",
              "    <tr>\n",
              "      <th>1</th>\n",
              "      <td>962099</td>\n",
              "      <td>age_18_24</td>\n",
              "      <td>age</td>\n",
              "    </tr>\n",
              "    <tr>\n",
              "      <th>3</th>\n",
              "      <td>721985</td>\n",
              "      <td>age_45_54</td>\n",
              "      <td>age</td>\n",
              "    </tr>\n",
              "    <tr>\n",
              "      <th>4</th>\n",
              "      <td>704055</td>\n",
              "      <td>age_35_44</td>\n",
              "      <td>age</td>\n",
              "    </tr>\n",
              "    <tr>\n",
              "      <th>5</th>\n",
              "      <td>1037719</td>\n",
              "      <td>age_45_54</td>\n",
              "      <td>age</td>\n",
              "    </tr>\n",
              "  </tbody>\n",
              "</table>\n",
              "</div>\n",
              "    <div class=\"colab-df-buttons\">\n",
              "\n",
              "  <div class=\"colab-df-container\">\n",
              "    <button class=\"colab-df-convert\" onclick=\"convertToInteractive('df-1ed25aa0-7a23-4cc0-ae8c-19d44169db63')\"\n",
              "            title=\"Convert this dataframe to an interactive table.\"\n",
              "            style=\"display:none;\">\n",
              "\n",
              "  <svg xmlns=\"http://www.w3.org/2000/svg\" height=\"24px\" viewBox=\"0 -960 960 960\">\n",
              "    <path d=\"M120-120v-720h720v720H120Zm60-500h600v-160H180v160Zm220 220h160v-160H400v160Zm0 220h160v-160H400v160ZM180-400h160v-160H180v160Zm440 0h160v-160H620v160ZM180-180h160v-160H180v160Zm440 0h160v-160H620v160Z\"/>\n",
              "  </svg>\n",
              "    </button>\n",
              "\n",
              "  <style>\n",
              "    .colab-df-container {\n",
              "      display:flex;\n",
              "      gap: 12px;\n",
              "    }\n",
              "\n",
              "    .colab-df-convert {\n",
              "      background-color: #E8F0FE;\n",
              "      border: none;\n",
              "      border-radius: 50%;\n",
              "      cursor: pointer;\n",
              "      display: none;\n",
              "      fill: #1967D2;\n",
              "      height: 32px;\n",
              "      padding: 0 0 0 0;\n",
              "      width: 32px;\n",
              "    }\n",
              "\n",
              "    .colab-df-convert:hover {\n",
              "      background-color: #E2EBFA;\n",
              "      box-shadow: 0px 1px 2px rgba(60, 64, 67, 0.3), 0px 1px 3px 1px rgba(60, 64, 67, 0.15);\n",
              "      fill: #174EA6;\n",
              "    }\n",
              "\n",
              "    .colab-df-buttons div {\n",
              "      margin-bottom: 4px;\n",
              "    }\n",
              "\n",
              "    [theme=dark] .colab-df-convert {\n",
              "      background-color: #3B4455;\n",
              "      fill: #D2E3FC;\n",
              "    }\n",
              "\n",
              "    [theme=dark] .colab-df-convert:hover {\n",
              "      background-color: #434B5C;\n",
              "      box-shadow: 0px 1px 3px 1px rgba(0, 0, 0, 0.15);\n",
              "      filter: drop-shadow(0px 1px 2px rgba(0, 0, 0, 0.3));\n",
              "      fill: #FFFFFF;\n",
              "    }\n",
              "  </style>\n",
              "\n",
              "    <script>\n",
              "      const buttonEl =\n",
              "        document.querySelector('#df-1ed25aa0-7a23-4cc0-ae8c-19d44169db63 button.colab-df-convert');\n",
              "      buttonEl.style.display =\n",
              "        google.colab.kernel.accessAllowed ? 'block' : 'none';\n",
              "\n",
              "      async function convertToInteractive(key) {\n",
              "        const element = document.querySelector('#df-1ed25aa0-7a23-4cc0-ae8c-19d44169db63');\n",
              "        const dataTable =\n",
              "          await google.colab.kernel.invokeFunction('convertToInteractive',\n",
              "                                                    [key], {});\n",
              "        if (!dataTable) return;\n",
              "\n",
              "        const docLinkHtml = 'Like what you see? Visit the ' +\n",
              "          '<a target=\"_blank\" href=https://colab.research.google.com/notebooks/data_table.ipynb>data table notebook</a>'\n",
              "          + ' to learn more about interactive tables.';\n",
              "        element.innerHTML = '';\n",
              "        dataTable['output_type'] = 'display_data';\n",
              "        await google.colab.output.renderOutput(dataTable, element);\n",
              "        const docLink = document.createElement('div');\n",
              "        docLink.innerHTML = docLinkHtml;\n",
              "        element.appendChild(docLink);\n",
              "      }\n",
              "    </script>\n",
              "  </div>\n",
              "\n",
              "\n",
              "<div id=\"df-bee02ba9-f194-46e0-808f-098e39f41855\">\n",
              "  <button class=\"colab-df-quickchart\" onclick=\"quickchart('df-bee02ba9-f194-46e0-808f-098e39f41855')\"\n",
              "            title=\"Suggest charts\"\n",
              "            style=\"display:none;\">\n",
              "\n",
              "<svg xmlns=\"http://www.w3.org/2000/svg\" height=\"24px\"viewBox=\"0 0 24 24\"\n",
              "     width=\"24px\">\n",
              "    <g>\n",
              "        <path d=\"M19 3H5c-1.1 0-2 .9-2 2v14c0 1.1.9 2 2 2h14c1.1 0 2-.9 2-2V5c0-1.1-.9-2-2-2zM9 17H7v-7h2v7zm4 0h-2V7h2v10zm4 0h-2v-4h2v4z\"/>\n",
              "    </g>\n",
              "</svg>\n",
              "  </button>\n",
              "\n",
              "<style>\n",
              "  .colab-df-quickchart {\n",
              "      --bg-color: #E8F0FE;\n",
              "      --fill-color: #1967D2;\n",
              "      --hover-bg-color: #E2EBFA;\n",
              "      --hover-fill-color: #174EA6;\n",
              "      --disabled-fill-color: #AAA;\n",
              "      --disabled-bg-color: #DDD;\n",
              "  }\n",
              "\n",
              "  [theme=dark] .colab-df-quickchart {\n",
              "      --bg-color: #3B4455;\n",
              "      --fill-color: #D2E3FC;\n",
              "      --hover-bg-color: #434B5C;\n",
              "      --hover-fill-color: #FFFFFF;\n",
              "      --disabled-bg-color: #3B4455;\n",
              "      --disabled-fill-color: #666;\n",
              "  }\n",
              "\n",
              "  .colab-df-quickchart {\n",
              "    background-color: var(--bg-color);\n",
              "    border: none;\n",
              "    border-radius: 50%;\n",
              "    cursor: pointer;\n",
              "    display: none;\n",
              "    fill: var(--fill-color);\n",
              "    height: 32px;\n",
              "    padding: 0;\n",
              "    width: 32px;\n",
              "  }\n",
              "\n",
              "  .colab-df-quickchart:hover {\n",
              "    background-color: var(--hover-bg-color);\n",
              "    box-shadow: 0 1px 2px rgba(60, 64, 67, 0.3), 0 1px 3px 1px rgba(60, 64, 67, 0.15);\n",
              "    fill: var(--button-hover-fill-color);\n",
              "  }\n",
              "\n",
              "  .colab-df-quickchart-complete:disabled,\n",
              "  .colab-df-quickchart-complete:disabled:hover {\n",
              "    background-color: var(--disabled-bg-color);\n",
              "    fill: var(--disabled-fill-color);\n",
              "    box-shadow: none;\n",
              "  }\n",
              "\n",
              "  .colab-df-spinner {\n",
              "    border: 2px solid var(--fill-color);\n",
              "    border-color: transparent;\n",
              "    border-bottom-color: var(--fill-color);\n",
              "    animation:\n",
              "      spin 1s steps(1) infinite;\n",
              "  }\n",
              "\n",
              "  @keyframes spin {\n",
              "    0% {\n",
              "      border-color: transparent;\n",
              "      border-bottom-color: var(--fill-color);\n",
              "      border-left-color: var(--fill-color);\n",
              "    }\n",
              "    20% {\n",
              "      border-color: transparent;\n",
              "      border-left-color: var(--fill-color);\n",
              "      border-top-color: var(--fill-color);\n",
              "    }\n",
              "    30% {\n",
              "      border-color: transparent;\n",
              "      border-left-color: var(--fill-color);\n",
              "      border-top-color: var(--fill-color);\n",
              "      border-right-color: var(--fill-color);\n",
              "    }\n",
              "    40% {\n",
              "      border-color: transparent;\n",
              "      border-right-color: var(--fill-color);\n",
              "      border-top-color: var(--fill-color);\n",
              "    }\n",
              "    60% {\n",
              "      border-color: transparent;\n",
              "      border-right-color: var(--fill-color);\n",
              "    }\n",
              "    80% {\n",
              "      border-color: transparent;\n",
              "      border-right-color: var(--fill-color);\n",
              "      border-bottom-color: var(--fill-color);\n",
              "    }\n",
              "    90% {\n",
              "      border-color: transparent;\n",
              "      border-bottom-color: var(--fill-color);\n",
              "    }\n",
              "  }\n",
              "</style>\n",
              "\n",
              "  <script>\n",
              "    async function quickchart(key) {\n",
              "      const quickchartButtonEl =\n",
              "        document.querySelector('#' + key + ' button');\n",
              "      quickchartButtonEl.disabled = true;  // To prevent multiple clicks.\n",
              "      quickchartButtonEl.classList.add('colab-df-spinner');\n",
              "      try {\n",
              "        const charts = await google.colab.kernel.invokeFunction(\n",
              "            'suggestCharts', [key], {});\n",
              "      } catch (error) {\n",
              "        console.error('Error during call to suggestCharts:', error);\n",
              "      }\n",
              "      quickchartButtonEl.classList.remove('colab-df-spinner');\n",
              "      quickchartButtonEl.classList.add('colab-df-quickchart-complete');\n",
              "    }\n",
              "    (() => {\n",
              "      let quickchartButtonEl =\n",
              "        document.querySelector('#df-bee02ba9-f194-46e0-808f-098e39f41855 button');\n",
              "      quickchartButtonEl.style.display =\n",
              "        google.colab.kernel.accessAllowed ? 'block' : 'none';\n",
              "    })();\n",
              "  </script>\n",
              "</div>\n",
              "    </div>\n",
              "  </div>\n"
            ],
            "text/plain": [
              "        id      value feature\n",
              "0   973171  age_25_34     age\n",
              "1   962099  age_18_24     age\n",
              "3   721985  age_45_54     age\n",
              "4   704055  age_35_44     age\n",
              "5  1037719  age_45_54     age"
            ]
          },
          "execution_count": 13,
          "metadata": {},
          "output_type": "execute_result"
        }
      ],
      "source": [
        "user_features.head()"
      ]
    },
    {
      "cell_type": "code",
      "execution_count": 14,
      "metadata": {
        "colab": {
          "base_uri": "https://localhost:8080/"
        },
        "id": "igOejel8cuPM",
        "outputId": "609c6ea9-d081-42ac-ea89-2a7792f52d9c"
      },
      "outputs": [
        {
          "name": "stdout",
          "output_type": "stream",
          "text": [
            "Number user features: 17\n"
          ]
        }
      ],
      "source": [
        "print('Number user features:', users[user_features_names].nunique().sum())"
      ]
    },
    {
      "cell_type": "markdown",
      "metadata": {
        "id": "R_nEEFD2e--b"
      },
      "source": [
        "#### Item features"
      ]
    },
    {
      "cell_type": "code",
      "execution_count": 15,
      "metadata": {
        "id": "IYhfVrFYcuJz"
      },
      "outputs": [],
      "source": [
        "items = items.loc[items[Columns.Item].isin(train[Columns.Item])].copy()"
      ]
    },
    {
      "cell_type": "code",
      "execution_count": 16,
      "metadata": {
        "id": "nXtGNT8icuG8"
      },
      "outputs": [],
      "source": [
        "YEAR_FROM = 1990\n",
        "STEP_SIZE = 5\n",
        "bins = [year for year in range(YEAR_FROM, int(items['release_year'].max()) + STEP_SIZE, STEP_SIZE)]\n",
        "bins = [int(items['release_year'].min())] + bins\n",
        "items['year_bin'] = pd.cut(items['release_year'],\n",
        "                           bins=bins, include_lowest=True)\n",
        "items['year_bin'] = items['year_bin'].astype('str')"
      ]
    },
    {
      "cell_type": "code",
      "execution_count": 17,
      "metadata": {
        "id": "6HvZmZbZf2oy"
      },
      "outputs": [],
      "source": [
        "item_features_names = []\n",
        "\n",
        "items[\"genre\"] = items[\"genres\"].str.lower().str.\\\n",
        "  replace(\", \", \",\", regex=False).str.split(\",\")\n",
        "genre_feature = items[[\"item_id\", \"genre\"]].explode(\"genre\")\n",
        "genre_feature.columns = [\"id\", \"value\"]\n",
        "genre_feature[\"feature\"] = \"genre\"\n",
        "item_features_names += [\"genre\"]\n",
        "item_features = genre_feature\n",
        "\n",
        "content_feature = items.reindex(columns=[Columns.Item, \"content_type\"])\n",
        "content_feature.columns = [\"id\", \"value\"]\n",
        "content_feature[\"feature\"] = \"content_type\"\n",
        "item_features_names += [\"content_type\"]\n",
        "\n",
        "year_feature = items.reindex(columns=[Columns.Item, \"year_bin\"])\n",
        "year_feature.columns = [\"id\", \"value\"]\n",
        "year_feature[\"feature\"] = \"year_bin\"\n",
        "item_features_names += [\"year_bin\"]"
      ]
    },
    {
      "cell_type": "code",
      "execution_count": 18,
      "metadata": {
        "id": "vt8AqLbGf2dX"
      },
      "outputs": [],
      "source": [
        "cat_item_features_names = [feature for feature in item_features_names if items[feature].dtype == object]"
      ]
    },
    {
      "cell_type": "code",
      "execution_count": 19,
      "metadata": {
        "id": "0NIyzLfBhY2m"
      },
      "outputs": [],
      "source": [
        "item_features = pd.concat((genre_feature, content_feature, year_feature))"
      ]
    },
    {
      "cell_type": "code",
      "execution_count": 20,
      "metadata": {
        "colab": {
          "base_uri": "https://localhost:8080/"
        },
        "id": "GJp7r5YChYz3",
        "outputId": "1a89527f-38fc-4fe9-d054-c1d7b2618b88"
      },
      "outputs": [
        {
          "name": "stdout",
          "output_type": "stream",
          "text": [
            "Number item features: 105\n"
          ]
        }
      ],
      "source": [
        "print('Number item features:', item_features.value.nunique())"
      ]
    },
    {
      "cell_type": "code",
      "execution_count": 21,
      "metadata": {
        "id": "Xey6JTpczlzY"
      },
      "outputs": [],
      "source": [
        "dataset_train = Dataset.construct(\n",
        "    interactions_df=train,\n",
        "    user_features_df=user_features,\n",
        "    cat_user_features=user_features_names,\n",
        "    item_features_df=item_features,\n",
        "    cat_item_features=cat_item_features_names\n",
        ")"
      ]
    },
    {
      "cell_type": "markdown",
      "metadata": {
        "id": "oyFZUb2DkCnI"
      },
      "source": [
        "### Metrics"
      ]
    },
    {
      "cell_type": "code",
      "execution_count": 22,
      "metadata": {
        "id": "j8_saWCRkCQw"
      },
      "outputs": [],
      "source": [
        "metrics = {\n",
        "    \"prec@1\": Precision(k=1),\n",
        "    \"prec@5\": Precision(k=5),\n",
        "    \"prec@10\": Precision(k=10),\n",
        "    \"recall@1\": Recall(k=1),\n",
        "    \"recall@5\": Recall(k=5),\n",
        "    \"recall@10\": Recall(k=10),\n",
        "    \"MAP@1\": MAP(k=1),\n",
        "    \"MAP@5\": MAP(k=5),\n",
        "    \"MAP@10\": MAP(k=10),\n",
        "    \"NDCG@1\": NDCG(k=1),\n",
        "    \"NDCG@5\": NDCG(k=5),\n",
        "    \"NDCG@10\": NDCG(k=10),\n",
        "    \"novelty@1\": MeanInvUserFreq(k=1),\n",
        "    \"novelty@5\": MeanInvUserFreq(k=5),\n",
        "    \"novelty@10\": MeanInvUserFreq(k=10),\n",
        "    \"serendipity@1\": Serendipity(k=1),\n",
        "    \"serendipity@5\": Serendipity(k=5),\n",
        "    \"serendipity@10\": Serendipity(k=10),\n",
        "}"
      ]
    },
    {
      "cell_type": "markdown",
      "metadata": {
        "id": "n7ngJyUrjVyB"
      },
      "source": [
        "### Model Training"
      ]
    },
    {
      "cell_type": "code",
      "execution_count": 23,
      "metadata": {
        "id": "I2VommyihYxF"
      },
      "outputs": [],
      "source": [
        "K_RECOS = 10\n",
        "N_FACTORS = 128\n",
        "REG = 0.5\n",
        "ALPHA = 10\n",
        "NUM_THREADS = 16\n",
        "ITERATIONS = 10"
      ]
    },
    {
      "cell_type": "code",
      "execution_count": 30,
      "metadata": {
        "id": "rshz25lThYum"
      },
      "outputs": [],
      "source": [
        "model = AlternatingLeastSquares(factors=N_FACTORS,\n",
        "                              regularization=REG,\n",
        "                              alpha=ALPHA,\n",
        "                              num_threads=NUM_THREADS,\n",
        "                              random_state=RANDOM_STATE,\n",
        "                              iterations=ITERATIONS)"
      ]
    },
    {
      "cell_type": "code",
      "execution_count": 31,
      "metadata": {
        "id": "x9I1KDxahYsA"
      },
      "outputs": [],
      "source": [
        "model_wrapper = ImplicitALSWrapperModel(model=model,\n",
        "                                      verbose=1,\n",
        "                                      fit_features_together=True)"
      ]
    },
    {
      "cell_type": "code",
      "execution_count": 32,
      "metadata": {
        "colab": {
          "base_uri": "https://localhost:8080/",
          "height": 101,
          "referenced_widgets": [
            "8caea731e54a47cbbe1cd328ac6bf59b",
            "fe8c2272783d4d768931bb60228d20be",
            "965aba63bb27486fb3ae7ae14cd209a1",
            "c5874e474492496197c89366cf720c31",
            "b9939229e98e460db55b7672fe1e9241",
            "91c936563e024e2ba38e09bb19eccdfc",
            "4c489f7197a748eba2fb3799eb90c35c",
            "33506ac3378943e9812eb37cc626e9ed",
            "858c3dcea11b4d92a8ffa1c1ea2a2c12",
            "7afc0ebe51b74234af38d67096f51801",
            "b8c752891e434a28a0f892177d642b44"
          ]
        },
        "id": "KcBRTijTpeEA",
        "outputId": "a52e50f6-08e9-42cc-9760-a510262df274"
      },
      "outputs": [
        {
          "data": {
            "application/vnd.jupyter.widget-view+json": {
              "model_id": "8caea731e54a47cbbe1cd328ac6bf59b",
              "version_major": 2,
              "version_minor": 0
            },
            "text/plain": [
              "  0%|          | 0/10 [00:00<?, ?it/s]"
            ]
          },
          "metadata": {},
          "output_type": "display_data"
        },
        {
          "name": "stdout",
          "output_type": "stream",
          "text": [
            "CPU times: user 6min 34s, sys: 6.41 s, total: 6min 41s\n",
            "Wall time: 4min 25s\n"
          ]
        },
        {
          "data": {
            "text/plain": [
              "<rectools.models.implicit_als.ImplicitALSWrapperModel at 0x7e0e52376a10>"
            ]
          },
          "execution_count": 32,
          "metadata": {},
          "output_type": "execute_result"
        }
      ],
      "source": [
        "%%time\n",
        "model_wrapper.fit(dataset_train)"
      ]
    },
    {
      "cell_type": "code",
      "execution_count": 33,
      "metadata": {
        "id": "un5vU3wLpeBP"
      },
      "outputs": [],
      "source": [
        "# with open(\"als_wrapper.dill\", \"wb\") as f:\n",
        "#     dill.dump(model_wrapper, f)"
      ]
    },
    {
      "cell_type": "code",
      "execution_count": 32,
      "metadata": {
        "id": "mVLrkFG-pd-q"
      },
      "outputs": [],
      "source": [
        "with open(\"als_wrapper.dill\", \"rb\") as f:\n",
        "    model_wrapper = dill.load(f)"
      ]
    },
    {
      "cell_type": "code",
      "execution_count": null,
      "metadata": {
        "id": "fXo7uVWl3y-n"
      },
      "outputs": [],
      "source": [
        "%%time\n",
        "recos_als_train = model_wrapper.recommend(users=train_users,\n",
        "                                        dataset=dataset_train,\n",
        "                                        k=10,\n",
        "                                        filter_viewed=False)"
      ]
    },
    {
      "cell_type": "code",
      "execution_count": 42,
      "metadata": {
        "id": "_D65bIIEACj7"
      },
      "outputs": [],
      "source": [
        "als_predict = (recos_als_train.groupby([\"user_id\"])).\\\n",
        "  agg({\"item_id\": lambda x: x.tolist()}).\\\n",
        "  to_dict()[\"item_id\"]"
      ]
    },
    {
      "cell_type": "code",
      "execution_count": 44,
      "metadata": {
        "id": "ppYhk-7dAUwJ"
      },
      "outputs": [],
      "source": [
        "# with open(\"als_predict_offline.dill\", \"wb\") as f:\n",
        "#     dill.dump(als_predict, f)"
      ]
    },
    {
      "cell_type": "code",
      "execution_count": 30,
      "metadata": {
        "id": "w6LBN1n8CYxG"
      },
      "outputs": [],
      "source": [
        "with open(\"als_predict_offline.dill\", \"rb\") as f:\n",
        "    als_predict = dill.load(f)"
      ]
    },
    {
      "cell_type": "code",
      "execution_count": 35,
      "metadata": {
        "colab": {
          "base_uri": "https://localhost:8080/"
        },
        "id": "AiVh4s2k3y7Q",
        "outputId": "4a2ebf6d-20ec-4029-deef-9e3377a67fe9"
      },
      "outputs": [
        {
          "name": "stdout",
          "output_type": "stream",
          "text": [
            "CPU times: user 57 s, sys: 9.6 s, total: 1min 6s\n",
            "Wall time: 42.2 s\n"
          ]
        }
      ],
      "source": [
        "%%time\n",
        "recos_als_hot_test = model_wrapper.recommend(users=hot_test_users,\n",
        "                                           dataset=dataset_train,\n",
        "                                           k=10,\n",
        "                                           filter_viewed=True)"
      ]
    },
    {
      "cell_type": "markdown",
      "metadata": {
        "id": "oquNyUJS88uI"
      },
      "source": [
        "### Metric calculation"
      ]
    },
    {
      "cell_type": "code",
      "execution_count": null,
      "metadata": {
        "id": "MprqWmDQ3y4o"
      },
      "outputs": [],
      "source": [
        "metric_values_train = calc_metrics(\n",
        "    metrics,\n",
        "    reco=recos_als_train,\n",
        "    interactions=train,\n",
        "    prev_interactions=train,\n",
        "    catalog=catalog,\n",
        ")"
      ]
    },
    {
      "cell_type": "code",
      "execution_count": 37,
      "metadata": {
        "colab": {
          "base_uri": "https://localhost:8080/",
          "height": 101
        },
        "id": "pKl91g788wlu",
        "outputId": "61cc5b97-b567-49ba-de1f-da2f2737b172"
      },
      "outputs": [
        {
          "data": {
            "text/html": [
              "\n",
              "  <div id=\"df-fdc87e8a-5ac2-45d2-9394-bee330a7be14\" class=\"colab-df-container\">\n",
              "    <div>\n",
              "<style scoped>\n",
              "    .dataframe tbody tr th:only-of-type {\n",
              "        vertical-align: middle;\n",
              "    }\n",
              "\n",
              "    .dataframe tbody tr th {\n",
              "        vertical-align: top;\n",
              "    }\n",
              "\n",
              "    .dataframe thead th {\n",
              "        text-align: right;\n",
              "    }\n",
              "</style>\n",
              "<table border=\"1\" class=\"dataframe\">\n",
              "  <thead>\n",
              "    <tr style=\"text-align: right;\">\n",
              "      <th></th>\n",
              "      <th>prec@1</th>\n",
              "      <th>recall@1</th>\n",
              "      <th>prec@5</th>\n",
              "      <th>recall@5</th>\n",
              "      <th>prec@10</th>\n",
              "      <th>recall@10</th>\n",
              "      <th>NDCG@1</th>\n",
              "      <th>NDCG@5</th>\n",
              "      <th>NDCG@10</th>\n",
              "      <th>MAP@1</th>\n",
              "      <th>MAP@5</th>\n",
              "      <th>MAP@10</th>\n",
              "      <th>novelty@1</th>\n",
              "      <th>novelty@5</th>\n",
              "      <th>novelty@10</th>\n",
              "      <th>serendipity@1</th>\n",
              "      <th>serendipity@5</th>\n",
              "      <th>serendipity@10</th>\n",
              "    </tr>\n",
              "  </thead>\n",
              "  <tbody>\n",
              "    <tr>\n",
              "      <th>AlternatingLeastSquares</th>\n",
              "      <td>0.606373</td>\n",
              "      <td>0.320049</td>\n",
              "      <td>0.25961</td>\n",
              "      <td>0.495294</td>\n",
              "      <td>0.175575</td>\n",
              "      <td>0.587255</td>\n",
              "      <td>0.606373</td>\n",
              "      <td>0.326624</td>\n",
              "      <td>0.244567</td>\n",
              "      <td>0.320049</td>\n",
              "      <td>0.423255</td>\n",
              "      <td>0.451658</td>\n",
              "      <td>3.580388</td>\n",
              "      <td>4.099956</td>\n",
              "      <td>4.782352</td>\n",
              "      <td>0.001451</td>\n",
              "      <td>0.000816</td>\n",
              "      <td>0.000676</td>\n",
              "    </tr>\n",
              "  </tbody>\n",
              "</table>\n",
              "</div>\n",
              "    <div class=\"colab-df-buttons\">\n",
              "\n",
              "  <div class=\"colab-df-container\">\n",
              "    <button class=\"colab-df-convert\" onclick=\"convertToInteractive('df-fdc87e8a-5ac2-45d2-9394-bee330a7be14')\"\n",
              "            title=\"Convert this dataframe to an interactive table.\"\n",
              "            style=\"display:none;\">\n",
              "\n",
              "  <svg xmlns=\"http://www.w3.org/2000/svg\" height=\"24px\" viewBox=\"0 -960 960 960\">\n",
              "    <path d=\"M120-120v-720h720v720H120Zm60-500h600v-160H180v160Zm220 220h160v-160H400v160Zm0 220h160v-160H400v160ZM180-400h160v-160H180v160Zm440 0h160v-160H620v160ZM180-180h160v-160H180v160Zm440 0h160v-160H620v160Z\"/>\n",
              "  </svg>\n",
              "    </button>\n",
              "\n",
              "  <style>\n",
              "    .colab-df-container {\n",
              "      display:flex;\n",
              "      gap: 12px;\n",
              "    }\n",
              "\n",
              "    .colab-df-convert {\n",
              "      background-color: #E8F0FE;\n",
              "      border: none;\n",
              "      border-radius: 50%;\n",
              "      cursor: pointer;\n",
              "      display: none;\n",
              "      fill: #1967D2;\n",
              "      height: 32px;\n",
              "      padding: 0 0 0 0;\n",
              "      width: 32px;\n",
              "    }\n",
              "\n",
              "    .colab-df-convert:hover {\n",
              "      background-color: #E2EBFA;\n",
              "      box-shadow: 0px 1px 2px rgba(60, 64, 67, 0.3), 0px 1px 3px 1px rgba(60, 64, 67, 0.15);\n",
              "      fill: #174EA6;\n",
              "    }\n",
              "\n",
              "    .colab-df-buttons div {\n",
              "      margin-bottom: 4px;\n",
              "    }\n",
              "\n",
              "    [theme=dark] .colab-df-convert {\n",
              "      background-color: #3B4455;\n",
              "      fill: #D2E3FC;\n",
              "    }\n",
              "\n",
              "    [theme=dark] .colab-df-convert:hover {\n",
              "      background-color: #434B5C;\n",
              "      box-shadow: 0px 1px 3px 1px rgba(0, 0, 0, 0.15);\n",
              "      filter: drop-shadow(0px 1px 2px rgba(0, 0, 0, 0.3));\n",
              "      fill: #FFFFFF;\n",
              "    }\n",
              "  </style>\n",
              "\n",
              "    <script>\n",
              "      const buttonEl =\n",
              "        document.querySelector('#df-fdc87e8a-5ac2-45d2-9394-bee330a7be14 button.colab-df-convert');\n",
              "      buttonEl.style.display =\n",
              "        google.colab.kernel.accessAllowed ? 'block' : 'none';\n",
              "\n",
              "      async function convertToInteractive(key) {\n",
              "        const element = document.querySelector('#df-fdc87e8a-5ac2-45d2-9394-bee330a7be14');\n",
              "        const dataTable =\n",
              "          await google.colab.kernel.invokeFunction('convertToInteractive',\n",
              "                                                    [key], {});\n",
              "        if (!dataTable) return;\n",
              "\n",
              "        const docLinkHtml = 'Like what you see? Visit the ' +\n",
              "          '<a target=\"_blank\" href=https://colab.research.google.com/notebooks/data_table.ipynb>data table notebook</a>'\n",
              "          + ' to learn more about interactive tables.';\n",
              "        element.innerHTML = '';\n",
              "        dataTable['output_type'] = 'display_data';\n",
              "        await google.colab.output.renderOutput(dataTable, element);\n",
              "        const docLink = document.createElement('div');\n",
              "        docLink.innerHTML = docLinkHtml;\n",
              "        element.appendChild(docLink);\n",
              "      }\n",
              "    </script>\n",
              "  </div>\n",
              "\n",
              "    </div>\n",
              "  </div>\n"
            ],
            "text/plain": [
              "                           prec@1  recall@1   prec@5  recall@5   prec@10  \\\n",
              "AlternatingLeastSquares  0.606373  0.320049  0.25961  0.495294  0.175575   \n",
              "\n",
              "                         recall@10    NDCG@1    NDCG@5   NDCG@10     MAP@1  \\\n",
              "AlternatingLeastSquares   0.587255  0.606373  0.326624  0.244567  0.320049   \n",
              "\n",
              "                            MAP@5    MAP@10  novelty@1  novelty@5  novelty@10  \\\n",
              "AlternatingLeastSquares  0.423255  0.451658   3.580388   4.099956    4.782352   \n",
              "\n",
              "                         serendipity@1  serendipity@5  serendipity@10  \n",
              "AlternatingLeastSquares       0.001451       0.000816        0.000676  "
            ]
          },
          "execution_count": 37,
          "metadata": {},
          "output_type": "execute_result"
        }
      ],
      "source": [
        "pd.DataFrame(metric_values_train, index=['AlternatingLeastSquares'])"
      ]
    },
    {
      "cell_type": "code",
      "execution_count": 38,
      "metadata": {
        "id": "BPSz9fSs8wjE"
      },
      "outputs": [],
      "source": [
        "metric_values_hot_test = calc_metrics(\n",
        "    metrics,\n",
        "    reco=recos_als_hot_test,\n",
        "    interactions=hot_test,\n",
        "    prev_interactions=train,\n",
        "    catalog=catalog,\n",
        ")"
      ]
    },
    {
      "cell_type": "code",
      "execution_count": 39,
      "metadata": {
        "colab": {
          "base_uri": "https://localhost:8080/",
          "height": 101
        },
        "id": "u3mdkTBk8wgf",
        "outputId": "5ed78a64-1643-48ad-89cd-812727cc18d3"
      },
      "outputs": [
        {
          "data": {
            "text/html": [
              "\n",
              "  <div id=\"df-79eda0bc-2db1-4297-8013-b4b7618f0001\" class=\"colab-df-container\">\n",
              "    <div>\n",
              "<style scoped>\n",
              "    .dataframe tbody tr th:only-of-type {\n",
              "        vertical-align: middle;\n",
              "    }\n",
              "\n",
              "    .dataframe tbody tr th {\n",
              "        vertical-align: top;\n",
              "    }\n",
              "\n",
              "    .dataframe thead th {\n",
              "        text-align: right;\n",
              "    }\n",
              "</style>\n",
              "<table border=\"1\" class=\"dataframe\">\n",
              "  <thead>\n",
              "    <tr style=\"text-align: right;\">\n",
              "      <th></th>\n",
              "      <th>prec@1</th>\n",
              "      <th>recall@1</th>\n",
              "      <th>prec@5</th>\n",
              "      <th>recall@5</th>\n",
              "      <th>prec@10</th>\n",
              "      <th>recall@10</th>\n",
              "      <th>NDCG@1</th>\n",
              "      <th>NDCG@5</th>\n",
              "      <th>NDCG@10</th>\n",
              "      <th>MAP@1</th>\n",
              "      <th>MAP@5</th>\n",
              "      <th>MAP@10</th>\n",
              "      <th>novelty@1</th>\n",
              "      <th>novelty@5</th>\n",
              "      <th>novelty@10</th>\n",
              "      <th>serendipity@1</th>\n",
              "      <th>serendipity@5</th>\n",
              "      <th>serendipity@10</th>\n",
              "    </tr>\n",
              "  </thead>\n",
              "  <tbody>\n",
              "    <tr>\n",
              "      <th>AlternatingLeastSquares</th>\n",
              "      <td>0.084176</td>\n",
              "      <td>0.042648</td>\n",
              "      <td>0.04966</td>\n",
              "      <td>0.117898</td>\n",
              "      <td>0.035179</td>\n",
              "      <td>0.161811</td>\n",
              "      <td>0.084176</td>\n",
              "      <td>0.057019</td>\n",
              "      <td>0.04433</td>\n",
              "      <td>0.042648</td>\n",
              "      <td>0.071558</td>\n",
              "      <td>0.078446</td>\n",
              "      <td>3.487526</td>\n",
              "      <td>4.250914</td>\n",
              "      <td>4.988936</td>\n",
              "      <td>0.000037</td>\n",
              "      <td>0.000041</td>\n",
              "      <td>0.000046</td>\n",
              "    </tr>\n",
              "  </tbody>\n",
              "</table>\n",
              "</div>\n",
              "    <div class=\"colab-df-buttons\">\n",
              "\n",
              "  <div class=\"colab-df-container\">\n",
              "    <button class=\"colab-df-convert\" onclick=\"convertToInteractive('df-79eda0bc-2db1-4297-8013-b4b7618f0001')\"\n",
              "            title=\"Convert this dataframe to an interactive table.\"\n",
              "            style=\"display:none;\">\n",
              "\n",
              "  <svg xmlns=\"http://www.w3.org/2000/svg\" height=\"24px\" viewBox=\"0 -960 960 960\">\n",
              "    <path d=\"M120-120v-720h720v720H120Zm60-500h600v-160H180v160Zm220 220h160v-160H400v160Zm0 220h160v-160H400v160ZM180-400h160v-160H180v160Zm440 0h160v-160H620v160ZM180-180h160v-160H180v160Zm440 0h160v-160H620v160Z\"/>\n",
              "  </svg>\n",
              "    </button>\n",
              "\n",
              "  <style>\n",
              "    .colab-df-container {\n",
              "      display:flex;\n",
              "      gap: 12px;\n",
              "    }\n",
              "\n",
              "    .colab-df-convert {\n",
              "      background-color: #E8F0FE;\n",
              "      border: none;\n",
              "      border-radius: 50%;\n",
              "      cursor: pointer;\n",
              "      display: none;\n",
              "      fill: #1967D2;\n",
              "      height: 32px;\n",
              "      padding: 0 0 0 0;\n",
              "      width: 32px;\n",
              "    }\n",
              "\n",
              "    .colab-df-convert:hover {\n",
              "      background-color: #E2EBFA;\n",
              "      box-shadow: 0px 1px 2px rgba(60, 64, 67, 0.3), 0px 1px 3px 1px rgba(60, 64, 67, 0.15);\n",
              "      fill: #174EA6;\n",
              "    }\n",
              "\n",
              "    .colab-df-buttons div {\n",
              "      margin-bottom: 4px;\n",
              "    }\n",
              "\n",
              "    [theme=dark] .colab-df-convert {\n",
              "      background-color: #3B4455;\n",
              "      fill: #D2E3FC;\n",
              "    }\n",
              "\n",
              "    [theme=dark] .colab-df-convert:hover {\n",
              "      background-color: #434B5C;\n",
              "      box-shadow: 0px 1px 3px 1px rgba(0, 0, 0, 0.15);\n",
              "      filter: drop-shadow(0px 1px 2px rgba(0, 0, 0, 0.3));\n",
              "      fill: #FFFFFF;\n",
              "    }\n",
              "  </style>\n",
              "\n",
              "    <script>\n",
              "      const buttonEl =\n",
              "        document.querySelector('#df-79eda0bc-2db1-4297-8013-b4b7618f0001 button.colab-df-convert');\n",
              "      buttonEl.style.display =\n",
              "        google.colab.kernel.accessAllowed ? 'block' : 'none';\n",
              "\n",
              "      async function convertToInteractive(key) {\n",
              "        const element = document.querySelector('#df-79eda0bc-2db1-4297-8013-b4b7618f0001');\n",
              "        const dataTable =\n",
              "          await google.colab.kernel.invokeFunction('convertToInteractive',\n",
              "                                                    [key], {});\n",
              "        if (!dataTable) return;\n",
              "\n",
              "        const docLinkHtml = 'Like what you see? Visit the ' +\n",
              "          '<a target=\"_blank\" href=https://colab.research.google.com/notebooks/data_table.ipynb>data table notebook</a>'\n",
              "          + ' to learn more about interactive tables.';\n",
              "        element.innerHTML = '';\n",
              "        dataTable['output_type'] = 'display_data';\n",
              "        await google.colab.output.renderOutput(dataTable, element);\n",
              "        const docLink = document.createElement('div');\n",
              "        docLink.innerHTML = docLinkHtml;\n",
              "        element.appendChild(docLink);\n",
              "      }\n",
              "    </script>\n",
              "  </div>\n",
              "\n",
              "    </div>\n",
              "  </div>\n"
            ],
            "text/plain": [
              "                           prec@1  recall@1   prec@5  recall@5   prec@10  \\\n",
              "AlternatingLeastSquares  0.084176  0.042648  0.04966  0.117898  0.035179   \n",
              "\n",
              "                         recall@10    NDCG@1    NDCG@5  NDCG@10     MAP@1  \\\n",
              "AlternatingLeastSquares   0.161811  0.084176  0.057019  0.04433  0.042648   \n",
              "\n",
              "                            MAP@5    MAP@10  novelty@1  novelty@5  novelty@10  \\\n",
              "AlternatingLeastSquares  0.071558  0.078446   3.487526   4.250914    4.988936   \n",
              "\n",
              "                         serendipity@1  serendipity@5  serendipity@10  \n",
              "AlternatingLeastSquares       0.000037       0.000041        0.000046  "
            ]
          },
          "execution_count": 39,
          "metadata": {},
          "output_type": "execute_result"
        }
      ],
      "source": [
        "pd.DataFrame(metric_values_hot_test, index=['AlternatingLeastSquares'])"
      ]
    },
    {
      "cell_type": "markdown",
      "metadata": {
        "id": "bxccP40b9NQD"
      },
      "source": [
        "### Воспользоваться методом приближенного поиска соседей для выдачи рекомендаций (3 балла)"
      ]
    },
    {
      "cell_type": "code",
      "execution_count": 36,
      "metadata": {
        "id": "kwriL9CQ3y2A"
      },
      "outputs": [],
      "source": [
        "user_vectors, item_vectors = model_wrapper.get_vectors()"
      ]
    },
    {
      "cell_type": "code",
      "execution_count": 37,
      "metadata": {
        "id": "k5x7yZrC9Nq-"
      },
      "outputs": [],
      "source": [
        "user_id_map = dataset_train.user_id_map\n",
        "item_id_map = dataset_train.item_id_map"
      ]
    },
    {
      "cell_type": "code",
      "execution_count": 38,
      "metadata": {
        "id": "P7fPIsHU9c0r"
      },
      "outputs": [],
      "source": [
        "# with open(\"user_id_map.dill\", \"wb\") as f:\n",
        "#     dill.dump(dataset_train.user_id_map, f)"
      ]
    },
    {
      "cell_type": "code",
      "execution_count": 39,
      "metadata": {
        "id": "W4B-eNKp9rO3"
      },
      "outputs": [],
      "source": [
        "# with open(\"item_id_map.dill\", \"wb\") as f:\n",
        "#     dill.dump(dataset_train.item_id_map, f)"
      ]
    },
    {
      "cell_type": "code",
      "execution_count": 40,
      "metadata": {
        "id": "xtlseu7j9rL8"
      },
      "outputs": [],
      "source": [
        "index_init_params = {\"method\": \"hnsw\",\n",
        "                     \"space\": \"negdotprod\",\n",
        "                     \"data_type\": nmslib.DataType.DENSE_VECTOR}"
      ]
    },
    {
      "cell_type": "code",
      "execution_count": 41,
      "metadata": {
        "id": "Scyo3SFe9rJF"
      },
      "outputs": [],
      "source": [
        "ann = UserToItemAnnRecommender(user_vectors=user_vectors,\n",
        "                               item_vectors=item_vectors,\n",
        "                               user_id_map=user_id_map,\n",
        "                               item_id_map=item_id_map,\n",
        "                               index_init_params= index_init_params)"
      ]
    },
    {
      "cell_type": "code",
      "execution_count": 42,
      "metadata": {
        "colab": {
          "base_uri": "https://localhost:8080/"
        },
        "id": "41_LqGNd9rAG",
        "outputId": "c4bb9aea-d6c0-4932-e081-613705e4965a"
      },
      "outputs": [
        {
          "name": "stdout",
          "output_type": "stream",
          "text": [
            "CPU times: user 5.24 s, sys: 55.5 ms, total: 5.3 s\n",
            "Wall time: 2.83 s\n"
          ]
        },
        {
          "data": {
            "text/plain": [
              "<rectools.tools.ann.UserToItemAnnRecommender at 0x7940650c11e0>"
            ]
          },
          "execution_count": 42,
          "metadata": {},
          "output_type": "execute_result"
        }
      ],
      "source": [
        "%%time\n",
        "ann.fit()"
      ]
    },
    {
      "cell_type": "code",
      "execution_count": 43,
      "metadata": {
        "id": "SK2nJD5TCKiH"
      },
      "outputs": [],
      "source": [
        "# ann.index.saveIndex(filename='ann_index.dill')"
      ]
    },
    {
      "cell_type": "code",
      "execution_count": 44,
      "metadata": {
        "id": "egam3eqY9u1X"
      },
      "outputs": [],
      "source": [
        "ann.index.loadIndex('ann_index.dill')"
      ]
    },
    {
      "cell_type": "code",
      "execution_count": 45,
      "metadata": {
        "colab": {
          "base_uri": "https://localhost:8080/"
        },
        "id": "tzBVrd4A9uyO",
        "outputId": "7b880682-1b70-4499-8c46-4f28ca659462"
      },
      "outputs": [
        {
          "data": {
            "text/plain": [
              "[13865, 9728, 3734, 10440, 15297, 8636, 11237, 12995, 4436, 4151]"
            ]
          },
          "execution_count": 45,
          "metadata": {},
          "output_type": "execute_result"
        }
      ],
      "source": [
        "ann.get_item_list_for_user(962099, top_n=10).tolist()"
      ]
    },
    {
      "cell_type": "code",
      "execution_count": 46,
      "metadata": {
        "colab": {
          "base_uri": "https://localhost:8080/"
        },
        "id": "ImxjIo409uvl",
        "outputId": "8e878e6e-080d-456b-a35f-74bb31f00863"
      },
      "outputs": [
        {
          "name": "stdout",
          "output_type": "stream",
          "text": [
            "CPU times: user 235 ms, sys: 136 ms, total: 371 ms\n",
            "Wall time: 358 ms\n"
          ]
        },
        {
          "data": {
            "text/plain": [
              "array([13865,  9728,  3734, 10440, 15297,  4457,  8636, 11237, 12995,\n",
              "        4436])"
            ]
          },
          "execution_count": 46,
          "metadata": {},
          "output_type": "execute_result"
        }
      ],
      "source": [
        "%%time\n",
        "model_wrapper.recommend(users=[962099], dataset=dataset_train, k=10, filter_viewed=False).item_id.values"
      ]
    },
    {
      "cell_type": "code",
      "execution_count": 47,
      "metadata": {
        "colab": {
          "base_uri": "https://localhost:8080/"
        },
        "id": "Dj2cTcx79yFO",
        "outputId": "4af5a3b3-2b61-4672-b3b4-628f043b8b3c"
      },
      "outputs": [
        {
          "name": "stdout",
          "output_type": "stream",
          "text": [
            "CPU times: user 1min 53s, sys: 967 ms, total: 1min 54s\n",
            "Wall time: 1min 57s\n"
          ]
        }
      ],
      "source": [
        "%%time\n",
        "recos_hot_ann = pd.DataFrame([hot_test_users,\n",
        "                              ann.get_item_list_for_user_batch(user_ids=hot_test_users,\n",
        "                                                               top_n=K_RECOS)]).T\n",
        "recos_hot_ann.columns = [Columns.User, Columns.Item]\n",
        "recos_hot_ann = recos_hot_ann.explode(Columns.Item)\n",
        "recos_hot_ann['score'] = 0\n",
        "recos_hot_ann['rank'] = recos_hot_ann.groupby('user_id').cumcount() + 1\n",
        "recos_hot_ann['score'] = K_RECOS - recos_hot_ann['rank']"
      ]
    },
    {
      "cell_type": "code",
      "execution_count": 48,
      "metadata": {
        "id": "s5EddMet9yCk"
      },
      "outputs": [],
      "source": [
        "metric_values_hot_ann = calc_metrics(\n",
        "    metrics,\n",
        "    reco=recos_hot_ann,\n",
        "    interactions=hot_test,\n",
        "    prev_interactions=train,\n",
        "    catalog=catalog,\n",
        ")"
      ]
    },
    {
      "cell_type": "code",
      "execution_count": 49,
      "metadata": {
        "colab": {
          "base_uri": "https://localhost:8080/",
          "height": 118
        },
        "id": "KKHnDP8B9yAF",
        "outputId": "52301b72-bc9e-433b-9cdb-466f04b773ff"
      },
      "outputs": [
        {
          "data": {
            "text/html": [
              "\n",
              "  <div id=\"df-36b248f1-7e1f-48f4-902e-1711c6f1e753\" class=\"colab-df-container\">\n",
              "    <div>\n",
              "<style scoped>\n",
              "    .dataframe tbody tr th:only-of-type {\n",
              "        vertical-align: middle;\n",
              "    }\n",
              "\n",
              "    .dataframe tbody tr th {\n",
              "        vertical-align: top;\n",
              "    }\n",
              "\n",
              "    .dataframe thead th {\n",
              "        text-align: right;\n",
              "    }\n",
              "</style>\n",
              "<table border=\"1\" class=\"dataframe\">\n",
              "  <thead>\n",
              "    <tr style=\"text-align: right;\">\n",
              "      <th></th>\n",
              "      <th>prec@1</th>\n",
              "      <th>recall@1</th>\n",
              "      <th>prec@5</th>\n",
              "      <th>recall@5</th>\n",
              "      <th>prec@10</th>\n",
              "      <th>recall@10</th>\n",
              "      <th>NDCG@1</th>\n",
              "      <th>NDCG@5</th>\n",
              "      <th>NDCG@10</th>\n",
              "      <th>MAP@1</th>\n",
              "      <th>MAP@5</th>\n",
              "      <th>MAP@10</th>\n",
              "      <th>novelty@1</th>\n",
              "      <th>novelty@5</th>\n",
              "      <th>novelty@10</th>\n",
              "      <th>serendipity@1</th>\n",
              "      <th>serendipity@5</th>\n",
              "      <th>serendipity@10</th>\n",
              "    </tr>\n",
              "  </thead>\n",
              "  <tbody>\n",
              "    <tr>\n",
              "      <th>AlternatingLeastSquares + ANN</th>\n",
              "      <td>0.035414</td>\n",
              "      <td>0.016748</td>\n",
              "      <td>0.038634</td>\n",
              "      <td>0.094214</td>\n",
              "      <td>0.029448</td>\n",
              "      <td>0.137391</td>\n",
              "      <td>0.035414</td>\n",
              "      <td>0.038866</td>\n",
              "      <td>0.032401</td>\n",
              "      <td>0.016748</td>\n",
              "      <td>0.044475</td>\n",
              "      <td>0.051093</td>\n",
              "      <td>3.694268</td>\n",
              "      <td>4.14407</td>\n",
              "      <td>4.779194</td>\n",
              "      <td>0.000017</td>\n",
              "      <td>0.000027</td>\n",
              "      <td>0.000032</td>\n",
              "    </tr>\n",
              "  </tbody>\n",
              "</table>\n",
              "</div>\n",
              "    <div class=\"colab-df-buttons\">\n",
              "\n",
              "  <div class=\"colab-df-container\">\n",
              "    <button class=\"colab-df-convert\" onclick=\"convertToInteractive('df-36b248f1-7e1f-48f4-902e-1711c6f1e753')\"\n",
              "            title=\"Convert this dataframe to an interactive table.\"\n",
              "            style=\"display:none;\">\n",
              "\n",
              "  <svg xmlns=\"http://www.w3.org/2000/svg\" height=\"24px\" viewBox=\"0 -960 960 960\">\n",
              "    <path d=\"M120-120v-720h720v720H120Zm60-500h600v-160H180v160Zm220 220h160v-160H400v160Zm0 220h160v-160H400v160ZM180-400h160v-160H180v160Zm440 0h160v-160H620v160ZM180-180h160v-160H180v160Zm440 0h160v-160H620v160Z\"/>\n",
              "  </svg>\n",
              "    </button>\n",
              "\n",
              "  <style>\n",
              "    .colab-df-container {\n",
              "      display:flex;\n",
              "      gap: 12px;\n",
              "    }\n",
              "\n",
              "    .colab-df-convert {\n",
              "      background-color: #E8F0FE;\n",
              "      border: none;\n",
              "      border-radius: 50%;\n",
              "      cursor: pointer;\n",
              "      display: none;\n",
              "      fill: #1967D2;\n",
              "      height: 32px;\n",
              "      padding: 0 0 0 0;\n",
              "      width: 32px;\n",
              "    }\n",
              "\n",
              "    .colab-df-convert:hover {\n",
              "      background-color: #E2EBFA;\n",
              "      box-shadow: 0px 1px 2px rgba(60, 64, 67, 0.3), 0px 1px 3px 1px rgba(60, 64, 67, 0.15);\n",
              "      fill: #174EA6;\n",
              "    }\n",
              "\n",
              "    .colab-df-buttons div {\n",
              "      margin-bottom: 4px;\n",
              "    }\n",
              "\n",
              "    [theme=dark] .colab-df-convert {\n",
              "      background-color: #3B4455;\n",
              "      fill: #D2E3FC;\n",
              "    }\n",
              "\n",
              "    [theme=dark] .colab-df-convert:hover {\n",
              "      background-color: #434B5C;\n",
              "      box-shadow: 0px 1px 3px 1px rgba(0, 0, 0, 0.15);\n",
              "      filter: drop-shadow(0px 1px 2px rgba(0, 0, 0, 0.3));\n",
              "      fill: #FFFFFF;\n",
              "    }\n",
              "  </style>\n",
              "\n",
              "    <script>\n",
              "      const buttonEl =\n",
              "        document.querySelector('#df-36b248f1-7e1f-48f4-902e-1711c6f1e753 button.colab-df-convert');\n",
              "      buttonEl.style.display =\n",
              "        google.colab.kernel.accessAllowed ? 'block' : 'none';\n",
              "\n",
              "      async function convertToInteractive(key) {\n",
              "        const element = document.querySelector('#df-36b248f1-7e1f-48f4-902e-1711c6f1e753');\n",
              "        const dataTable =\n",
              "          await google.colab.kernel.invokeFunction('convertToInteractive',\n",
              "                                                    [key], {});\n",
              "        if (!dataTable) return;\n",
              "\n",
              "        const docLinkHtml = 'Like what you see? Visit the ' +\n",
              "          '<a target=\"_blank\" href=https://colab.research.google.com/notebooks/data_table.ipynb>data table notebook</a>'\n",
              "          + ' to learn more about interactive tables.';\n",
              "        element.innerHTML = '';\n",
              "        dataTable['output_type'] = 'display_data';\n",
              "        await google.colab.output.renderOutput(dataTable, element);\n",
              "        const docLink = document.createElement('div');\n",
              "        docLink.innerHTML = docLinkHtml;\n",
              "        element.appendChild(docLink);\n",
              "      }\n",
              "    </script>\n",
              "  </div>\n",
              "\n",
              "    </div>\n",
              "  </div>\n"
            ],
            "text/plain": [
              "                                 prec@1  recall@1    prec@5  recall@5  \\\n",
              "AlternatingLeastSquares + ANN  0.035414  0.016748  0.038634  0.094214   \n",
              "\n",
              "                                prec@10  recall@10    NDCG@1    NDCG@5  \\\n",
              "AlternatingLeastSquares + ANN  0.029448   0.137391  0.035414  0.038866   \n",
              "\n",
              "                                NDCG@10     MAP@1     MAP@5    MAP@10  \\\n",
              "AlternatingLeastSquares + ANN  0.032401  0.016748  0.044475  0.051093   \n",
              "\n",
              "                               novelty@1  novelty@5  novelty@10  \\\n",
              "AlternatingLeastSquares + ANN   3.694268    4.14407    4.779194   \n",
              "\n",
              "                               serendipity@1  serendipity@5  serendipity@10  \n",
              "AlternatingLeastSquares + ANN       0.000017       0.000027        0.000032  "
            ]
          },
          "execution_count": 49,
          "metadata": {},
          "output_type": "execute_result"
        }
      ],
      "source": [
        "pd.DataFrame(metric_values_hot_ann, index=['AlternatingLeastSquares + ANN'])"
      ]
    }
  ],
  "metadata": {
    "colab": {
      "provenance": []
    },
    "kernelspec": {
      "display_name": "Python 3",
      "language": "python",
      "name": "python3"
    },
    "language_info": {
      "codemirror_mode": {
        "name": "ipython",
        "version": 3
      },
      "file_extension": ".py",
      "mimetype": "text/x-python",
      "name": "python",
      "nbconvert_exporter": "python",
      "pygments_lexer": "ipython3",
      "version": "3.10.6"
    },
    "toc": {
      "base_numbering": 1,
      "nav_menu": {},
      "number_sections": true,
      "sideBar": true,
      "skip_h1_title": false,
      "title_cell": "Table of Contents",
      "title_sidebar": "Contents",
      "toc_cell": false,
      "toc_position": {},
      "toc_section_display": true,
      "toc_window_display": false
    },
    "widgets": {
      "application/vnd.jupyter.widget-state+json": {
        "33506ac3378943e9812eb37cc626e9ed": {
          "model_module": "@jupyter-widgets/base",
          "model_module_version": "1.2.0",
          "model_name": "LayoutModel",
          "state": {
            "_model_module": "@jupyter-widgets/base",
            "_model_module_version": "1.2.0",
            "_model_name": "LayoutModel",
            "_view_count": null,
            "_view_module": "@jupyter-widgets/base",
            "_view_module_version": "1.2.0",
            "_view_name": "LayoutView",
            "align_content": null,
            "align_items": null,
            "align_self": null,
            "border": null,
            "bottom": null,
            "display": null,
            "flex": null,
            "flex_flow": null,
            "grid_area": null,
            "grid_auto_columns": null,
            "grid_auto_flow": null,
            "grid_auto_rows": null,
            "grid_column": null,
            "grid_gap": null,
            "grid_row": null,
            "grid_template_areas": null,
            "grid_template_columns": null,
            "grid_template_rows": null,
            "height": null,
            "justify_content": null,
            "justify_items": null,
            "left": null,
            "margin": null,
            "max_height": null,
            "max_width": null,
            "min_height": null,
            "min_width": null,
            "object_fit": null,
            "object_position": null,
            "order": null,
            "overflow": null,
            "overflow_x": null,
            "overflow_y": null,
            "padding": null,
            "right": null,
            "top": null,
            "visibility": null,
            "width": null
          }
        },
        "4c489f7197a748eba2fb3799eb90c35c": {
          "model_module": "@jupyter-widgets/controls",
          "model_module_version": "1.5.0",
          "model_name": "DescriptionStyleModel",
          "state": {
            "_model_module": "@jupyter-widgets/controls",
            "_model_module_version": "1.5.0",
            "_model_name": "DescriptionStyleModel",
            "_view_count": null,
            "_view_module": "@jupyter-widgets/base",
            "_view_module_version": "1.2.0",
            "_view_name": "StyleView",
            "description_width": ""
          }
        },
        "7afc0ebe51b74234af38d67096f51801": {
          "model_module": "@jupyter-widgets/base",
          "model_module_version": "1.2.0",
          "model_name": "LayoutModel",
          "state": {
            "_model_module": "@jupyter-widgets/base",
            "_model_module_version": "1.2.0",
            "_model_name": "LayoutModel",
            "_view_count": null,
            "_view_module": "@jupyter-widgets/base",
            "_view_module_version": "1.2.0",
            "_view_name": "LayoutView",
            "align_content": null,
            "align_items": null,
            "align_self": null,
            "border": null,
            "bottom": null,
            "display": null,
            "flex": null,
            "flex_flow": null,
            "grid_area": null,
            "grid_auto_columns": null,
            "grid_auto_flow": null,
            "grid_auto_rows": null,
            "grid_column": null,
            "grid_gap": null,
            "grid_row": null,
            "grid_template_areas": null,
            "grid_template_columns": null,
            "grid_template_rows": null,
            "height": null,
            "justify_content": null,
            "justify_items": null,
            "left": null,
            "margin": null,
            "max_height": null,
            "max_width": null,
            "min_height": null,
            "min_width": null,
            "object_fit": null,
            "object_position": null,
            "order": null,
            "overflow": null,
            "overflow_x": null,
            "overflow_y": null,
            "padding": null,
            "right": null,
            "top": null,
            "visibility": null,
            "width": null
          }
        },
        "858c3dcea11b4d92a8ffa1c1ea2a2c12": {
          "model_module": "@jupyter-widgets/controls",
          "model_module_version": "1.5.0",
          "model_name": "ProgressStyleModel",
          "state": {
            "_model_module": "@jupyter-widgets/controls",
            "_model_module_version": "1.5.0",
            "_model_name": "ProgressStyleModel",
            "_view_count": null,
            "_view_module": "@jupyter-widgets/base",
            "_view_module_version": "1.2.0",
            "_view_name": "StyleView",
            "bar_color": null,
            "description_width": ""
          }
        },
        "8caea731e54a47cbbe1cd328ac6bf59b": {
          "model_module": "@jupyter-widgets/controls",
          "model_module_version": "1.5.0",
          "model_name": "HBoxModel",
          "state": {
            "_dom_classes": [],
            "_model_module": "@jupyter-widgets/controls",
            "_model_module_version": "1.5.0",
            "_model_name": "HBoxModel",
            "_view_count": null,
            "_view_module": "@jupyter-widgets/controls",
            "_view_module_version": "1.5.0",
            "_view_name": "HBoxView",
            "box_style": "",
            "children": [
              "IPY_MODEL_fe8c2272783d4d768931bb60228d20be",
              "IPY_MODEL_965aba63bb27486fb3ae7ae14cd209a1",
              "IPY_MODEL_c5874e474492496197c89366cf720c31"
            ],
            "layout": "IPY_MODEL_b9939229e98e460db55b7672fe1e9241"
          }
        },
        "91c936563e024e2ba38e09bb19eccdfc": {
          "model_module": "@jupyter-widgets/base",
          "model_module_version": "1.2.0",
          "model_name": "LayoutModel",
          "state": {
            "_model_module": "@jupyter-widgets/base",
            "_model_module_version": "1.2.0",
            "_model_name": "LayoutModel",
            "_view_count": null,
            "_view_module": "@jupyter-widgets/base",
            "_view_module_version": "1.2.0",
            "_view_name": "LayoutView",
            "align_content": null,
            "align_items": null,
            "align_self": null,
            "border": null,
            "bottom": null,
            "display": null,
            "flex": null,
            "flex_flow": null,
            "grid_area": null,
            "grid_auto_columns": null,
            "grid_auto_flow": null,
            "grid_auto_rows": null,
            "grid_column": null,
            "grid_gap": null,
            "grid_row": null,
            "grid_template_areas": null,
            "grid_template_columns": null,
            "grid_template_rows": null,
            "height": null,
            "justify_content": null,
            "justify_items": null,
            "left": null,
            "margin": null,
            "max_height": null,
            "max_width": null,
            "min_height": null,
            "min_width": null,
            "object_fit": null,
            "object_position": null,
            "order": null,
            "overflow": null,
            "overflow_x": null,
            "overflow_y": null,
            "padding": null,
            "right": null,
            "top": null,
            "visibility": null,
            "width": null
          }
        },
        "965aba63bb27486fb3ae7ae14cd209a1": {
          "model_module": "@jupyter-widgets/controls",
          "model_module_version": "1.5.0",
          "model_name": "FloatProgressModel",
          "state": {
            "_dom_classes": [],
            "_model_module": "@jupyter-widgets/controls",
            "_model_module_version": "1.5.0",
            "_model_name": "FloatProgressModel",
            "_view_count": null,
            "_view_module": "@jupyter-widgets/controls",
            "_view_module_version": "1.5.0",
            "_view_name": "ProgressView",
            "bar_style": "success",
            "description": "",
            "description_tooltip": null,
            "layout": "IPY_MODEL_33506ac3378943e9812eb37cc626e9ed",
            "max": 10,
            "min": 0,
            "orientation": "horizontal",
            "style": "IPY_MODEL_858c3dcea11b4d92a8ffa1c1ea2a2c12",
            "value": 10
          }
        },
        "b8c752891e434a28a0f892177d642b44": {
          "model_module": "@jupyter-widgets/controls",
          "model_module_version": "1.5.0",
          "model_name": "DescriptionStyleModel",
          "state": {
            "_model_module": "@jupyter-widgets/controls",
            "_model_module_version": "1.5.0",
            "_model_name": "DescriptionStyleModel",
            "_view_count": null,
            "_view_module": "@jupyter-widgets/base",
            "_view_module_version": "1.2.0",
            "_view_name": "StyleView",
            "description_width": ""
          }
        },
        "b9939229e98e460db55b7672fe1e9241": {
          "model_module": "@jupyter-widgets/base",
          "model_module_version": "1.2.0",
          "model_name": "LayoutModel",
          "state": {
            "_model_module": "@jupyter-widgets/base",
            "_model_module_version": "1.2.0",
            "_model_name": "LayoutModel",
            "_view_count": null,
            "_view_module": "@jupyter-widgets/base",
            "_view_module_version": "1.2.0",
            "_view_name": "LayoutView",
            "align_content": null,
            "align_items": null,
            "align_self": null,
            "border": null,
            "bottom": null,
            "display": null,
            "flex": null,
            "flex_flow": null,
            "grid_area": null,
            "grid_auto_columns": null,
            "grid_auto_flow": null,
            "grid_auto_rows": null,
            "grid_column": null,
            "grid_gap": null,
            "grid_row": null,
            "grid_template_areas": null,
            "grid_template_columns": null,
            "grid_template_rows": null,
            "height": null,
            "justify_content": null,
            "justify_items": null,
            "left": null,
            "margin": null,
            "max_height": null,
            "max_width": null,
            "min_height": null,
            "min_width": null,
            "object_fit": null,
            "object_position": null,
            "order": null,
            "overflow": null,
            "overflow_x": null,
            "overflow_y": null,
            "padding": null,
            "right": null,
            "top": null,
            "visibility": null,
            "width": null
          }
        },
        "c5874e474492496197c89366cf720c31": {
          "model_module": "@jupyter-widgets/controls",
          "model_module_version": "1.5.0",
          "model_name": "HTMLModel",
          "state": {
            "_dom_classes": [],
            "_model_module": "@jupyter-widgets/controls",
            "_model_module_version": "1.5.0",
            "_model_name": "HTMLModel",
            "_view_count": null,
            "_view_module": "@jupyter-widgets/controls",
            "_view_module_version": "1.5.0",
            "_view_name": "HTMLView",
            "description": "",
            "description_tooltip": null,
            "layout": "IPY_MODEL_7afc0ebe51b74234af38d67096f51801",
            "placeholder": "​",
            "style": "IPY_MODEL_b8c752891e434a28a0f892177d642b44",
            "value": " 10/10 [04:22&lt;00:00, 25.52s/it]"
          }
        },
        "fe8c2272783d4d768931bb60228d20be": {
          "model_module": "@jupyter-widgets/controls",
          "model_module_version": "1.5.0",
          "model_name": "HTMLModel",
          "state": {
            "_dom_classes": [],
            "_model_module": "@jupyter-widgets/controls",
            "_model_module_version": "1.5.0",
            "_model_name": "HTMLModel",
            "_view_count": null,
            "_view_module": "@jupyter-widgets/controls",
            "_view_module_version": "1.5.0",
            "_view_name": "HTMLView",
            "description": "",
            "description_tooltip": null,
            "layout": "IPY_MODEL_91c936563e024e2ba38e09bb19eccdfc",
            "placeholder": "​",
            "style": "IPY_MODEL_4c489f7197a748eba2fb3799eb90c35c",
            "value": "100%"
          }
        }
      }
    }
  },
  "nbformat": 4,
  "nbformat_minor": 0
}
