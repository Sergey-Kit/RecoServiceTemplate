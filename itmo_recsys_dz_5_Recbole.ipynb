{
  "cells": [
    {
      "cell_type": "markdown",
      "metadata": {
        "id": "view-in-github",
        "colab_type": "text"
      },
      "source": [
        "<a href=\"https://colab.research.google.com/github/Sergey-Kit/RecoServiceTemplate/blob/hww_5/itmo_recsys_dz_5_Recbole.ipynb\" target=\"_parent\"><img src=\"https://colab.research.google.com/assets/colab-badge.svg\" alt=\"Open In Colab\"/></a>"
      ]
    },
    {
      "cell_type": "code",
      "execution_count": 1,
      "metadata": {
        "colab": {
          "base_uri": "https://localhost:8080/"
        },
        "id": "7JXS5DvVHFIG",
        "outputId": "dab7c606-2d88-4c94-fd14-3fca70623ab0"
      },
      "outputs": [
        {
          "output_type": "stream",
          "name": "stdout",
          "text": [
            "\u001b[2K     \u001b[90m━━━━━━━━━━━━━━━━━━━━━━━━━━━━━━━━━━━━━━━━\u001b[0m \u001b[32m2.1/2.1 MB\u001b[0m \u001b[31m17.6 MB/s\u001b[0m eta \u001b[36m0:00:00\u001b[0m\n",
            "\u001b[2K     \u001b[90m━━━━━━━━━━━━━━━━━━━━━━━━━━━━━━━━━━━━━━━━\u001b[0m \u001b[32m62.6/62.6 MB\u001b[0m \u001b[31m10.0 MB/s\u001b[0m eta \u001b[36m0:00:00\u001b[0m\n",
            "\u001b[?25h"
          ]
        }
      ],
      "source": [
        "!pip -q install recbole ray kmeans_pytorch"
      ]
    },
    {
      "cell_type": "code",
      "execution_count": 18,
      "metadata": {
        "id": "Go4YY0Z1CwRR"
      },
      "outputs": [],
      "source": [
        "import ast\n",
        "import json\n",
        "import matplotlib.pyplot as plt\n",
        "import numpy as np\n",
        "import os\n",
        "import pandas as pd\n",
        "import pickle\n",
        "\n",
        "import torch\n",
        "from recbole.model.general_recommender.multivae import MultiVAE\n",
        "\n",
        "import warnings\n",
        "warnings.filterwarnings('ignore')\n",
        "\n",
        "from collections import Counter\n",
        "from random import randint, random\n",
        "from scipy.sparse import coo_matrix, hstack\n",
        "from sklearn.metrics.pairwise import euclidean_distances, cosine_distances, cosine_similarity\n",
        "import logging\n",
        "from logging import getLogger\n",
        "from recbole.config import Config\n",
        "from recbole.data import create_dataset, data_preparation\n",
        "from recbole.model.sequential_recommender import GRU4Rec, Caser\n",
        "from recbole.trainer import Trainer\n",
        "from recbole.utils import init_seed, init_logger\n",
        "from recbole.quick_start import run_recbole"
      ]
    },
    {
      "cell_type": "code",
      "execution_count": 3,
      "metadata": {
        "id": "TJ_LBZH6Ehjx"
      },
      "outputs": [],
      "source": [
        "import warnings\n",
        "warnings.filterwarnings('ignore')"
      ]
    },
    {
      "cell_type": "code",
      "execution_count": 52,
      "metadata": {
        "id": "SfpMdCk5_oZi",
        "colab": {
          "base_uri": "https://localhost:8080/"
        },
        "outputId": "20a800d7-35f7-4624-91ba-6b26bb633dc3"
      },
      "outputs": [
        {
          "output_type": "stream",
          "name": "stdout",
          "text": [
            "Archive:  data_KION.zip\n",
            "  inflating: data_original/interactions.csv  \n",
            "  inflating: __MACOSX/data_original/._interactions.csv  \n",
            "  inflating: data_original/users.csv  \n",
            "  inflating: __MACOSX/data_original/._users.csv  \n",
            "  inflating: data_original/items.csv  \n",
            "  inflating: __MACOSX/data_original/._items.csv  \n"
          ]
        }
      ],
      "source": [
        "!wget -q https://github.com/irsafilo/KION_DATASET/raw/f69775be31fa5779907cf0a92ddedb70037fb5ae/data_original.zip -O data_KION.zip\n",
        "!unzip -o data_KION.zip\n",
        "!rm data_KION.zip"
      ]
    },
    {
      "cell_type": "code",
      "execution_count": 53,
      "metadata": {
        "id": "TubU2ceFABXA"
      },
      "outputs": [],
      "source": [
        "items = pd.read_csv('data_original/items.csv')\n",
        "interactions = pd.read_csv(\"data_original/interactions.csv\",\n",
        "                           parse_dates=['last_watch_dt'])\n",
        "users = pd.read_csv('data_original/users.csv')"
      ]
    },
    {
      "cell_type": "markdown",
      "metadata": {
        "id": "__vFdeZiBzER"
      },
      "source": [
        "## User /  Item / Interaction preparation"
      ]
    },
    {
      "cell_type": "code",
      "execution_count": 54,
      "metadata": {
        "id": "8qbUf6j9BrlD"
      },
      "outputs": [],
      "source": [
        "users.fillna('unknown', inplace=True)\n",
        "users['age'] = users['age'].astype('category')\n",
        "users['income'] = users['income'].astype('category')\n",
        "users['sex'] = users['sex'].astype('category')\n",
        "users['kids_flg'] = users['kids_flg'].astype('bool')\n",
        "\n",
        "items['content_type'] = items['content_type'].astype('category')\n",
        "items['title'] = items['title'].str.lower()\n",
        "items['title_orig'] = items['title_orig'].fillna('unknown')\n",
        "\n",
        "items['release_year'] = items['release_year'].fillna(2020)\n",
        "items.loc[items['release_year'] < 1920, 'release_year_cat'] = 'inf_1920'\n",
        "items.loc[items['release_year'] >= 2020, 'release_year_cat'] = '2020_inf'\n",
        "for i in range (1920, 2020, 10):\n",
        "    items.loc[(items['release_year'] >= i) & (items['release_year'] < i+10), 'release_year_cat'] = f'{i}-{i+10}'\n",
        "items = items.drop(columns=['release_year'])\n",
        "items['release_year_cat'] = items['release_year_cat'].astype('category')\n",
        "\n",
        "items['genres'] = items['genres'].astype('category')\n",
        "\n",
        "items['countries'] = items['countries'].fillna('Россия')\n",
        "items['countries'] = items['countries'].str.lower()\n",
        "items['countries'] = items['countries'].apply(\n",
        "    lambda x: ', '.join(sorted(list(set(x.split(', '))))))\n",
        "items['countries'] = items['countries'].astype('category')\n",
        "\n",
        "items['for_kids'] = items['for_kids'].fillna(0).astype('bool')\n",
        "items['age_rating'] = items['age_rating'].fillna(0).astype('category')\n",
        "\n",
        "items['studios'] = items['studios'].fillna('unknown').str.lower()\n",
        "items['studios'] = items['studios'].apply(\n",
        "    lambda x: ', '.join(sorted(list(set(x.split(', '))))))\n",
        "items['studios'] = items['studios'].astype('category')\n",
        "\n",
        "items['directors'] = items['directors'].fillna('unknown').str.lower().\\\n",
        "  astype('category')\n",
        "\n",
        "items['actors'] = items['actors'].fillna('unknown').astype('category')\n",
        "\n",
        "items['keywords'] = items['keywords'].fillna('unknown').\\\n",
        "  apply(lambda x: list(x.lower().replace(',','').split()))\n",
        "\n",
        "items['description'] = items['description'].fillna('unknown')\n",
        "\n",
        "interactions['watched_pct'] = interactions['watched_pct'].astype(pd.Int8Dtype())\n",
        "interactions['watched_pct'] = interactions['watched_pct'].fillna(0)"
      ]
    },
    {
      "cell_type": "code",
      "source": [
        "user_cat_feats = [\"age\", \"income\", \"sex\", \"kids_flg\"]\n",
        "users_ohe = users.user_id\n",
        "for feat in user_cat_feats:\n",
        "    ohe_feat = pd.get_dummies(users[feat], prefix=feat)\n",
        "    users_ohe = pd.concat([users_ohe, ohe_feat], axis=1)\n",
        "users_ohe.head()"
      ],
      "metadata": {
        "colab": {
          "base_uri": "https://localhost:8080/",
          "height": 226
        },
        "id": "wAbABrPd7kZd",
        "outputId": "a9b48e5b-0374-4227-aaaa-49bb94b7cd4c"
      },
      "execution_count": 55,
      "outputs": [
        {
          "output_type": "execute_result",
          "data": {
            "text/plain": [
              "   user_id  age_age_18_24  age_age_25_34  age_age_35_44  age_age_45_54  \\\n",
              "0   973171              0              1              0              0   \n",
              "1   962099              1              0              0              0   \n",
              "2  1047345              0              0              0              1   \n",
              "3   721985              0              0              0              1   \n",
              "4   704055              0              0              1              0   \n",
              "\n",
              "   age_age_55_64  age_age_65_inf  age_unknown  income_income_0_20  \\\n",
              "0              0               0            0                   0   \n",
              "1              0               0            0                   0   \n",
              "2              0               0            0                   0   \n",
              "3              0               0            0                   0   \n",
              "4              0               0            0                   0   \n",
              "\n",
              "   income_income_150_inf  income_income_20_40  income_income_40_60  \\\n",
              "0                      0                    0                    0   \n",
              "1                      0                    1                    0   \n",
              "2                      0                    0                    1   \n",
              "3                      0                    1                    0   \n",
              "4                      0                    0                    0   \n",
              "\n",
              "   income_income_60_90  income_income_90_150  income_unknown  sex_unknown  \\\n",
              "0                    1                     0               0            0   \n",
              "1                    0                     0               0            0   \n",
              "2                    0                     0               0            0   \n",
              "3                    0                     0               0            0   \n",
              "4                    1                     0               0            0   \n",
              "\n",
              "   sex_Ж  sex_М  kids_flg_False  kids_flg_True  \n",
              "0      0      1               0              1  \n",
              "1      0      1               1              0  \n",
              "2      1      0               1              0  \n",
              "3      1      0               1              0  \n",
              "4      1      0               1              0  "
            ],
            "text/html": [
              "\n",
              "  <div id=\"df-15bcace2-e416-42b9-acf0-716e3bad9a70\" class=\"colab-df-container\">\n",
              "    <div>\n",
              "<style scoped>\n",
              "    .dataframe tbody tr th:only-of-type {\n",
              "        vertical-align: middle;\n",
              "    }\n",
              "\n",
              "    .dataframe tbody tr th {\n",
              "        vertical-align: top;\n",
              "    }\n",
              "\n",
              "    .dataframe thead th {\n",
              "        text-align: right;\n",
              "    }\n",
              "</style>\n",
              "<table border=\"1\" class=\"dataframe\">\n",
              "  <thead>\n",
              "    <tr style=\"text-align: right;\">\n",
              "      <th></th>\n",
              "      <th>user_id</th>\n",
              "      <th>age_age_18_24</th>\n",
              "      <th>age_age_25_34</th>\n",
              "      <th>age_age_35_44</th>\n",
              "      <th>age_age_45_54</th>\n",
              "      <th>age_age_55_64</th>\n",
              "      <th>age_age_65_inf</th>\n",
              "      <th>age_unknown</th>\n",
              "      <th>income_income_0_20</th>\n",
              "      <th>income_income_150_inf</th>\n",
              "      <th>income_income_20_40</th>\n",
              "      <th>income_income_40_60</th>\n",
              "      <th>income_income_60_90</th>\n",
              "      <th>income_income_90_150</th>\n",
              "      <th>income_unknown</th>\n",
              "      <th>sex_unknown</th>\n",
              "      <th>sex_Ж</th>\n",
              "      <th>sex_М</th>\n",
              "      <th>kids_flg_False</th>\n",
              "      <th>kids_flg_True</th>\n",
              "    </tr>\n",
              "  </thead>\n",
              "  <tbody>\n",
              "    <tr>\n",
              "      <th>0</th>\n",
              "      <td>973171</td>\n",
              "      <td>0</td>\n",
              "      <td>1</td>\n",
              "      <td>0</td>\n",
              "      <td>0</td>\n",
              "      <td>0</td>\n",
              "      <td>0</td>\n",
              "      <td>0</td>\n",
              "      <td>0</td>\n",
              "      <td>0</td>\n",
              "      <td>0</td>\n",
              "      <td>0</td>\n",
              "      <td>1</td>\n",
              "      <td>0</td>\n",
              "      <td>0</td>\n",
              "      <td>0</td>\n",
              "      <td>0</td>\n",
              "      <td>1</td>\n",
              "      <td>0</td>\n",
              "      <td>1</td>\n",
              "    </tr>\n",
              "    <tr>\n",
              "      <th>1</th>\n",
              "      <td>962099</td>\n",
              "      <td>1</td>\n",
              "      <td>0</td>\n",
              "      <td>0</td>\n",
              "      <td>0</td>\n",
              "      <td>0</td>\n",
              "      <td>0</td>\n",
              "      <td>0</td>\n",
              "      <td>0</td>\n",
              "      <td>0</td>\n",
              "      <td>1</td>\n",
              "      <td>0</td>\n",
              "      <td>0</td>\n",
              "      <td>0</td>\n",
              "      <td>0</td>\n",
              "      <td>0</td>\n",
              "      <td>0</td>\n",
              "      <td>1</td>\n",
              "      <td>1</td>\n",
              "      <td>0</td>\n",
              "    </tr>\n",
              "    <tr>\n",
              "      <th>2</th>\n",
              "      <td>1047345</td>\n",
              "      <td>0</td>\n",
              "      <td>0</td>\n",
              "      <td>0</td>\n",
              "      <td>1</td>\n",
              "      <td>0</td>\n",
              "      <td>0</td>\n",
              "      <td>0</td>\n",
              "      <td>0</td>\n",
              "      <td>0</td>\n",
              "      <td>0</td>\n",
              "      <td>1</td>\n",
              "      <td>0</td>\n",
              "      <td>0</td>\n",
              "      <td>0</td>\n",
              "      <td>0</td>\n",
              "      <td>1</td>\n",
              "      <td>0</td>\n",
              "      <td>1</td>\n",
              "      <td>0</td>\n",
              "    </tr>\n",
              "    <tr>\n",
              "      <th>3</th>\n",
              "      <td>721985</td>\n",
              "      <td>0</td>\n",
              "      <td>0</td>\n",
              "      <td>0</td>\n",
              "      <td>1</td>\n",
              "      <td>0</td>\n",
              "      <td>0</td>\n",
              "      <td>0</td>\n",
              "      <td>0</td>\n",
              "      <td>0</td>\n",
              "      <td>1</td>\n",
              "      <td>0</td>\n",
              "      <td>0</td>\n",
              "      <td>0</td>\n",
              "      <td>0</td>\n",
              "      <td>0</td>\n",
              "      <td>1</td>\n",
              "      <td>0</td>\n",
              "      <td>1</td>\n",
              "      <td>0</td>\n",
              "    </tr>\n",
              "    <tr>\n",
              "      <th>4</th>\n",
              "      <td>704055</td>\n",
              "      <td>0</td>\n",
              "      <td>0</td>\n",
              "      <td>1</td>\n",
              "      <td>0</td>\n",
              "      <td>0</td>\n",
              "      <td>0</td>\n",
              "      <td>0</td>\n",
              "      <td>0</td>\n",
              "      <td>0</td>\n",
              "      <td>0</td>\n",
              "      <td>0</td>\n",
              "      <td>1</td>\n",
              "      <td>0</td>\n",
              "      <td>0</td>\n",
              "      <td>0</td>\n",
              "      <td>1</td>\n",
              "      <td>0</td>\n",
              "      <td>1</td>\n",
              "      <td>0</td>\n",
              "    </tr>\n",
              "  </tbody>\n",
              "</table>\n",
              "</div>\n",
              "    <div class=\"colab-df-buttons\">\n",
              "\n",
              "  <div class=\"colab-df-container\">\n",
              "    <button class=\"colab-df-convert\" onclick=\"convertToInteractive('df-15bcace2-e416-42b9-acf0-716e3bad9a70')\"\n",
              "            title=\"Convert this dataframe to an interactive table.\"\n",
              "            style=\"display:none;\">\n",
              "\n",
              "  <svg xmlns=\"http://www.w3.org/2000/svg\" height=\"24px\" viewBox=\"0 -960 960 960\">\n",
              "    <path d=\"M120-120v-720h720v720H120Zm60-500h600v-160H180v160Zm220 220h160v-160H400v160Zm0 220h160v-160H400v160ZM180-400h160v-160H180v160Zm440 0h160v-160H620v160ZM180-180h160v-160H180v160Zm440 0h160v-160H620v160Z\"/>\n",
              "  </svg>\n",
              "    </button>\n",
              "\n",
              "  <style>\n",
              "    .colab-df-container {\n",
              "      display:flex;\n",
              "      gap: 12px;\n",
              "    }\n",
              "\n",
              "    .colab-df-convert {\n",
              "      background-color: #E8F0FE;\n",
              "      border: none;\n",
              "      border-radius: 50%;\n",
              "      cursor: pointer;\n",
              "      display: none;\n",
              "      fill: #1967D2;\n",
              "      height: 32px;\n",
              "      padding: 0 0 0 0;\n",
              "      width: 32px;\n",
              "    }\n",
              "\n",
              "    .colab-df-convert:hover {\n",
              "      background-color: #E2EBFA;\n",
              "      box-shadow: 0px 1px 2px rgba(60, 64, 67, 0.3), 0px 1px 3px 1px rgba(60, 64, 67, 0.15);\n",
              "      fill: #174EA6;\n",
              "    }\n",
              "\n",
              "    .colab-df-buttons div {\n",
              "      margin-bottom: 4px;\n",
              "    }\n",
              "\n",
              "    [theme=dark] .colab-df-convert {\n",
              "      background-color: #3B4455;\n",
              "      fill: #D2E3FC;\n",
              "    }\n",
              "\n",
              "    [theme=dark] .colab-df-convert:hover {\n",
              "      background-color: #434B5C;\n",
              "      box-shadow: 0px 1px 3px 1px rgba(0, 0, 0, 0.15);\n",
              "      filter: drop-shadow(0px 1px 2px rgba(0, 0, 0, 0.3));\n",
              "      fill: #FFFFFF;\n",
              "    }\n",
              "  </style>\n",
              "\n",
              "    <script>\n",
              "      const buttonEl =\n",
              "        document.querySelector('#df-15bcace2-e416-42b9-acf0-716e3bad9a70 button.colab-df-convert');\n",
              "      buttonEl.style.display =\n",
              "        google.colab.kernel.accessAllowed ? 'block' : 'none';\n",
              "\n",
              "      async function convertToInteractive(key) {\n",
              "        const element = document.querySelector('#df-15bcace2-e416-42b9-acf0-716e3bad9a70');\n",
              "        const dataTable =\n",
              "          await google.colab.kernel.invokeFunction('convertToInteractive',\n",
              "                                                    [key], {});\n",
              "        if (!dataTable) return;\n",
              "\n",
              "        const docLinkHtml = 'Like what you see? Visit the ' +\n",
              "          '<a target=\"_blank\" href=https://colab.research.google.com/notebooks/data_table.ipynb>data table notebook</a>'\n",
              "          + ' to learn more about interactive tables.';\n",
              "        element.innerHTML = '';\n",
              "        dataTable['output_type'] = 'display_data';\n",
              "        await google.colab.output.renderOutput(dataTable, element);\n",
              "        const docLink = document.createElement('div');\n",
              "        docLink.innerHTML = docLinkHtml;\n",
              "        element.appendChild(docLink);\n",
              "      }\n",
              "    </script>\n",
              "  </div>\n",
              "\n",
              "\n",
              "<div id=\"df-6d7f4ffd-29a9-4627-bf3c-25ee5e7b2703\">\n",
              "  <button class=\"colab-df-quickchart\" onclick=\"quickchart('df-6d7f4ffd-29a9-4627-bf3c-25ee5e7b2703')\"\n",
              "            title=\"Suggest charts\"\n",
              "            style=\"display:none;\">\n",
              "\n",
              "<svg xmlns=\"http://www.w3.org/2000/svg\" height=\"24px\"viewBox=\"0 0 24 24\"\n",
              "     width=\"24px\">\n",
              "    <g>\n",
              "        <path d=\"M19 3H5c-1.1 0-2 .9-2 2v14c0 1.1.9 2 2 2h14c1.1 0 2-.9 2-2V5c0-1.1-.9-2-2-2zM9 17H7v-7h2v7zm4 0h-2V7h2v10zm4 0h-2v-4h2v4z\"/>\n",
              "    </g>\n",
              "</svg>\n",
              "  </button>\n",
              "\n",
              "<style>\n",
              "  .colab-df-quickchart {\n",
              "      --bg-color: #E8F0FE;\n",
              "      --fill-color: #1967D2;\n",
              "      --hover-bg-color: #E2EBFA;\n",
              "      --hover-fill-color: #174EA6;\n",
              "      --disabled-fill-color: #AAA;\n",
              "      --disabled-bg-color: #DDD;\n",
              "  }\n",
              "\n",
              "  [theme=dark] .colab-df-quickchart {\n",
              "      --bg-color: #3B4455;\n",
              "      --fill-color: #D2E3FC;\n",
              "      --hover-bg-color: #434B5C;\n",
              "      --hover-fill-color: #FFFFFF;\n",
              "      --disabled-bg-color: #3B4455;\n",
              "      --disabled-fill-color: #666;\n",
              "  }\n",
              "\n",
              "  .colab-df-quickchart {\n",
              "    background-color: var(--bg-color);\n",
              "    border: none;\n",
              "    border-radius: 50%;\n",
              "    cursor: pointer;\n",
              "    display: none;\n",
              "    fill: var(--fill-color);\n",
              "    height: 32px;\n",
              "    padding: 0;\n",
              "    width: 32px;\n",
              "  }\n",
              "\n",
              "  .colab-df-quickchart:hover {\n",
              "    background-color: var(--hover-bg-color);\n",
              "    box-shadow: 0 1px 2px rgba(60, 64, 67, 0.3), 0 1px 3px 1px rgba(60, 64, 67, 0.15);\n",
              "    fill: var(--button-hover-fill-color);\n",
              "  }\n",
              "\n",
              "  .colab-df-quickchart-complete:disabled,\n",
              "  .colab-df-quickchart-complete:disabled:hover {\n",
              "    background-color: var(--disabled-bg-color);\n",
              "    fill: var(--disabled-fill-color);\n",
              "    box-shadow: none;\n",
              "  }\n",
              "\n",
              "  .colab-df-spinner {\n",
              "    border: 2px solid var(--fill-color);\n",
              "    border-color: transparent;\n",
              "    border-bottom-color: var(--fill-color);\n",
              "    animation:\n",
              "      spin 1s steps(1) infinite;\n",
              "  }\n",
              "\n",
              "  @keyframes spin {\n",
              "    0% {\n",
              "      border-color: transparent;\n",
              "      border-bottom-color: var(--fill-color);\n",
              "      border-left-color: var(--fill-color);\n",
              "    }\n",
              "    20% {\n",
              "      border-color: transparent;\n",
              "      border-left-color: var(--fill-color);\n",
              "      border-top-color: var(--fill-color);\n",
              "    }\n",
              "    30% {\n",
              "      border-color: transparent;\n",
              "      border-left-color: var(--fill-color);\n",
              "      border-top-color: var(--fill-color);\n",
              "      border-right-color: var(--fill-color);\n",
              "    }\n",
              "    40% {\n",
              "      border-color: transparent;\n",
              "      border-right-color: var(--fill-color);\n",
              "      border-top-color: var(--fill-color);\n",
              "    }\n",
              "    60% {\n",
              "      border-color: transparent;\n",
              "      border-right-color: var(--fill-color);\n",
              "    }\n",
              "    80% {\n",
              "      border-color: transparent;\n",
              "      border-right-color: var(--fill-color);\n",
              "      border-bottom-color: var(--fill-color);\n",
              "    }\n",
              "    90% {\n",
              "      border-color: transparent;\n",
              "      border-bottom-color: var(--fill-color);\n",
              "    }\n",
              "  }\n",
              "</style>\n",
              "\n",
              "  <script>\n",
              "    async function quickchart(key) {\n",
              "      const quickchartButtonEl =\n",
              "        document.querySelector('#' + key + ' button');\n",
              "      quickchartButtonEl.disabled = true;  // To prevent multiple clicks.\n",
              "      quickchartButtonEl.classList.add('colab-df-spinner');\n",
              "      try {\n",
              "        const charts = await google.colab.kernel.invokeFunction(\n",
              "            'suggestCharts', [key], {});\n",
              "      } catch (error) {\n",
              "        console.error('Error during call to suggestCharts:', error);\n",
              "      }\n",
              "      quickchartButtonEl.classList.remove('colab-df-spinner');\n",
              "      quickchartButtonEl.classList.add('colab-df-quickchart-complete');\n",
              "    }\n",
              "    (() => {\n",
              "      let quickchartButtonEl =\n",
              "        document.querySelector('#df-6d7f4ffd-29a9-4627-bf3c-25ee5e7b2703 button');\n",
              "      quickchartButtonEl.style.display =\n",
              "        google.colab.kernel.accessAllowed ? 'block' : 'none';\n",
              "    })();\n",
              "  </script>\n",
              "</div>\n",
              "    </div>\n",
              "  </div>\n"
            ]
          },
          "metadata": {},
          "execution_count": 55
        }
      ]
    },
    {
      "cell_type": "code",
      "source": [
        "users_ohe[\"uid\"] = users_ohe[\"user_id\"].astype(\"category\")\n",
        "users_ohe[\"uid\"] = users_ohe[\"uid\"].cat.codes\n",
        "\n",
        "uid_to_user_id = users_ohe[[\"uid\", \"user_id\"]].to_dict()[\"user_id\"]\n",
        "user_id_to_uid = {v:k for k, v in zip(uid_to_user_id.keys(), uid_to_user_id.values())}\n",
        "\n",
        "users_ohe.drop(columns=[\"uid\"], inplace=True)"
      ],
      "metadata": {
        "id": "qQlQwRKc8ccX"
      },
      "execution_count": 56,
      "outputs": []
    },
    {
      "cell_type": "code",
      "source": [
        "print(f\"N users before: {interactions.user_id.nunique()}\")\n",
        "print(f\"N items before: {interactions.item_id.nunique()}\\n\")\n",
        "\n",
        "# отфильтруем все события взаимодействий, в которых пользователь посмотрел\n",
        "# фильм менее чем на 10 процентов\n",
        "interactions = interactions[interactions.watched_pct > 10]\n",
        "\n",
        "# соберем всех пользователей, которые посмотрели\n",
        "# больше 10 фильмов\n",
        "valid_users = []\n",
        "\n",
        "c = Counter(interactions.user_id)\n",
        "for user_id, entries in c.most_common():\n",
        "    if entries > 10:\n",
        "        valid_users.append(user_id)\n",
        "\n",
        "# соберем все фильмы, которые посмотрели больше 3 пользователей\n",
        "valid_items = []\n",
        "\n",
        "c = Counter(interactions.item_id)\n",
        "for item_id, entries in c.most_common():\n",
        "    if entries > 3:\n",
        "        valid_items.append(item_id)\n",
        "\n",
        "# отбросим непопулярные фильмы и неактивных юзеров\n",
        "interactions = interactions[interactions.user_id.isin(valid_users)]\n",
        "interactions = interactions[interactions.item_id.isin(valid_items)]\n",
        "\n",
        "print(f\"N users after: {interactions.user_id.nunique()}\")\n",
        "print(f\"N items after: {interactions.item_id.nunique()}\")"
      ],
      "metadata": {
        "colab": {
          "base_uri": "https://localhost:8080/"
        },
        "id": "oqdeuyie8bWC",
        "outputId": "30709b22-d20e-4f07-8f12-3f80df715932"
      },
      "execution_count": 57,
      "outputs": [
        {
          "output_type": "stream",
          "name": "stdout",
          "text": [
            "N users before: 962179\n",
            "N items before: 15706\n",
            "\n",
            "N users after: 79515\n",
            "N items after: 9387\n"
          ]
        }
      ]
    },
    {
      "cell_type": "code",
      "source": [
        "common_users = set(interactions.user_id.unique()).intersection(set(users_ohe.user_id.unique()))\n",
        "\n",
        "interactions = interactions[interactions.user_id.isin(common_users)]\n",
        "users_ohe = users_ohe[users_ohe.user_id.isin(common_users)]\n",
        "\n",
        "common_items = set(interactions.item_id.unique()).intersection(set(items_ohe.item_id.unique()))\n",
        "\n",
        "interactions = interactions[interactions.item_id.isin(common_items)]\n",
        "items_ohe = items_ohe[items_ohe.item_id.isin(common_items)]\n",
        "\n",
        "print(len(common_users))\n",
        "print(len(common_items))"
      ],
      "metadata": {
        "id": "DtctFjwc8bTF"
      },
      "execution_count": null,
      "outputs": []
    },
    {
      "cell_type": "code",
      "source": [
        "max_date = interactions['last_watch_dt'].max()\n",
        "\n",
        "interactions_train = interactions[(interactions['last_watch_dt'] < max_date - pd.Timedelta(days=7))].copy()\n",
        "users_ohe_train = users_ohe[users_ohe['user_id'].isin(interactions_train['user_id'].unique())].copy()\n",
        "items_ohe_train = items_ohe[items_ohe['item_id'].isin(interactions_train['item_id'].unique())].copy()\n",
        "\n",
        "interactions_test = interactions[(interactions['last_watch_dt'] >= max_date - pd.Timedelta(days=7))].copy()\n",
        "\n",
        "# оставляем только теплых пользователей в тесте\n",
        "interactions_hot_test = interactions_test[(interactions_test['user_id'].isin(interactions_train['user_id'].unique())) & (interactions_test['item_id'].isin(interactions_train['item_id'].unique()))].copy()\n",
        "users_ohe_hot_test = users_ohe[users_ohe['user_id'].isin(interactions_hot_test['user_id'].unique())].copy()\n",
        "\n",
        "catalog = interactions_train['item_id'].unique()\n",
        "\n",
        "print(f\"train: {interactions_train.shape}\")\n",
        "print(f\"test: {interactions_test.shape}\")\n",
        "print(f\"hot test: {interactions_hot_test.shape}\")"
      ],
      "metadata": {
        "id": "dTvbYfhm9_zn"
      },
      "execution_count": null,
      "outputs": []
    },
    {
      "cell_type": "code",
      "source": [
        "interactions_train[\"uid\"] = interactions_train[\"user_id\"].astype(\"category\")\n",
        "interactions_train[\"uid\"] = interactions_train[\"uid\"].cat.codes\n",
        "\n",
        "interactions_hot_test[\"uid\"] = interactions_hot_test[\"user_id\"].astype(\"category\")\n",
        "interactions_hot_test[\"uid\"] = interactions_hot_test[\"uid\"].cat.codes\n",
        "\n",
        "interactions_train[\"iid\"] = interactions_train[\"item_id\"].astype(\"category\")\n",
        "interactions_train[\"iid\"] = interactions_train[\"iid\"].cat.codes\n",
        "\n",
        "mapping_iid = dict(zip(interactions_train['item_id'], interactions_train['iid']))\n",
        "interactions_hot_test['iid'] = interactions_hot_test['item_id'].map(mapping_iid)\n",
        "del mapping_iid\n",
        "\n",
        "print(sorted(interactions_train.iid.unique())[:5])\n",
        "print(sorted(interactions_train.uid.unique())[:5])\n",
        "print(sorted(interactions_hot_test.iid.unique())[:5])\n",
        "print(sorted(interactions_hot_test.uid.unique())[:5])"
      ],
      "metadata": {
        "id": "cmXRkM3Q9_w2"
      },
      "execution_count": null,
      "outputs": []
    },
    {
      "cell_type": "code",
      "source": [
        "iid_to_item_id_train = interactions_train[[\"iid\", \"item_id\"]].drop_duplicates().set_index(\"iid\").to_dict()[\"item_id\"]\n",
        "item_id_to_iid_train = interactions_train[[\"iid\", \"item_id\"]].drop_duplicates().set_index(\"item_id\").to_dict()[\"iid\"]\n",
        "\n",
        "uid_to_user_id_train = interactions_train[[\"uid\", \"user_id\"]].drop_duplicates().set_index(\"uid\").to_dict()[\"user_id\"]\n",
        "user_id_to_uid_train = interactions_train[[\"uid\", \"user_id\"]].drop_duplicates().set_index(\"user_id\").to_dict()[\"uid\"]\n",
        "\n",
        "uid_to_user_id_hot_test = interactions_hot_test[[\"uid\", \"user_id\"]].drop_duplicates().set_index(\"uid\").to_dict()[\"user_id\"]\n",
        "user_id_to_uid_hot_test = interactions_hot_test[[\"uid\", \"user_id\"]].drop_duplicates().set_index(\"user_id\").to_dict()[\"uid\"]"
      ],
      "metadata": {
        "id": "MNuTgc6w-l6g"
      },
      "execution_count": null,
      "outputs": []
    },
    {
      "cell_type": "code",
      "source": [
        "items_ohe_train[\"iid\"] = items_ohe_train[\"item_id\"].apply(lambda x: item_id_to_iid_train[x])\n",
        "items_ohe_train = items_ohe_train.set_index(\"iid\")\n",
        "\n",
        "users_ohe_train[\"uid\"] = users_ohe_train[\"user_id\"].apply(lambda x: user_id_to_uid_train[x])\n",
        "users_ohe_train = users_ohe_train.set_index(\"uid\")\n",
        "\n",
        "users_ohe_hot_test[\"uid\"] = users_ohe_hot_test[\"user_id\"].apply(lambda x: user_id_to_uid_hot_test[x])\n",
        "users_ohe_hot_test = users_ohe_hot_test.set_index(\"uid\")"
      ],
      "metadata": {
        "id": "1yP-9cUA-lyq"
      },
      "execution_count": null,
      "outputs": []
    },
    {
      "cell_type": "code",
      "source": [
        "items_ohe_train.sort_index(inplace=True)\n",
        "users_ohe_train.sort_index(inplace=True)\n",
        "users_ohe_hot_test.sort_index(inplace=True)"
      ],
      "metadata": {
        "id": "oYP-R4m5-lul"
      },
      "execution_count": null,
      "outputs": []
    },
    {
      "cell_type": "code",
      "source": [],
      "metadata": {
        "id": "tWmv4HzV-lrc"
      },
      "execution_count": null,
      "outputs": []
    },
    {
      "cell_type": "code",
      "execution_count": 37,
      "metadata": {
        "id": "7JOz_2BUGuTV"
      },
      "outputs": [],
      "source": [
        "interactions['t_dat'] = pd.to_datetime(interactions['last_watch_dt'], format=\"%Y-%m-%d\")\n",
        "interactions['timestamp'] = interactions.t_dat.values.astype(np.int64) // 10 ** 9"
      ]
    },
    {
      "cell_type": "code",
      "execution_count": 38,
      "metadata": {
        "id": "NL8rDb9nGykj"
      },
      "outputs": [],
      "source": [
        "df = interactions[['user_id', 'item_id', 'timestamp']].rename(\n",
        "    columns={'user_id': 'user_id:token', 'item_id': 'item_id:token', 'timestamp': 'timestamp:float'})"
      ]
    },
    {
      "cell_type": "code",
      "source": [],
      "metadata": {
        "id": "NPKz36cJ-QYA"
      },
      "execution_count": null,
      "outputs": []
    },
    {
      "cell_type": "code",
      "execution_count": 39,
      "metadata": {
        "id": "BYYJalY3G1J2",
        "colab": {
          "base_uri": "https://localhost:8080/"
        },
        "outputId": "69428a57-4293-4163-8e56-656577b52aaa"
      },
      "outputs": [
        {
          "output_type": "stream",
          "name": "stdout",
          "text": [
            "mkdir: cannot create directory ‘recbox_data’: File exists\n"
          ]
        }
      ],
      "source": [
        "!mkdir recbox_data"
      ]
    },
    {
      "cell_type": "code",
      "execution_count": 10,
      "metadata": {
        "id": "alzs6766G1-C"
      },
      "outputs": [],
      "source": [
        "df.to_csv('recbox_data/recbox_data.inter', index=False, sep='\\t')"
      ]
    },
    {
      "cell_type": "code",
      "execution_count": 40,
      "metadata": {
        "id": "NZwy2TATG5eu",
        "colab": {
          "base_uri": "https://localhost:8080/"
        },
        "outputId": "5e7e48e6-2ac4-438b-acc8-9190e9fe3d93"
      },
      "outputs": [
        {
          "output_type": "stream",
          "name": "stderr",
          "text": [
            "WARNING:root:command line args [-f /root/.local/share/jupyter/runtime/kernel-2a9840b7-23cb-44a5-b52a-2d8504614f24.json] will not be used in RecBole\n",
            "command line args [-f /root/.local/share/jupyter/runtime/kernel-2a9840b7-23cb-44a5-b52a-2d8504614f24.json] will not be used in RecBole\n"
          ]
        }
      ],
      "source": [
        "parameter_dict = {\n",
        "    'data_path': '',\n",
        "    'USER_ID_FIELD': 'user_id',\n",
        "    'ITEM_ID_FIELD': 'item_id',\n",
        "    'TIME_FIELD': 'timestamp',\n",
        "    'device': 'GPU',\n",
        "    'user_inter_num_interval': \"[40,inf)\",\n",
        "    'item_inter_num_interval': \"[40,inf)\",\n",
        "    'load_col': {'inter': ['user_id', 'item_id', 'timestamp']},\n",
        "    'neg_sampling': None,\n",
        "    'epochs': 10,\n",
        "    'eval_args': {\n",
        "        'split': {'RS': [9, 0, 1]},\n",
        "        'group_by': 'user',\n",
        "        'order': 'TO',\n",
        "        'mode': 'full'}\n",
        "}\n",
        "config = Config(model='MultiVAE', dataset='recbox_data', config_dict=parameter_dict)\n",
        "\n",
        "# init random seed\n",
        "init_seed(config['seed'], config['reproducibility'])\n",
        "\n",
        "# logger initialization\n",
        "init_logger(config)\n",
        "logger = getLogger()\n",
        "# Create handlers\n",
        "c_handler = logging.StreamHandler()\n",
        "c_handler.setLevel(logging.INFO)\n",
        "logger.addHandler(c_handler)\n",
        "\n",
        "# write config info into log\n",
        "# logger.info(config)"
      ]
    },
    {
      "cell_type": "code",
      "execution_count": 41,
      "metadata": {
        "id": "Yx4poAYEIUd3"
      },
      "outputs": [],
      "source": [
        "dataset = create_dataset(config)\n",
        "logger.info(dataset)"
      ]
    },
    {
      "cell_type": "code",
      "execution_count": 42,
      "metadata": {
        "id": "OoEI-GKRIXR_"
      },
      "outputs": [],
      "source": [
        "# dataset splitting\n",
        "train_data, valid_data, test_data = data_preparation(config, dataset)"
      ]
    },
    {
      "cell_type": "code",
      "execution_count": 14,
      "metadata": {
        "id": "60U1PctyJd-5",
        "colab": {
          "base_uri": "https://localhost:8080/",
          "height": 1000
        },
        "outputId": "72553364-468c-4243-cef7-6af1ade5fa2e"
      },
      "outputs": [
        {
          "output_type": "stream",
          "name": "stdout",
          "text": [
            "Running MultiVAE...\n"
          ]
        },
        {
          "output_type": "stream",
          "name": "stderr",
          "text": [
            "WARNING:root:command line args [-f /root/.local/share/jupyter/runtime/kernel-78e4b8d9-24ce-4fb7-960c-f0cc1344211a.json] will not be used in RecBole\n",
            "command line args [-f /root/.local/share/jupyter/runtime/kernel-78e4b8d9-24ce-4fb7-960c-f0cc1344211a.json] will not be used in RecBole\n",
            "WARNING:root:Max value of user's history interaction records has reached 20.9471766848816% of the total.\n",
            "Max value of user's history interaction records has reached 20.9471766848816% of the total.\n",
            "Train     0: 100%|████████████████████████████████████████████████████| 7/7 [00:06<00:00,  1.14it/s]\n",
            "Train     1: 100%|████████████████████████████████████████████████████| 7/7 [00:07<00:00,  1.03s/it]\n",
            "Train     2: 100%|████████████████████████████████████████████████████| 7/7 [00:05<00:00,  1.17it/s]\n",
            "Train     3: 100%|████████████████████████████████████████████████████| 7/7 [00:06<00:00,  1.00it/s]\n",
            "Train     4: 100%|████████████████████████████████████████████████████| 7/7 [00:06<00:00,  1.07it/s]\n",
            "Train     5: 100%|████████████████████████████████████████████████████| 7/7 [00:07<00:00,  1.03s/it]\n",
            "Train     6: 100%|████████████████████████████████████████████████████| 7/7 [00:05<00:00,  1.18it/s]\n",
            "Train     7: 100%|████████████████████████████████████████████████████| 7/7 [00:07<00:00,  1.05s/it]\n",
            "Train     8: 100%|████████████████████████████████████████████████████| 7/7 [00:05<00:00,  1.17it/s]\n",
            "Train     9: 100%|████████████████████████████████████████████████████| 7/7 [00:07<00:00,  1.04s/it]\n",
            "Evaluate   : 100%|███████████████████████████████████████████| 13354/13354 [00:40<00:00, 328.91it/s]\n"
          ]
        },
        {
          "output_type": "stream",
          "name": "stdout",
          "text": [
            "MultiVAE took 2.85 mins\n",
            "{'best_valid_score': -inf, 'valid_score_bigger': True, 'best_valid_result': None, 'test_result': OrderedDict([('recall@10', 0.084), ('mrr@10', 0.1695), ('ndcg@10', 0.0825), ('hit@10', 0.3503), ('precision@10', 0.0467)])}\n",
            "Running MultiDAE...\n"
          ]
        },
        {
          "output_type": "stream",
          "name": "stderr",
          "text": [
            "WARNING:root:command line args [-f /root/.local/share/jupyter/runtime/kernel-78e4b8d9-24ce-4fb7-960c-f0cc1344211a.json] will not be used in RecBole\n",
            "command line args [-f /root/.local/share/jupyter/runtime/kernel-78e4b8d9-24ce-4fb7-960c-f0cc1344211a.json] will not be used in RecBole\n",
            "WARNING:root:Max value of user's history interaction records has reached 20.9471766848816% of the total.\n",
            "Max value of user's history interaction records has reached 20.9471766848816% of the total.\n",
            "Train     0: 100%|████████████████████████████████████████████████████| 7/7 [00:06<00:00,  1.11it/s]\n",
            "Train     1: 100%|████████████████████████████████████████████████████| 7/7 [00:06<00:00,  1.08it/s]\n",
            "Train     2: 100%|████████████████████████████████████████████████████| 7/7 [00:05<00:00,  1.19it/s]\n",
            "Train     3: 100%|████████████████████████████████████████████████████| 7/7 [00:06<00:00,  1.03it/s]\n",
            "Train     4: 100%|████████████████████████████████████████████████████| 7/7 [00:05<00:00,  1.21it/s]\n",
            "Train     5: 100%|████████████████████████████████████████████████████| 7/7 [00:07<00:00,  1.00s/it]\n",
            "Train     6: 100%|████████████████████████████████████████████████████| 7/7 [00:05<00:00,  1.23it/s]\n",
            "Train     7: 100%|████████████████████████████████████████████████████| 7/7 [00:07<00:00,  1.01s/it]\n",
            "Train     8: 100%|████████████████████████████████████████████████████| 7/7 [00:05<00:00,  1.22it/s]\n",
            "Train     9: 100%|████████████████████████████████████████████████████| 7/7 [00:07<00:00,  1.01s/it]\n",
            "Evaluate   : 100%|███████████████████████████████████████████| 13354/13354 [00:44<00:00, 296.89it/s]\n"
          ]
        },
        {
          "output_type": "stream",
          "name": "stdout",
          "text": [
            "MultiDAE took 2.77 mins\n",
            "{'best_valid_score': -inf, 'valid_score_bigger': True, 'best_valid_result': None, 'test_result': OrderedDict([('recall@10', 0.0829), ('mrr@10', 0.1655), ('ndcg@10', 0.081), ('hit@10', 0.3438), ('precision@10', 0.0459)])}\n",
            "Running MacridVAE...\n"
          ]
        },
        {
          "output_type": "stream",
          "name": "stderr",
          "text": [
            "WARNING:root:command line args [-f /root/.local/share/jupyter/runtime/kernel-78e4b8d9-24ce-4fb7-960c-f0cc1344211a.json] will not be used in RecBole\n",
            "command line args [-f /root/.local/share/jupyter/runtime/kernel-78e4b8d9-24ce-4fb7-960c-f0cc1344211a.json] will not be used in RecBole\n",
            "WARNING:root:Max value of user's history interaction records has reached 20.9471766848816% of the total.\n",
            "Max value of user's history interaction records has reached 20.9471766848816% of the total.\n",
            "Train     0: 100%|████████████████████████████████████████████████████| 7/7 [00:52<00:00,  7.53s/it]\n",
            "Train     1: 100%|████████████████████████████████████████████████████| 7/7 [00:50<00:00,  7.21s/it]\n",
            "Train     2: 100%|████████████████████████████████████████████████████| 7/7 [00:49<00:00,  7.12s/it]\n",
            "Train     3: 100%|████████████████████████████████████████████████████| 7/7 [00:48<00:00,  6.90s/it]\n",
            "Train     4: 100%|████████████████████████████████████████████████████| 7/7 [00:52<00:00,  7.45s/it]\n",
            "Train     5: 100%|████████████████████████████████████████████████████| 7/7 [01:00<00:00,  8.59s/it]\n",
            "Train     6: 100%|████████████████████████████████████████████████████| 7/7 [00:48<00:00,  6.94s/it]\n",
            "Train     7: 100%|████████████████████████████████████████████████████| 7/7 [00:52<00:00,  7.48s/it]\n",
            "Train     8: 100%|████████████████████████████████████████████████████| 7/7 [00:49<00:00,  7.07s/it]\n",
            "Train     9: 100%|████████████████████████████████████████████████████| 7/7 [00:48<00:00,  6.94s/it]\n",
            "Evaluate   : 100%|████████████████████████████████████████████| 13354/13354 [03:03<00:00, 72.85it/s]\n"
          ]
        },
        {
          "output_type": "stream",
          "name": "stdout",
          "text": [
            "MacridVAE took 12.60 mins\n",
            "{'best_valid_score': -inf, 'valid_score_bigger': True, 'best_valid_result': None, 'test_result': OrderedDict([('recall@10', 0.0835), ('mrr@10', 0.1574), ('ndcg@10', 0.0788), ('hit@10', 0.3499), ('precision@10', 0.0461)])}\n",
            "Running BPR...\n"
          ]
        },
        {
          "output_type": "stream",
          "name": "stderr",
          "text": [
            "WARNING:root:command line args [-f /root/.local/share/jupyter/runtime/kernel-78e4b8d9-24ce-4fb7-960c-f0cc1344211a.json] will not be used in RecBole\n",
            "command line args [-f /root/.local/share/jupyter/runtime/kernel-78e4b8d9-24ce-4fb7-960c-f0cc1344211a.json] will not be used in RecBole\n",
            "Train     0: 100%|████████████████████████████████████████████████| 378/378 [00:12<00:00, 30.09it/s]\n",
            "Train     1: 100%|████████████████████████████████████████████████| 378/378 [00:12<00:00, 30.21it/s]\n",
            "Train     2: 100%|████████████████████████████████████████████████| 378/378 [00:12<00:00, 29.94it/s]\n",
            "Train     3: 100%|████████████████████████████████████████████████| 378/378 [00:12<00:00, 30.01it/s]\n",
            "Train     4: 100%|████████████████████████████████████████████████| 378/378 [00:12<00:00, 30.04it/s]\n",
            "Train     5: 100%|████████████████████████████████████████████████| 378/378 [00:12<00:00, 30.02it/s]\n",
            "Train     6: 100%|████████████████████████████████████████████████| 378/378 [00:12<00:00, 29.98it/s]\n",
            "Train     7: 100%|████████████████████████████████████████████████| 378/378 [00:14<00:00, 25.87it/s]\n",
            "Train     8: 100%|████████████████████████████████████████████████| 378/378 [00:12<00:00, 29.96it/s]\n",
            "Train     9: 100%|████████████████████████████████████████████████| 378/378 [00:12<00:00, 30.74it/s]\n",
            "Evaluate   : 100%|██████████████████████████████████████████| 13354/13354 [00:09<00:00, 1353.56it/s]\n"
          ]
        },
        {
          "output_type": "stream",
          "name": "stdout",
          "text": [
            "BPR took 3.27 mins\n",
            "{'best_valid_score': -inf, 'valid_score_bigger': True, 'best_valid_result': None, 'test_result': OrderedDict([('recall@10', 0.0824), ('mrr@10', 0.1716), ('ndcg@10', 0.0819), ('hit@10', 0.3479), ('precision@10', 0.0457)])}\n",
            "Running NeuMF...\n"
          ]
        },
        {
          "output_type": "stream",
          "name": "stderr",
          "text": [
            "WARNING:root:command line args [-f /root/.local/share/jupyter/runtime/kernel-78e4b8d9-24ce-4fb7-960c-f0cc1344211a.json] will not be used in RecBole\n",
            "command line args [-f /root/.local/share/jupyter/runtime/kernel-78e4b8d9-24ce-4fb7-960c-f0cc1344211a.json] will not be used in RecBole\n",
            "Train     0: 100%|████████████████████████████████████████████████| 755/755 [00:48<00:00, 15.67it/s]\n",
            "Train     1: 100%|████████████████████████████████████████████████| 755/755 [00:49<00:00, 15.32it/s]\n",
            "Train     2: 100%|████████████████████████████████████████████████| 755/755 [00:48<00:00, 15.61it/s]\n",
            "Train     3: 100%|████████████████████████████████████████████████| 755/755 [00:49<00:00, 15.39it/s]\n",
            "Train     4: 100%|████████████████████████████████████████████████| 755/755 [00:55<00:00, 13.61it/s]\n",
            "Train     5: 100%|████████████████████████████████████████████████| 755/755 [00:48<00:00, 15.66it/s]\n",
            "Train     6: 100%|████████████████████████████████████████████████| 755/755 [00:49<00:00, 15.19it/s]\n",
            "Train     7: 100%|████████████████████████████████████████████████| 755/755 [00:50<00:00, 14.81it/s]\n",
            "Train     8: 100%|████████████████████████████████████████████████| 755/755 [00:50<00:00, 15.06it/s]\n",
            "Train     9: 100%|████████████████████████████████████████████████| 755/755 [00:49<00:00, 15.16it/s]\n",
            "Evaluate   : 100%|███████████████████████████████████████████| 13354/13354 [01:47<00:00, 124.71it/s]\n"
          ]
        },
        {
          "output_type": "stream",
          "name": "stdout",
          "text": [
            "NeuMF took 11.08 mins\n",
            "{'best_valid_score': -inf, 'valid_score_bigger': True, 'best_valid_result': None, 'test_result': OrderedDict([('recall@10', 0.069), ('mrr@10', 0.1173), ('ndcg@10', 0.0605), ('hit@10', 0.3009), ('precision@10', 0.0381)])}\n",
            "Running RecVAE...\n"
          ]
        },
        {
          "output_type": "stream",
          "name": "stderr",
          "text": [
            "WARNING:root:command line args [-f /root/.local/share/jupyter/runtime/kernel-78e4b8d9-24ce-4fb7-960c-f0cc1344211a.json] will not be used in RecBole\n",
            "command line args [-f /root/.local/share/jupyter/runtime/kernel-78e4b8d9-24ce-4fb7-960c-f0cc1344211a.json] will not be used in RecBole\n",
            "WARNING:root:Max value of user's history interaction records has reached 20.9471766848816% of the total.\n",
            "Max value of user's history interaction records has reached 20.9471766848816% of the total.\n",
            "Train     0: 100%|████████████████████████████████████████████████████| 7/7 [00:11<00:00,  1.62s/it]\n",
            "Train     0: 100%|████████████████████████████████████████████████████| 7/7 [00:11<00:00,  1.60s/it]\n",
            "Train     0: 100%|████████████████████████████████████████████████████| 7/7 [00:11<00:00,  1.60s/it]\n",
            "Train     0: 100%|████████████████████████████████████████████████████| 7/7 [00:10<00:00,  1.49s/it]\n",
            "Train     1: 100%|████████████████████████████████████████████████████| 7/7 [00:10<00:00,  1.51s/it]\n",
            "Train     1: 100%|████████████████████████████████████████████████████| 7/7 [00:11<00:00,  1.61s/it]\n",
            "Train     1: 100%|████████████████████████████████████████████████████| 7/7 [00:11<00:00,  1.62s/it]\n",
            "Train     1: 100%|████████████████████████████████████████████████████| 7/7 [00:10<00:00,  1.57s/it]\n",
            "Train     2: 100%|████████████████████████████████████████████████████| 7/7 [00:11<00:00,  1.61s/it]\n",
            "Train     2: 100%|████████████████████████████████████████████████████| 7/7 [00:10<00:00,  1.44s/it]\n",
            "Train     2: 100%|████████████████████████████████████████████████████| 7/7 [00:11<00:00,  1.59s/it]\n",
            "Train     2: 100%|████████████████████████████████████████████████████| 7/7 [00:11<00:00,  1.58s/it]\n",
            "Train     3: 100%|████████████████████████████████████████████████████| 7/7 [00:13<00:00,  1.92s/it]\n",
            "Train     3: 100%|████████████████████████████████████████████████████| 7/7 [00:13<00:00,  1.92s/it]\n",
            "Train     3: 100%|████████████████████████████████████████████████████| 7/7 [00:11<00:00,  1.62s/it]\n",
            "Train     3: 100%|████████████████████████████████████████████████████| 7/7 [00:10<00:00,  1.45s/it]\n",
            "Train     4: 100%|████████████████████████████████████████████████████| 7/7 [00:10<00:00,  1.55s/it]\n",
            "Train     4: 100%|████████████████████████████████████████████████████| 7/7 [00:11<00:00,  1.61s/it]\n",
            "Train     4: 100%|████████████████████████████████████████████████████| 7/7 [00:11<00:00,  1.60s/it]\n",
            "Train     4: 100%|████████████████████████████████████████████████████| 7/7 [00:10<00:00,  1.57s/it]\n",
            "Train     5: 100%|████████████████████████████████████████████████████| 7/7 [00:11<00:00,  1.57s/it]\n",
            "Train     5: 100%|████████████████████████████████████████████████████| 7/7 [00:10<00:00,  1.46s/it]\n",
            "Train     5: 100%|████████████████████████████████████████████████████| 7/7 [00:11<00:00,  1.60s/it]\n",
            "Train     5: 100%|████████████████████████████████████████████████████| 7/7 [00:10<00:00,  1.56s/it]\n",
            "Train     6: 100%|████████████████████████████████████████████████████| 7/7 [00:11<00:00,  1.60s/it]\n",
            "Train     6: 100%|████████████████████████████████████████████████████| 7/7 [00:11<00:00,  1.60s/it]\n",
            "Train     6: 100%|████████████████████████████████████████████████████| 7/7 [00:10<00:00,  1.45s/it]\n",
            "Train     6: 100%|████████████████████████████████████████████████████| 7/7 [00:10<00:00,  1.53s/it]\n",
            "Train     7: 100%|████████████████████████████████████████████████████| 7/7 [00:11<00:00,  1.60s/it]\n",
            "Train     7: 100%|████████████████████████████████████████████████████| 7/7 [00:11<00:00,  1.59s/it]\n",
            "Train     7: 100%|████████████████████████████████████████████████████| 7/7 [00:11<00:00,  1.60s/it]\n",
            "Train     7: 100%|████████████████████████████████████████████████████| 7/7 [00:10<00:00,  1.48s/it]\n",
            "Train     8: 100%|████████████████████████████████████████████████████| 7/7 [00:10<00:00,  1.48s/it]\n",
            "Train     8: 100%|████████████████████████████████████████████████████| 7/7 [00:11<00:00,  1.60s/it]\n",
            "Train     8: 100%|████████████████████████████████████████████████████| 7/7 [00:11<00:00,  1.60s/it]\n",
            "Train     8: 100%|████████████████████████████████████████████████████| 7/7 [00:10<00:00,  1.56s/it]\n",
            "Train     9: 100%|████████████████████████████████████████████████████| 7/7 [00:11<00:00,  1.59s/it]\n",
            "Train     9: 100%|████████████████████████████████████████████████████| 7/7 [00:09<00:00,  1.43s/it]\n",
            "Train     9: 100%|████████████████████████████████████████████████████| 7/7 [00:11<00:00,  1.60s/it]\n",
            "Train     9: 100%|████████████████████████████████████████████████████| 7/7 [00:11<00:00,  1.57s/it]\n",
            "Evaluate   : 100%|███████████████████████████████████████████| 13354/13354 [00:52<00:00, 256.75it/s]\n"
          ]
        },
        {
          "output_type": "stream",
          "name": "stdout",
          "text": [
            "RecVAE took 9.29 mins\n",
            "{'best_valid_score': -inf, 'valid_score_bigger': True, 'best_valid_result': None, 'test_result': OrderedDict([('recall@10', 0.0849), ('mrr@10', 0.1697), ('ndcg@10', 0.0828), ('hit@10', 0.3532), ('precision@10', 0.047)])}\n",
            "Running RepeatNet...\n"
          ]
        },
        {
          "output_type": "stream",
          "name": "stderr",
          "text": [
            "WARNING:root:command line args [-f /root/.local/share/jupyter/runtime/kernel-78e4b8d9-24ce-4fb7-960c-f0cc1344211a.json] will not be used in RecBole\n",
            "command line args [-f /root/.local/share/jupyter/runtime/kernel-78e4b8d9-24ce-4fb7-960c-f0cc1344211a.json] will not be used in RecBole\n",
            "Train     0:  19%|████████▌                                     | 138/743 [14:46<1:04:47,  6.42s/it]\n"
          ]
        },
        {
          "output_type": "error",
          "ename": "KeyboardInterrupt",
          "evalue": "ignored",
          "traceback": [
            "\u001b[0;31m---------------------------------------------------------------------------\u001b[0m",
            "\u001b[0;31mKeyboardInterrupt\u001b[0m                         Traceback (most recent call last)",
            "\u001b[0;32m<ipython-input-14-4f2c38d26538>\u001b[0m in \u001b[0;36m<cell line: 6>\u001b[0;34m()\u001b[0m\n\u001b[1;32m      9\u001b[0m \u001b[0;34m\u001b[0m\u001b[0m\n\u001b[1;32m     10\u001b[0m     \u001b[0;31m# Run RecBole with the specified model\u001b[0m\u001b[0;34m\u001b[0m\u001b[0;34m\u001b[0m\u001b[0m\n\u001b[0;32m---> 11\u001b[0;31m     \u001b[0mresult\u001b[0m \u001b[0;34m=\u001b[0m \u001b[0mrun_recbole\u001b[0m\u001b[0;34m(\u001b[0m\u001b[0mmodel\u001b[0m\u001b[0;34m=\u001b[0m\u001b[0mmodel_name\u001b[0m\u001b[0;34m,\u001b[0m \u001b[0mdataset\u001b[0m\u001b[0;34m=\u001b[0m\u001b[0;34m\"recbox_data\"\u001b[0m\u001b[0;34m,\u001b[0m \u001b[0mconfig_dict\u001b[0m\u001b[0;34m=\u001b[0m\u001b[0mparameter_dict\u001b[0m\u001b[0;34m)\u001b[0m\u001b[0;34m\u001b[0m\u001b[0;34m\u001b[0m\u001b[0m\n\u001b[0m\u001b[1;32m     12\u001b[0m \u001b[0;34m\u001b[0m\u001b[0m\n\u001b[1;32m     13\u001b[0m     \u001b[0melapsed_time\u001b[0m \u001b[0;34m=\u001b[0m \u001b[0mtime\u001b[0m\u001b[0;34m.\u001b[0m\u001b[0mtime\u001b[0m\u001b[0;34m(\u001b[0m\u001b[0;34m)\u001b[0m \u001b[0;34m-\u001b[0m \u001b[0mstart_time\u001b[0m\u001b[0;34m\u001b[0m\u001b[0;34m\u001b[0m\u001b[0m\n",
            "\u001b[0;32m/usr/local/lib/python3.10/dist-packages/recbole/quick_start/quick_start.py\u001b[0m in \u001b[0;36mrun_recbole\u001b[0;34m(model, dataset, config_file_list, config_dict, saved, queue)\u001b[0m\n\u001b[1;32m    146\u001b[0m \u001b[0;34m\u001b[0m\u001b[0m\n\u001b[1;32m    147\u001b[0m     \u001b[0;31m# model training\u001b[0m\u001b[0;34m\u001b[0m\u001b[0;34m\u001b[0m\u001b[0m\n\u001b[0;32m--> 148\u001b[0;31m     best_valid_score, best_valid_result = trainer.fit(\n\u001b[0m\u001b[1;32m    149\u001b[0m         \u001b[0mtrain_data\u001b[0m\u001b[0;34m,\u001b[0m \u001b[0mvalid_data\u001b[0m\u001b[0;34m,\u001b[0m \u001b[0msaved\u001b[0m\u001b[0;34m=\u001b[0m\u001b[0msaved\u001b[0m\u001b[0;34m,\u001b[0m \u001b[0mshow_progress\u001b[0m\u001b[0;34m=\u001b[0m\u001b[0mconfig\u001b[0m\u001b[0;34m[\u001b[0m\u001b[0;34m\"show_progress\"\u001b[0m\u001b[0;34m]\u001b[0m\u001b[0;34m\u001b[0m\u001b[0;34m\u001b[0m\u001b[0m\n\u001b[1;32m    150\u001b[0m     )\n",
            "\u001b[0;32m/usr/local/lib/python3.10/dist-packages/recbole/trainer/trainer.py\u001b[0m in \u001b[0;36mfit\u001b[0;34m(self, train_data, valid_data, verbose, saved, show_progress, callback_fn)\u001b[0m\n\u001b[1;32m    437\u001b[0m             \u001b[0;31m# train\u001b[0m\u001b[0;34m\u001b[0m\u001b[0;34m\u001b[0m\u001b[0m\n\u001b[1;32m    438\u001b[0m             \u001b[0mtraining_start_time\u001b[0m \u001b[0;34m=\u001b[0m \u001b[0mtime\u001b[0m\u001b[0;34m(\u001b[0m\u001b[0;34m)\u001b[0m\u001b[0;34m\u001b[0m\u001b[0;34m\u001b[0m\u001b[0m\n\u001b[0;32m--> 439\u001b[0;31m             train_loss = self._train_epoch(\n\u001b[0m\u001b[1;32m    440\u001b[0m                 \u001b[0mtrain_data\u001b[0m\u001b[0;34m,\u001b[0m \u001b[0mepoch_idx\u001b[0m\u001b[0;34m,\u001b[0m \u001b[0mshow_progress\u001b[0m\u001b[0;34m=\u001b[0m\u001b[0mshow_progress\u001b[0m\u001b[0;34m\u001b[0m\u001b[0;34m\u001b[0m\u001b[0m\n\u001b[1;32m    441\u001b[0m             )\n",
            "\u001b[0;32m/usr/local/lib/python3.10/dist-packages/recbole/trainer/trainer.py\u001b[0m in \u001b[0;36m_train_epoch\u001b[0;34m(self, train_data, epoch_idx, loss_func, show_progress)\u001b[0m\n\u001b[1;32m    259\u001b[0m                 )\n\u001b[1;32m    260\u001b[0m             \u001b[0mself\u001b[0m\u001b[0;34m.\u001b[0m\u001b[0m_check_nan\u001b[0m\u001b[0;34m(\u001b[0m\u001b[0mloss\u001b[0m\u001b[0;34m)\u001b[0m\u001b[0;34m\u001b[0m\u001b[0;34m\u001b[0m\u001b[0m\n\u001b[0;32m--> 261\u001b[0;31m             \u001b[0mscaler\u001b[0m\u001b[0;34m.\u001b[0m\u001b[0mscale\u001b[0m\u001b[0;34m(\u001b[0m\u001b[0mloss\u001b[0m \u001b[0;34m+\u001b[0m \u001b[0msync_loss\u001b[0m\u001b[0;34m)\u001b[0m\u001b[0;34m.\u001b[0m\u001b[0mbackward\u001b[0m\u001b[0;34m(\u001b[0m\u001b[0;34m)\u001b[0m\u001b[0;34m\u001b[0m\u001b[0;34m\u001b[0m\u001b[0m\n\u001b[0m\u001b[1;32m    262\u001b[0m             \u001b[0;32mif\u001b[0m \u001b[0mself\u001b[0m\u001b[0;34m.\u001b[0m\u001b[0mclip_grad_norm\u001b[0m\u001b[0;34m:\u001b[0m\u001b[0;34m\u001b[0m\u001b[0;34m\u001b[0m\u001b[0m\n\u001b[1;32m    263\u001b[0m                 \u001b[0mclip_grad_norm_\u001b[0m\u001b[0;34m(\u001b[0m\u001b[0mself\u001b[0m\u001b[0;34m.\u001b[0m\u001b[0mmodel\u001b[0m\u001b[0;34m.\u001b[0m\u001b[0mparameters\u001b[0m\u001b[0;34m(\u001b[0m\u001b[0;34m)\u001b[0m\u001b[0;34m,\u001b[0m \u001b[0;34m**\u001b[0m\u001b[0mself\u001b[0m\u001b[0;34m.\u001b[0m\u001b[0mclip_grad_norm\u001b[0m\u001b[0;34m)\u001b[0m\u001b[0;34m\u001b[0m\u001b[0;34m\u001b[0m\u001b[0m\n",
            "\u001b[0;32m/usr/local/lib/python3.10/dist-packages/torch/_tensor.py\u001b[0m in \u001b[0;36mbackward\u001b[0;34m(self, gradient, retain_graph, create_graph, inputs)\u001b[0m\n\u001b[1;32m    490\u001b[0m                 \u001b[0minputs\u001b[0m\u001b[0;34m=\u001b[0m\u001b[0minputs\u001b[0m\u001b[0;34m,\u001b[0m\u001b[0;34m\u001b[0m\u001b[0;34m\u001b[0m\u001b[0m\n\u001b[1;32m    491\u001b[0m             )\n\u001b[0;32m--> 492\u001b[0;31m         torch.autograd.backward(\n\u001b[0m\u001b[1;32m    493\u001b[0m             \u001b[0mself\u001b[0m\u001b[0;34m,\u001b[0m \u001b[0mgradient\u001b[0m\u001b[0;34m,\u001b[0m \u001b[0mretain_graph\u001b[0m\u001b[0;34m,\u001b[0m \u001b[0mcreate_graph\u001b[0m\u001b[0;34m,\u001b[0m \u001b[0minputs\u001b[0m\u001b[0;34m=\u001b[0m\u001b[0minputs\u001b[0m\u001b[0;34m\u001b[0m\u001b[0;34m\u001b[0m\u001b[0m\n\u001b[1;32m    494\u001b[0m         )\n",
            "\u001b[0;32m/usr/local/lib/python3.10/dist-packages/torch/autograd/__init__.py\u001b[0m in \u001b[0;36mbackward\u001b[0;34m(tensors, grad_tensors, retain_graph, create_graph, grad_variables, inputs)\u001b[0m\n\u001b[1;32m    249\u001b[0m     \u001b[0;31m# some Python versions print out the first line of a multi-line function\u001b[0m\u001b[0;34m\u001b[0m\u001b[0;34m\u001b[0m\u001b[0m\n\u001b[1;32m    250\u001b[0m     \u001b[0;31m# calls in the traceback and some print out the last line\u001b[0m\u001b[0;34m\u001b[0m\u001b[0;34m\u001b[0m\u001b[0m\n\u001b[0;32m--> 251\u001b[0;31m     Variable._execution_engine.run_backward(  # Calls into the C++ engine to run the backward pass\n\u001b[0m\u001b[1;32m    252\u001b[0m         \u001b[0mtensors\u001b[0m\u001b[0;34m,\u001b[0m\u001b[0;34m\u001b[0m\u001b[0;34m\u001b[0m\u001b[0m\n\u001b[1;32m    253\u001b[0m         \u001b[0mgrad_tensors_\u001b[0m\u001b[0;34m,\u001b[0m\u001b[0;34m\u001b[0m\u001b[0;34m\u001b[0m\u001b[0m\n",
            "\u001b[0;31mKeyboardInterrupt\u001b[0m: "
          ]
        }
      ],
      "source": [
        "import time\n",
        "from recbole.quick_start import run_recbole\n",
        "\n",
        "model_list = ['MultiVAE', 'MultiDAE', 'MacridVAE',\"BPR\", \"NeuMF\",\"RecVAE\", 'RepeatNet', \"LightGCN\"]  # Added other models\n",
        "\n",
        "for model_name in model_list:\n",
        "    print(f\"Running {model_name}...\")\n",
        "    start_time = time.time()\n",
        "\n",
        "    # Run RecBole with the specified model\n",
        "    result = run_recbole(model=model_name, dataset=\"recbox_data\", config_dict=parameter_dict)\n",
        "\n",
        "    elapsed_time = time.time() - start_time\n",
        "    print(f\"{model_name} took {elapsed_time / 60:.2f} mins\")\n",
        "    print(result)\n"
      ]
    },
    {
      "cell_type": "markdown",
      "metadata": {
        "id": "u-Ft7wXmFRyA"
      },
      "source": [
        "# Kyboard stoped cause it was taking too much time"
      ]
    },
    {
      "cell_type": "markdown",
      "metadata": {
        "id": "4BZMoU_fFeEa"
      },
      "source": [
        "Choosed MultiVAE"
      ]
    },
    {
      "cell_type": "code",
      "execution_count": 43,
      "metadata": {
        "id": "ReErRmpr6jEo",
        "colab": {
          "base_uri": "https://localhost:8080/"
        },
        "outputId": "0944a61c-b634-4bb4-be52-232a77fc7083"
      },
      "outputs": [
        {
          "output_type": "stream",
          "name": "stderr",
          "text": [
            "WARNING:root:command line args [-f /root/.local/share/jupyter/runtime/kernel-2a9840b7-23cb-44a5-b52a-2d8504614f24.json] will not be used in RecBole\n",
            "command line args [-f /root/.local/share/jupyter/runtime/kernel-2a9840b7-23cb-44a5-b52a-2d8504614f24.json] will not be used in RecBole\n",
            "command line args [-f /root/.local/share/jupyter/runtime/kernel-2a9840b7-23cb-44a5-b52a-2d8504614f24.json] will not be used in RecBole\n",
            "WARNING:root:Max value of user's history interaction records has reached 20.9471766848816% of the total.\n",
            "Max value of user's history interaction records has reached 20.9471766848816% of the total.\n",
            "Max value of user's history interaction records has reached 20.9471766848816% of the total.\n",
            "Train     0: 100%|████████████████████████████████████████████████████| 7/7 [00:05<00:00,  1.23it/s]\n",
            "Train     1: 100%|████████████████████████████████████████████████████| 7/7 [00:06<00:00,  1.01it/s]\n",
            "Train     2: 100%|████████████████████████████████████████████████████| 7/7 [00:05<00:00,  1.23it/s]\n",
            "Train     3: 100%|████████████████████████████████████████████████████| 7/7 [00:06<00:00,  1.01it/s]\n",
            "Train     4: 100%|████████████████████████████████████████████████████| 7/7 [00:05<00:00,  1.21it/s]\n",
            "Train     5: 100%|████████████████████████████████████████████████████| 7/7 [00:06<00:00,  1.01it/s]\n",
            "Train     6: 100%|████████████████████████████████████████████████████| 7/7 [00:05<00:00,  1.23it/s]\n",
            "Train     7: 100%|████████████████████████████████████████████████████| 7/7 [00:06<00:00,  1.01it/s]\n",
            "Train     8: 100%|████████████████████████████████████████████████████| 7/7 [00:05<00:00,  1.23it/s]\n",
            "Train     9: 100%|████████████████████████████████████████████████████| 7/7 [00:06<00:00,  1.01it/s]\n",
            "Evaluate   : 100%|███████████████████████████████████████████| 13354/13354 [00:32<00:00, 404.96it/s]\n"
          ]
        }
      ],
      "source": [
        "result = run_recbole(model='MultiVAE', dataset = 'recbox_data',config_dict = parameter_dict )"
      ]
    },
    {
      "cell_type": "code",
      "execution_count": 44,
      "metadata": {
        "colab": {
          "base_uri": "https://localhost:8080/"
        },
        "id": "9Zkks3Sc6yNR",
        "outputId": "af010dbe-a2dd-4603-ade6-a9e3156fd520"
      },
      "outputs": [
        {
          "output_type": "execute_result",
          "data": {
            "text/plain": [
              "{'best_valid_score': -inf,\n",
              " 'valid_score_bigger': True,\n",
              " 'best_valid_result': None,\n",
              " 'test_result': OrderedDict([('recall@10', 0.084),\n",
              "              ('mrr@10', 0.1695),\n",
              "              ('ndcg@10', 0.0825),\n",
              "              ('hit@10', 0.3503),\n",
              "              ('precision@10', 0.0467)])}"
            ]
          },
          "metadata": {},
          "execution_count": 44
        }
      ],
      "source": [
        "result"
      ]
    },
    {
      "cell_type": "code",
      "execution_count": 46,
      "metadata": {
        "colab": {
          "base_uri": "https://localhost:8080/"
        },
        "id": "o8hAzeeO-Z7z",
        "outputId": "2375409a-abb2-46ab-833c-5c14e266b687"
      },
      "outputs": [
        {
          "output_type": "stream",
          "name": "stderr",
          "text": [
            "WARNING:root:Max value of user's history interaction records has reached 23.254401942926535% of the total.\n",
            "Max value of user's history interaction records has reached 23.254401942926535% of the total.\n",
            "Max value of user's history interaction records has reached 23.254401942926535% of the total.\n"
          ]
        }
      ],
      "source": [
        "# After trained model 'model' and configuration 'config'\n",
        "# Save the model state dictionary and other necessary information\n",
        "\n",
        "model = MultiVAE(config, dataset)\n",
        "torch.save({\n",
        "    'state_dict': model.state_dict(),\n",
        "    'config': config\n",
        "}, 'recbole.pth')"
      ]
    },
    {
      "cell_type": "code",
      "execution_count": 47,
      "metadata": {
        "colab": {
          "base_uri": "https://localhost:8080/"
        },
        "id": "zVVQZIT3BBnd",
        "outputId": "47cb9be3-0aa8-40cf-9343-43ea62672e24"
      },
      "outputs": [
        {
          "output_type": "execute_result",
          "data": {
            "text/plain": [
              "<All keys matched successfully>"
            ]
          },
          "metadata": {},
          "execution_count": 47
        }
      ],
      "source": [
        "# Load model and optimizer state dictionaries\n",
        "# model = MultiVAE(config, dataset)\n",
        "checkpoint = torch.load('recbole.pth')\n",
        "model.load_state_dict(checkpoint['state_dict'])\n"
      ]
    },
    {
      "cell_type": "code",
      "execution_count": 50,
      "metadata": {
        "id": "c5jqym3BBwwG"
      },
      "outputs": [],
      "source": [
        "import numpy as np\n",
        "\n",
        "def recommend_items_to_user(external_user_id, dataset, model):\n",
        "    if external_user_id in dataset.field2token_id[dataset.uid_field] and external_user_id != \"[PAD]\":\n",
        "        # Map external user ID to internal user index\n",
        "        internal_user_index = dataset.field2token_id[dataset.uid_field][external_user_id]\n",
        "\n",
        "        # Extract user metadata features and interaction vector\n",
        "        user_metadata_features = dataset.users_ohe.drop([\"user_id\"], axis=1).iloc[internal_user_index]\n",
        "        user_interaction_vector = dataset.interactions_vec[internal_user_index]\n",
        "\n",
        "        # Predict user vector using the trained user-to-vector model\n",
        "        user_vector = dataset.u2v.predict(\n",
        "            [np.array(user_metadata_features).reshape(1, -1), np.array(user_interaction_vector).reshape(1, -1)],\n",
        "            verbose=False,\n",
        "        )\n",
        "\n",
        "        # Instead of calculating distance for all items, just select a random subset\n",
        "        sampled_item_indices = np.random.choice(dataset.item_embeddings.shape[0], size=100, replace=False)\n",
        "        sampled_item_embeddings = dataset.item_embeddings[sampled_item_indices, :]\n",
        "\n",
        "        # Calculate distances between the user vector and sampled item embeddings\n",
        "        distances = np.linalg.norm(user_vector - sampled_item_embeddings, axis=1)\n",
        "\n",
        "        # Get the indices of the top 10 items from the sampled set\n",
        "        topn_item_indices_sampled = np.argsort(distances)[:10]\n",
        "\n",
        "        # Map internal item indices to item_ids\n",
        "        topn_item_ids = [dataset.iid_to_item_id[iid] for iid in topn_item_indices_sampled]\n",
        "\n",
        "        return topn_item_ids\n",
        "\n",
        "    return []"
      ]
    },
    {
      "cell_type": "code",
      "execution_count": null,
      "metadata": {
        "id": "b22qkfJ_Cbri"
      },
      "outputs": [],
      "source": [
        "recos = {}\n",
        "users = dataset.field2token_id[dataset.uid_field]\n",
        "for user_id in users:\n",
        "    recommended_items = recommend_items_to_user(user_id, dataset, model)\n",
        "    if recommended_items:\n",
        "        recos[user_id] = recommended_items\n",
        ""
      ]
    },
    {
      "cell_type": "code",
      "source": [
        "# with open(\"recbole_offline.pkl\", \"wb\") as f:\n",
        "#     pickle.dump(recos, f)"
      ],
      "metadata": {
        "id": "OqEdMINepM9a"
      },
      "execution_count": null,
      "outputs": []
    },
    {
      "cell_type": "code",
      "source": [
        "dataset"
      ],
      "metadata": {
        "colab": {
          "base_uri": "https://localhost:8080/"
        },
        "id": "eK07aO9b5GMr",
        "outputId": "12cfcc7e-4455-4512-bb75-5173736c065c"
      },
      "execution_count": 24,
      "outputs": [
        {
          "output_type": "execute_result",
          "data": {
            "text/plain": [
              "\u001b[1;35mrecbox_data\u001b[0m\n",
              "\u001b[1;34mThe number of users\u001b[0m: 13355\n",
              "\u001b[1;34mAverage actions of users\u001b[0m: 63.815710648494836\n",
              "\u001b[1;34mThe number of items\u001b[0m: 3294\n",
              "\u001b[1;34mAverage actions of items\u001b[0m: 258.78985727300335\n",
              "\u001b[1;34mThe number of inters\u001b[0m: 852195\n",
              "\u001b[1;34mThe sparsity of the dataset\u001b[0m: 98.06281322904924%\n",
              "\u001b[1;34mRemain Fields\u001b[0m: ['user_id', 'item_id', 'timestamp']"
            ]
          },
          "metadata": {},
          "execution_count": 24
        }
      ]
    }
  ],
  "metadata": {
    "colab": {
      "provenance": [],
      "include_colab_link": true
    },
    "kernelspec": {
      "display_name": "Python 3",
      "name": "python3"
    },
    "language_info": {
      "name": "python"
    }
  },
  "nbformat": 4,
  "nbformat_minor": 0
}